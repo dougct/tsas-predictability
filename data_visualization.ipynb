{
 "cells": [
  {
   "cell_type": "markdown",
   "metadata": {},
   "source": [
    "# Data Analysis"
   ]
  },
  {
   "cell_type": "markdown",
   "metadata": {},
   "source": [
    "## Setup"
   ]
  },
  {
   "cell_type": "code",
   "execution_count": 226,
   "metadata": {},
   "outputs": [],
   "source": [
    "library(feather)\n",
    "library(tidyverse)\n",
    "library(viridis)\n",
    "library(broom)\n",
    "library(lubridate)\n",
    "library(entropy)"
   ]
  },
  {
   "cell_type": "code",
   "execution_count": 227,
   "metadata": {},
   "outputs": [],
   "source": [
    "df_name <- \"macaco\"\n",
    "df_type <- \"next_cell\"\n",
    "df_path <- paste(\"/data/users_data/douglas/data/\", df_name, \"_tsas_\", df_type, \".tsv\", sep = \"\")"
   ]
  },
  {
   "cell_type": "code",
   "execution_count": 228,
   "metadata": {},
   "outputs": [
    {
     "name": "stderr",
     "output_type": "stream",
     "text": [
      "\n",
      "\u001b[36m--\u001b[39m \u001b[1m\u001b[1mColumn specification\u001b[1m\u001b[22m \u001b[36m--------------------------------------------------------\u001b[39m\n",
      "cols(\n",
      "  .default = col_double(),\n",
      "  device_id = \u001b[31mcol_character()\u001b[39m,\n",
      "  timestamp = \u001b[34mcol_datetime(format = \"\")\u001b[39m\n",
      ")\n",
      "\u001b[36mi\u001b[39m<U+00A0>Use \u001b[30m\u001b[47m\u001b[30m\u001b[47m`spec()`\u001b[47m\u001b[30m\u001b[49m\u001b[39m for the full column specifications.\n",
      "\n"
     ]
    }
   ],
   "source": [
    "df <- read_tsv(df_path, guess_max = 100000)"
   ]
  },
  {
   "cell_type": "markdown",
   "metadata": {},
   "source": [
    "# Data pre-processing"
   ]
  },
  {
   "cell_type": "code",
   "execution_count": 229,
   "metadata": {},
   "outputs": [],
   "source": [
    "# Compute weekday and hour of day as separate columns.\n",
    "df <- df %>%\n",
    "    mutate(wd = as.factor(wday(timestamp)), hd = as.factor(hour(timestamp)))"
   ]
  },
  {
   "cell_type": "code",
   "execution_count": 230,
   "metadata": {},
   "outputs": [],
   "source": [
    "# Change device_ids to start from one.\n",
    "all_levels = unique(c(as.character(df$device_id)))\n",
    "df <- df %>%\n",
    "    mutate(device_id = as.numeric(factor(df$device_id, levels=all_levels)))"
   ]
  },
  {
   "cell_type": "code",
   "execution_count": 231,
   "metadata": {},
   "outputs": [
    {
     "data": {
      "text/html": [
       "<table class=\"dataframe\">\n",
       "<caption>A tibble: 6 × 85</caption>\n",
       "<thead>\n",
       "\t<tr><th scope=col>measurement_id</th><th scope=col>device_id</th><th scope=col>timestamp</th><th scope=col>grid_id</th><th scope=col>grid_id300</th><th scope=col>grid_id400</th><th scope=col>grid_id500</th><th scope=col>grid_id600</th><th scope=col>grid_id700</th><th scope=col>grid_id800</th><th scope=col>⋯</th><th scope=col>entropy_seq_split_weekday</th><th scope=col>entropy_seq_merge_weekday</th><th scope=col>predictability_seq_split_weekday</th><th scope=col>predictability_seq_merge_weekday</th><th scope=col>entropy_seq_split_hourofday</th><th scope=col>entropy_seq_merge_hourofday</th><th scope=col>predictability_seq_split_hourofday</th><th scope=col>predictability_seq_merge_hourofday</th><th scope=col>wd</th><th scope=col>hd</th></tr>\n",
       "\t<tr><th scope=col>&lt;dbl&gt;</th><th scope=col>&lt;dbl&gt;</th><th scope=col>&lt;dttm&gt;</th><th scope=col>&lt;dbl&gt;</th><th scope=col>&lt;dbl&gt;</th><th scope=col>&lt;dbl&gt;</th><th scope=col>&lt;dbl&gt;</th><th scope=col>&lt;dbl&gt;</th><th scope=col>&lt;dbl&gt;</th><th scope=col>&lt;dbl&gt;</th><th scope=col>⋯</th><th scope=col>&lt;dbl&gt;</th><th scope=col>&lt;dbl&gt;</th><th scope=col>&lt;dbl&gt;</th><th scope=col>&lt;dbl&gt;</th><th scope=col>&lt;dbl&gt;</th><th scope=col>&lt;dbl&gt;</th><th scope=col>&lt;dbl&gt;</th><th scope=col>&lt;dbl&gt;</th><th scope=col>&lt;fct&gt;</th><th scope=col>&lt;fct&gt;</th></tr>\n",
       "</thead>\n",
       "<tbody>\n",
       "\t<tr><td>434778</td><td>1</td><td>2015-03-17 11:06:42</td><td>1843891497</td><td>819515606</td><td>460961560</td><td>295014247</td><td>204885107</td><td>150527670</td><td>115245044</td><td>⋯</td><td>0.4487424</td><td>0.4250529</td><td>0.953</td><td>0.956</td><td>0.6196407</td><td>0.6965125</td><td>0.931</td><td>0.92</td><td>3</td><td>11</td></tr>\n",
       "\t<tr><td>434782</td><td>1</td><td>2015-03-17 11:10:43</td><td>1843891497</td><td>819515606</td><td>460961560</td><td>295014247</td><td>204885107</td><td>150527670</td><td>115245044</td><td>⋯</td><td>0.4487424</td><td>0.4250529</td><td>0.953</td><td>0.956</td><td>0.6196407</td><td>0.6965125</td><td>0.931</td><td>0.92</td><td>3</td><td>11</td></tr>\n",
       "\t<tr><td>434783</td><td>1</td><td>2015-03-17 11:11:11</td><td>1843891497</td><td>819515606</td><td>460961560</td><td>295014247</td><td>204885107</td><td>150527670</td><td>115245044</td><td>⋯</td><td>0.4487424</td><td>0.4250529</td><td>0.953</td><td>0.956</td><td>0.6196407</td><td>0.6965125</td><td>0.931</td><td>0.92</td><td>3</td><td>11</td></tr>\n",
       "\t<tr><td>434785</td><td>1</td><td>2015-03-17 11:13:11</td><td>1843850253</td><td>819515606</td><td>460961560</td><td>295014247</td><td>204885107</td><td>150527670</td><td>115245044</td><td>⋯</td><td>0.4487424</td><td>0.4250529</td><td>0.953</td><td>0.956</td><td>0.6196407</td><td>0.6965125</td><td>0.931</td><td>0.92</td><td>3</td><td>11</td></tr>\n",
       "\t<tr><td>434805</td><td>1</td><td>2015-03-17 11:19:06</td><td>1843850253</td><td>819515606</td><td>460961561</td><td>295014247</td><td>204885107</td><td>150527670</td><td>115245044</td><td>⋯</td><td>0.4487424</td><td>0.4250529</td><td>0.953</td><td>0.956</td><td>0.6196407</td><td>0.6965125</td><td>0.931</td><td>0.92</td><td>3</td><td>11</td></tr>\n",
       "\t<tr><td>434808</td><td>1</td><td>2015-03-17 11:21:11</td><td>1843891497</td><td>819515606</td><td>460961560</td><td>295014247</td><td>204885107</td><td>150527670</td><td>115245044</td><td>⋯</td><td>0.4487424</td><td>0.4250529</td><td>0.953</td><td>0.956</td><td>0.6196407</td><td>0.6965125</td><td>0.931</td><td>0.92</td><td>3</td><td>11</td></tr>\n",
       "</tbody>\n",
       "</table>\n"
      ],
      "text/latex": [
       "A tibble: 6 × 85\n",
       "\\begin{tabular}{lllllllllllllllllllll}\n",
       " measurement\\_id & device\\_id & timestamp & grid\\_id & grid\\_id300 & grid\\_id400 & grid\\_id500 & grid\\_id600 & grid\\_id700 & grid\\_id800 & ⋯ & entropy\\_seq\\_split\\_weekday & entropy\\_seq\\_merge\\_weekday & predictability\\_seq\\_split\\_weekday & predictability\\_seq\\_merge\\_weekday & entropy\\_seq\\_split\\_hourofday & entropy\\_seq\\_merge\\_hourofday & predictability\\_seq\\_split\\_hourofday & predictability\\_seq\\_merge\\_hourofday & wd & hd\\\\\n",
       " <dbl> & <dbl> & <dttm> & <dbl> & <dbl> & <dbl> & <dbl> & <dbl> & <dbl> & <dbl> & ⋯ & <dbl> & <dbl> & <dbl> & <dbl> & <dbl> & <dbl> & <dbl> & <dbl> & <fct> & <fct>\\\\\n",
       "\\hline\n",
       "\t 434778 & 1 & 2015-03-17 11:06:42 & 1843891497 & 819515606 & 460961560 & 295014247 & 204885107 & 150527670 & 115245044 & ⋯ & 0.4487424 & 0.4250529 & 0.953 & 0.956 & 0.6196407 & 0.6965125 & 0.931 & 0.92 & 3 & 11\\\\\n",
       "\t 434782 & 1 & 2015-03-17 11:10:43 & 1843891497 & 819515606 & 460961560 & 295014247 & 204885107 & 150527670 & 115245044 & ⋯ & 0.4487424 & 0.4250529 & 0.953 & 0.956 & 0.6196407 & 0.6965125 & 0.931 & 0.92 & 3 & 11\\\\\n",
       "\t 434783 & 1 & 2015-03-17 11:11:11 & 1843891497 & 819515606 & 460961560 & 295014247 & 204885107 & 150527670 & 115245044 & ⋯ & 0.4487424 & 0.4250529 & 0.953 & 0.956 & 0.6196407 & 0.6965125 & 0.931 & 0.92 & 3 & 11\\\\\n",
       "\t 434785 & 1 & 2015-03-17 11:13:11 & 1843850253 & 819515606 & 460961560 & 295014247 & 204885107 & 150527670 & 115245044 & ⋯ & 0.4487424 & 0.4250529 & 0.953 & 0.956 & 0.6196407 & 0.6965125 & 0.931 & 0.92 & 3 & 11\\\\\n",
       "\t 434805 & 1 & 2015-03-17 11:19:06 & 1843850253 & 819515606 & 460961561 & 295014247 & 204885107 & 150527670 & 115245044 & ⋯ & 0.4487424 & 0.4250529 & 0.953 & 0.956 & 0.6196407 & 0.6965125 & 0.931 & 0.92 & 3 & 11\\\\\n",
       "\t 434808 & 1 & 2015-03-17 11:21:11 & 1843891497 & 819515606 & 460961560 & 295014247 & 204885107 & 150527670 & 115245044 & ⋯ & 0.4487424 & 0.4250529 & 0.953 & 0.956 & 0.6196407 & 0.6965125 & 0.931 & 0.92 & 3 & 11\\\\\n",
       "\\end{tabular}\n"
      ],
      "text/markdown": [
       "\n",
       "A tibble: 6 × 85\n",
       "\n",
       "| measurement_id &lt;dbl&gt; | device_id &lt;dbl&gt; | timestamp &lt;dttm&gt; | grid_id &lt;dbl&gt; | grid_id300 &lt;dbl&gt; | grid_id400 &lt;dbl&gt; | grid_id500 &lt;dbl&gt; | grid_id600 &lt;dbl&gt; | grid_id700 &lt;dbl&gt; | grid_id800 &lt;dbl&gt; | ⋯ ⋯ | entropy_seq_split_weekday &lt;dbl&gt; | entropy_seq_merge_weekday &lt;dbl&gt; | predictability_seq_split_weekday &lt;dbl&gt; | predictability_seq_merge_weekday &lt;dbl&gt; | entropy_seq_split_hourofday &lt;dbl&gt; | entropy_seq_merge_hourofday &lt;dbl&gt; | predictability_seq_split_hourofday &lt;dbl&gt; | predictability_seq_merge_hourofday &lt;dbl&gt; | wd &lt;fct&gt; | hd &lt;fct&gt; |\n",
       "|---|---|---|---|---|---|---|---|---|---|---|---|---|---|---|---|---|---|---|---|---|\n",
       "| 434778 | 1 | 2015-03-17 11:06:42 | 1843891497 | 819515606 | 460961560 | 295014247 | 204885107 | 150527670 | 115245044 | ⋯ | 0.4487424 | 0.4250529 | 0.953 | 0.956 | 0.6196407 | 0.6965125 | 0.931 | 0.92 | 3 | 11 |\n",
       "| 434782 | 1 | 2015-03-17 11:10:43 | 1843891497 | 819515606 | 460961560 | 295014247 | 204885107 | 150527670 | 115245044 | ⋯ | 0.4487424 | 0.4250529 | 0.953 | 0.956 | 0.6196407 | 0.6965125 | 0.931 | 0.92 | 3 | 11 |\n",
       "| 434783 | 1 | 2015-03-17 11:11:11 | 1843891497 | 819515606 | 460961560 | 295014247 | 204885107 | 150527670 | 115245044 | ⋯ | 0.4487424 | 0.4250529 | 0.953 | 0.956 | 0.6196407 | 0.6965125 | 0.931 | 0.92 | 3 | 11 |\n",
       "| 434785 | 1 | 2015-03-17 11:13:11 | 1843850253 | 819515606 | 460961560 | 295014247 | 204885107 | 150527670 | 115245044 | ⋯ | 0.4487424 | 0.4250529 | 0.953 | 0.956 | 0.6196407 | 0.6965125 | 0.931 | 0.92 | 3 | 11 |\n",
       "| 434805 | 1 | 2015-03-17 11:19:06 | 1843850253 | 819515606 | 460961561 | 295014247 | 204885107 | 150527670 | 115245044 | ⋯ | 0.4487424 | 0.4250529 | 0.953 | 0.956 | 0.6196407 | 0.6965125 | 0.931 | 0.92 | 3 | 11 |\n",
       "| 434808 | 1 | 2015-03-17 11:21:11 | 1843891497 | 819515606 | 460961560 | 295014247 | 204885107 | 150527670 | 115245044 | ⋯ | 0.4487424 | 0.4250529 | 0.953 | 0.956 | 0.6196407 | 0.6965125 | 0.931 | 0.92 | 3 | 11 |\n",
       "\n"
      ],
      "text/plain": [
       "  measurement_id device_id timestamp           grid_id    grid_id300 grid_id400\n",
       "1 434778         1         2015-03-17 11:06:42 1843891497 819515606  460961560 \n",
       "2 434782         1         2015-03-17 11:10:43 1843891497 819515606  460961560 \n",
       "3 434783         1         2015-03-17 11:11:11 1843891497 819515606  460961560 \n",
       "4 434785         1         2015-03-17 11:13:11 1843850253 819515606  460961560 \n",
       "5 434805         1         2015-03-17 11:19:06 1843850253 819515606  460961561 \n",
       "6 434808         1         2015-03-17 11:21:11 1843891497 819515606  460961560 \n",
       "  grid_id500 grid_id600 grid_id700 grid_id800 <U+22EF>  \n",
       "1 295014247  204885107  150527670  115245044  <U+22EF>\n",
       "2 295014247  204885107  150527670  115245044  <U+22EF>\n",
       "3 295014247  204885107  150527670  115245044  <U+22EF>\n",
       "4 295014247  204885107  150527670  115245044  <U+22EF>\n",
       "5 295014247  204885107  150527670  115245044  <U+22EF>\n",
       "6 295014247  204885107  150527670  115245044  <U+22EF>\n",
       "  entropy_seq_split_weekday entropy_seq_merge_weekday\n",
       "1 0.4487424                 0.4250529                \n",
       "2 0.4487424                 0.4250529                \n",
       "3 0.4487424                 0.4250529                \n",
       "4 0.4487424                 0.4250529                \n",
       "5 0.4487424                 0.4250529                \n",
       "6 0.4487424                 0.4250529                \n",
       "  predictability_seq_split_weekday predictability_seq_merge_weekday\n",
       "1 0.953                            0.956                           \n",
       "2 0.953                            0.956                           \n",
       "3 0.953                            0.956                           \n",
       "4 0.953                            0.956                           \n",
       "5 0.953                            0.956                           \n",
       "6 0.953                            0.956                           \n",
       "  entropy_seq_split_hourofday entropy_seq_merge_hourofday\n",
       "1 0.6196407                   0.6965125                  \n",
       "2 0.6196407                   0.6965125                  \n",
       "3 0.6196407                   0.6965125                  \n",
       "4 0.6196407                   0.6965125                  \n",
       "5 0.6196407                   0.6965125                  \n",
       "6 0.6196407                   0.6965125                  \n",
       "  predictability_seq_split_hourofday predictability_seq_merge_hourofday wd hd\n",
       "1 0.931                              0.92                               3  11\n",
       "2 0.931                              0.92                               3  11\n",
       "3 0.931                              0.92                               3  11\n",
       "4 0.931                              0.92                               3  11\n",
       "5 0.931                              0.92                               3  11\n",
       "6 0.931                              0.92                               3  11"
      ]
     },
     "metadata": {},
     "output_type": "display_data"
    }
   ],
   "source": [
    "head(df)"
   ]
  },
  {
   "cell_type": "code",
   "execution_count": 232,
   "metadata": {},
   "outputs": [
    {
     "data": {
      "text/html": [
       "<style>\n",
       ".list-inline {list-style: none; margin:0; padding: 0}\n",
       ".list-inline>li {display: inline-block}\n",
       ".list-inline>li:not(:last-child)::after {content: \"\\00b7\"; padding: 0 .5ex}\n",
       "</style>\n",
       "<ol class=list-inline><li>'measurement_id'</li><li>'device_id'</li><li>'timestamp'</li><li>'grid_id'</li><li>'grid_id300'</li><li>'grid_id400'</li><li>'grid_id500'</li><li>'grid_id600'</li><li>'grid_id700'</li><li>'grid_id800'</li><li>'grid_id900'</li><li>'grid_id1000'</li><li>'regularity'</li><li>'stationarity'</li><li>'diversity'</li><li>'regularity300'</li><li>'stationarity300'</li><li>'diversity300'</li><li>'regularity400'</li><li>'stationarity400'</li><li>'diversity400'</li><li>'regularity500'</li><li>'stationarity500'</li><li>'diversity500'</li><li>'regularity600'</li><li>'stationarity600'</li><li>'diversity600'</li><li>'regularity700'</li><li>'stationarity700'</li><li>'diversity700'</li><li>'regularity800'</li><li>'stationarity800'</li><li>'diversity800'</li><li>'regularity900'</li><li>'stationarity900'</li><li>'diversity900'</li><li>'regularity1000'</li><li>'stationarity1000'</li><li>'diversity1000'</li><li>'baseline_entropy'</li><li>'actual_entropy'</li><li>'baseline_predictability'</li><li>'actual_predictability'</li><li>'baseline_entropy300'</li><li>'actual_entropy300'</li><li>'baseline_predictability300'</li><li>'actual_predictability300'</li><li>'baseline_entropy400'</li><li>'actual_entropy400'</li><li>'baseline_predictability400'</li><li>'actual_predictability400'</li><li>'baseline_entropy500'</li><li>'actual_entropy500'</li><li>'baseline_predictability500'</li><li>'actual_predictability500'</li><li>'baseline_entropy600'</li><li>'actual_entropy600'</li><li>'baseline_predictability600'</li><li>'actual_predictability600'</li><li>'baseline_entropy700'</li><li>'actual_entropy700'</li><li>'baseline_predictability700'</li><li>'actual_predictability700'</li><li>'baseline_entropy800'</li><li>'actual_entropy800'</li><li>'baseline_predictability800'</li><li>'actual_predictability800'</li><li>'baseline_entropy900'</li><li>'actual_entropy900'</li><li>'baseline_predictability900'</li><li>'actual_predictability900'</li><li>'baseline_entropy1000'</li><li>'actual_entropy1000'</li><li>'baseline_predictability1000'</li><li>'actual_predictability1000'</li><li>'entropy_seq_split_weekday'</li><li>'entropy_seq_merge_weekday'</li><li>'predictability_seq_split_weekday'</li><li>'predictability_seq_merge_weekday'</li><li>'entropy_seq_split_hourofday'</li><li>'entropy_seq_merge_hourofday'</li><li>'predictability_seq_split_hourofday'</li><li>'predictability_seq_merge_hourofday'</li><li>'wd'</li><li>'hd'</li></ol>\n"
      ],
      "text/latex": [
       "\\begin{enumerate*}\n",
       "\\item 'measurement\\_id'\n",
       "\\item 'device\\_id'\n",
       "\\item 'timestamp'\n",
       "\\item 'grid\\_id'\n",
       "\\item 'grid\\_id300'\n",
       "\\item 'grid\\_id400'\n",
       "\\item 'grid\\_id500'\n",
       "\\item 'grid\\_id600'\n",
       "\\item 'grid\\_id700'\n",
       "\\item 'grid\\_id800'\n",
       "\\item 'grid\\_id900'\n",
       "\\item 'grid\\_id1000'\n",
       "\\item 'regularity'\n",
       "\\item 'stationarity'\n",
       "\\item 'diversity'\n",
       "\\item 'regularity300'\n",
       "\\item 'stationarity300'\n",
       "\\item 'diversity300'\n",
       "\\item 'regularity400'\n",
       "\\item 'stationarity400'\n",
       "\\item 'diversity400'\n",
       "\\item 'regularity500'\n",
       "\\item 'stationarity500'\n",
       "\\item 'diversity500'\n",
       "\\item 'regularity600'\n",
       "\\item 'stationarity600'\n",
       "\\item 'diversity600'\n",
       "\\item 'regularity700'\n",
       "\\item 'stationarity700'\n",
       "\\item 'diversity700'\n",
       "\\item 'regularity800'\n",
       "\\item 'stationarity800'\n",
       "\\item 'diversity800'\n",
       "\\item 'regularity900'\n",
       "\\item 'stationarity900'\n",
       "\\item 'diversity900'\n",
       "\\item 'regularity1000'\n",
       "\\item 'stationarity1000'\n",
       "\\item 'diversity1000'\n",
       "\\item 'baseline\\_entropy'\n",
       "\\item 'actual\\_entropy'\n",
       "\\item 'baseline\\_predictability'\n",
       "\\item 'actual\\_predictability'\n",
       "\\item 'baseline\\_entropy300'\n",
       "\\item 'actual\\_entropy300'\n",
       "\\item 'baseline\\_predictability300'\n",
       "\\item 'actual\\_predictability300'\n",
       "\\item 'baseline\\_entropy400'\n",
       "\\item 'actual\\_entropy400'\n",
       "\\item 'baseline\\_predictability400'\n",
       "\\item 'actual\\_predictability400'\n",
       "\\item 'baseline\\_entropy500'\n",
       "\\item 'actual\\_entropy500'\n",
       "\\item 'baseline\\_predictability500'\n",
       "\\item 'actual\\_predictability500'\n",
       "\\item 'baseline\\_entropy600'\n",
       "\\item 'actual\\_entropy600'\n",
       "\\item 'baseline\\_predictability600'\n",
       "\\item 'actual\\_predictability600'\n",
       "\\item 'baseline\\_entropy700'\n",
       "\\item 'actual\\_entropy700'\n",
       "\\item 'baseline\\_predictability700'\n",
       "\\item 'actual\\_predictability700'\n",
       "\\item 'baseline\\_entropy800'\n",
       "\\item 'actual\\_entropy800'\n",
       "\\item 'baseline\\_predictability800'\n",
       "\\item 'actual\\_predictability800'\n",
       "\\item 'baseline\\_entropy900'\n",
       "\\item 'actual\\_entropy900'\n",
       "\\item 'baseline\\_predictability900'\n",
       "\\item 'actual\\_predictability900'\n",
       "\\item 'baseline\\_entropy1000'\n",
       "\\item 'actual\\_entropy1000'\n",
       "\\item 'baseline\\_predictability1000'\n",
       "\\item 'actual\\_predictability1000'\n",
       "\\item 'entropy\\_seq\\_split\\_weekday'\n",
       "\\item 'entropy\\_seq\\_merge\\_weekday'\n",
       "\\item 'predictability\\_seq\\_split\\_weekday'\n",
       "\\item 'predictability\\_seq\\_merge\\_weekday'\n",
       "\\item 'entropy\\_seq\\_split\\_hourofday'\n",
       "\\item 'entropy\\_seq\\_merge\\_hourofday'\n",
       "\\item 'predictability\\_seq\\_split\\_hourofday'\n",
       "\\item 'predictability\\_seq\\_merge\\_hourofday'\n",
       "\\item 'wd'\n",
       "\\item 'hd'\n",
       "\\end{enumerate*}\n"
      ],
      "text/markdown": [
       "1. 'measurement_id'\n",
       "2. 'device_id'\n",
       "3. 'timestamp'\n",
       "4. 'grid_id'\n",
       "5. 'grid_id300'\n",
       "6. 'grid_id400'\n",
       "7. 'grid_id500'\n",
       "8. 'grid_id600'\n",
       "9. 'grid_id700'\n",
       "10. 'grid_id800'\n",
       "11. 'grid_id900'\n",
       "12. 'grid_id1000'\n",
       "13. 'regularity'\n",
       "14. 'stationarity'\n",
       "15. 'diversity'\n",
       "16. 'regularity300'\n",
       "17. 'stationarity300'\n",
       "18. 'diversity300'\n",
       "19. 'regularity400'\n",
       "20. 'stationarity400'\n",
       "21. 'diversity400'\n",
       "22. 'regularity500'\n",
       "23. 'stationarity500'\n",
       "24. 'diversity500'\n",
       "25. 'regularity600'\n",
       "26. 'stationarity600'\n",
       "27. 'diversity600'\n",
       "28. 'regularity700'\n",
       "29. 'stationarity700'\n",
       "30. 'diversity700'\n",
       "31. 'regularity800'\n",
       "32. 'stationarity800'\n",
       "33. 'diversity800'\n",
       "34. 'regularity900'\n",
       "35. 'stationarity900'\n",
       "36. 'diversity900'\n",
       "37. 'regularity1000'\n",
       "38. 'stationarity1000'\n",
       "39. 'diversity1000'\n",
       "40. 'baseline_entropy'\n",
       "41. 'actual_entropy'\n",
       "42. 'baseline_predictability'\n",
       "43. 'actual_predictability'\n",
       "44. 'baseline_entropy300'\n",
       "45. 'actual_entropy300'\n",
       "46. 'baseline_predictability300'\n",
       "47. 'actual_predictability300'\n",
       "48. 'baseline_entropy400'\n",
       "49. 'actual_entropy400'\n",
       "50. 'baseline_predictability400'\n",
       "51. 'actual_predictability400'\n",
       "52. 'baseline_entropy500'\n",
       "53. 'actual_entropy500'\n",
       "54. 'baseline_predictability500'\n",
       "55. 'actual_predictability500'\n",
       "56. 'baseline_entropy600'\n",
       "57. 'actual_entropy600'\n",
       "58. 'baseline_predictability600'\n",
       "59. 'actual_predictability600'\n",
       "60. 'baseline_entropy700'\n",
       "61. 'actual_entropy700'\n",
       "62. 'baseline_predictability700'\n",
       "63. 'actual_predictability700'\n",
       "64. 'baseline_entropy800'\n",
       "65. 'actual_entropy800'\n",
       "66. 'baseline_predictability800'\n",
       "67. 'actual_predictability800'\n",
       "68. 'baseline_entropy900'\n",
       "69. 'actual_entropy900'\n",
       "70. 'baseline_predictability900'\n",
       "71. 'actual_predictability900'\n",
       "72. 'baseline_entropy1000'\n",
       "73. 'actual_entropy1000'\n",
       "74. 'baseline_predictability1000'\n",
       "75. 'actual_predictability1000'\n",
       "76. 'entropy_seq_split_weekday'\n",
       "77. 'entropy_seq_merge_weekday'\n",
       "78. 'predictability_seq_split_weekday'\n",
       "79. 'predictability_seq_merge_weekday'\n",
       "80. 'entropy_seq_split_hourofday'\n",
       "81. 'entropy_seq_merge_hourofday'\n",
       "82. 'predictability_seq_split_hourofday'\n",
       "83. 'predictability_seq_merge_hourofday'\n",
       "84. 'wd'\n",
       "85. 'hd'\n",
       "\n",
       "\n"
      ],
      "text/plain": [
       " [1] \"measurement_id\"                     \"device_id\"                         \n",
       " [3] \"timestamp\"                          \"grid_id\"                           \n",
       " [5] \"grid_id300\"                         \"grid_id400\"                        \n",
       " [7] \"grid_id500\"                         \"grid_id600\"                        \n",
       " [9] \"grid_id700\"                         \"grid_id800\"                        \n",
       "[11] \"grid_id900\"                         \"grid_id1000\"                       \n",
       "[13] \"regularity\"                         \"stationarity\"                      \n",
       "[15] \"diversity\"                          \"regularity300\"                     \n",
       "[17] \"stationarity300\"                    \"diversity300\"                      \n",
       "[19] \"regularity400\"                      \"stationarity400\"                   \n",
       "[21] \"diversity400\"                       \"regularity500\"                     \n",
       "[23] \"stationarity500\"                    \"diversity500\"                      \n",
       "[25] \"regularity600\"                      \"stationarity600\"                   \n",
       "[27] \"diversity600\"                       \"regularity700\"                     \n",
       "[29] \"stationarity700\"                    \"diversity700\"                      \n",
       "[31] \"regularity800\"                      \"stationarity800\"                   \n",
       "[33] \"diversity800\"                       \"regularity900\"                     \n",
       "[35] \"stationarity900\"                    \"diversity900\"                      \n",
       "[37] \"regularity1000\"                     \"stationarity1000\"                  \n",
       "[39] \"diversity1000\"                      \"baseline_entropy\"                  \n",
       "[41] \"actual_entropy\"                     \"baseline_predictability\"           \n",
       "[43] \"actual_predictability\"              \"baseline_entropy300\"               \n",
       "[45] \"actual_entropy300\"                  \"baseline_predictability300\"        \n",
       "[47] \"actual_predictability300\"           \"baseline_entropy400\"               \n",
       "[49] \"actual_entropy400\"                  \"baseline_predictability400\"        \n",
       "[51] \"actual_predictability400\"           \"baseline_entropy500\"               \n",
       "[53] \"actual_entropy500\"                  \"baseline_predictability500\"        \n",
       "[55] \"actual_predictability500\"           \"baseline_entropy600\"               \n",
       "[57] \"actual_entropy600\"                  \"baseline_predictability600\"        \n",
       "[59] \"actual_predictability600\"           \"baseline_entropy700\"               \n",
       "[61] \"actual_entropy700\"                  \"baseline_predictability700\"        \n",
       "[63] \"actual_predictability700\"           \"baseline_entropy800\"               \n",
       "[65] \"actual_entropy800\"                  \"baseline_predictability800\"        \n",
       "[67] \"actual_predictability800\"           \"baseline_entropy900\"               \n",
       "[69] \"actual_entropy900\"                  \"baseline_predictability900\"        \n",
       "[71] \"actual_predictability900\"           \"baseline_entropy1000\"              \n",
       "[73] \"actual_entropy1000\"                 \"baseline_predictability1000\"       \n",
       "[75] \"actual_predictability1000\"          \"entropy_seq_split_weekday\"         \n",
       "[77] \"entropy_seq_merge_weekday\"          \"predictability_seq_split_weekday\"  \n",
       "[79] \"predictability_seq_merge_weekday\"   \"entropy_seq_split_hourofday\"       \n",
       "[81] \"entropy_seq_merge_hourofday\"        \"predictability_seq_split_hourofday\"\n",
       "[83] \"predictability_seq_merge_hourofday\" \"wd\"                                \n",
       "[85] \"hd\"                                "
      ]
     },
     "metadata": {},
     "output_type": "display_data"
    }
   ],
   "source": [
    "colnames(df)"
   ]
  },
  {
   "cell_type": "code",
   "execution_count": 233,
   "metadata": {},
   "outputs": [],
   "source": [
    "# CDR: At least 20% of locations (Song's paper): total locations = 360, so 72 is 20%\n",
    "df <- df %>%\n",
    "    group_by(device_id) %>%\n",
    "    filter(n() > (if_else(df_name == \"shanghai\", 72, 500)))"
   ]
  },
  {
   "cell_type": "code",
   "execution_count": 234,
   "metadata": {},
   "outputs": [
    {
     "data": {
      "text/html": [
       "51"
      ],
      "text/latex": [
       "51"
      ],
      "text/markdown": [
       "51"
      ],
      "text/plain": [
       "[1] 51"
      ]
     },
     "metadata": {},
     "output_type": "display_data"
    }
   ],
   "source": [
    "df %>%\n",
    "    group_by(device_id) %>%\n",
    "    summarise(n = n()) %>%\n",
    "    nrow()"
   ]
  },
  {
   "cell_type": "markdown",
   "metadata": {},
   "source": [
    "# Number of locations and unique locations for each user"
   ]
  },
  {
   "cell_type": "code",
   "execution_count": 235,
   "metadata": {},
   "outputs": [
    {
     "name": "stderr",
     "output_type": "stream",
     "text": [
      "Saving 6.67 x 6.67 in image\n"
     ]
    },
    {
     "data": {
      "image/png": "[encoded data removed]",
      "text/plain": [
       "plot without title"
      ]
     },
     "metadata": {},
     "output_type": "display_data"
    }
   ],
   "source": [
    "df %>%\n",
    "    group_by(device_id) %>%\n",
    "    summarise(n = n(), nunique = n_distinct(grid_id)) %>%\n",
    "    ggplot() +\n",
    "    stat_ecdf(aes(n), geom = \"step\") +\n",
    "    scale_y_continuous(labels = scales::percent) +\n",
    "    theme_classic() +\n",
    "    theme(plot.title = element_text(hjust = 0.5), \n",
    "        text = element_text(size=22),\n",
    "        legend.justification = c(1, 0.01),\n",
    "        legend.position = c(0.99, 0.01)\n",
    "         ) +\n",
    "  scale_x_continuous(\n",
    "    expand = c(0, 0),\n",
    "    #breaks = c(0, 0.5, 0.75, 0.9, 1.00),\n",
    "    #labels = c(0, 0.5, 0.75, 0.9, 1)\n",
    "  ) +\n",
    "    labs(y = \"Users\", x = \"Number of Locations\")\n",
    "\n",
    "prefix <- \"images/CDFLocationsPerUser\"\n",
    "fname <- paste(prefix, df_name, df_type, \".pdf\", sep=\"_\")\n",
    "ggsave(plot=last_plot(), filename = fname, device = \"pdf\")\n",
    "embedFonts(fname)\n"
   ]
  },
  {
   "cell_type": "code",
   "execution_count": 236,
   "metadata": {},
   "outputs": [
    {
     "name": "stderr",
     "output_type": "stream",
     "text": [
      "Saving 6.67 x 6.67 in image\n"
     ]
    },
    {
     "data": {
      "image/png": "[encoded data removed]",
      "text/plain": [
       "plot without title"
      ]
     },
     "metadata": {},
     "output_type": "display_data"
    }
   ],
   "source": [
    "df %>%\n",
    "    group_by(device_id) %>%\n",
    "    summarise(n = n(), nunique = n_distinct(grid_id)) %>%\n",
    "    ggplot() +\n",
    "    stat_ecdf(aes(nunique), geom = \"step\") +\n",
    "    scale_y_continuous(labels = scales::percent) +\n",
    "    theme_classic() +\n",
    "    theme(plot.title = element_text(hjust = 0.5), \n",
    "        text = element_text(size=22),\n",
    "        legend.justification = c(1, 0.01),\n",
    "        legend.position = c(0.99, 0.01)\n",
    "         ) +\n",
    "    labs(y = \"Users\", x = \"Number of Unique Locations\")\n",
    "\n",
    "prefix <- \"images/CDFUniqueLocationsPerUser\"\n",
    "fname <- paste(prefix, df_name, df_type, \".pdf\", sep=\"_\")\n",
    "ggsave(plot=last_plot(), filename = fname, device = \"pdf\")\n",
    "embedFonts(fname)\n"
   ]
  },
  {
   "cell_type": "markdown",
   "metadata": {},
   "source": [
    "## Statistics about metrics"
   ]
  },
  {
   "cell_type": "code",
   "execution_count": 237,
   "metadata": {},
   "outputs": [
    {
     "data": {
      "text/html": [
       "<table class=\"dataframe\">\n",
       "<caption>A tibble: 1 × 4</caption>\n",
       "<thead>\n",
       "\t<tr><th scope=col>avg_n</th><th scope=col>std_n</th><th scope=col>min_n</th><th scope=col>max_n</th></tr>\n",
       "\t<tr><th scope=col>&lt;dbl&gt;</th><th scope=col>&lt;dbl&gt;</th><th scope=col>&lt;int&gt;</th><th scope=col>&lt;int&gt;</th></tr>\n",
       "</thead>\n",
       "<tbody>\n",
       "\t<tr><td>2788.255</td><td>1712.564</td><td>577</td><td>5911</td></tr>\n",
       "</tbody>\n",
       "</table>\n"
      ],
      "text/latex": [
       "A tibble: 1 × 4\n",
       "\\begin{tabular}{llll}\n",
       " avg\\_n & std\\_n & min\\_n & max\\_n\\\\\n",
       " <dbl> & <dbl> & <int> & <int>\\\\\n",
       "\\hline\n",
       "\t 2788.255 & 1712.564 & 577 & 5911\\\\\n",
       "\\end{tabular}\n"
      ],
      "text/markdown": [
       "\n",
       "A tibble: 1 × 4\n",
       "\n",
       "| avg_n &lt;dbl&gt; | std_n &lt;dbl&gt; | min_n &lt;int&gt; | max_n &lt;int&gt; |\n",
       "|---|---|---|---|\n",
       "| 2788.255 | 1712.564 | 577 | 5911 |\n",
       "\n"
      ],
      "text/plain": [
       "  avg_n    std_n    min_n max_n\n",
       "1 2788.255 1712.564 577   5911 "
      ]
     },
     "metadata": {},
     "output_type": "display_data"
    }
   ],
   "source": [
    "# Statistics about locations\n",
    "\n",
    "df %>%\n",
    "    group_by(device_id) %>%\n",
    "    summarise(n = n()) %>%\n",
    "    summarise(avg_n = mean(n), std_n = sd(n), min_n = min(n), max_n = max(n))"
   ]
  },
  {
   "cell_type": "code",
   "execution_count": 238,
   "metadata": {},
   "outputs": [
    {
     "data": {
      "text/html": [
       "<table class=\"dataframe\">\n",
       "<caption>A tibble: 1 × 11</caption>\n",
       "<thead>\n",
       "\t<tr><th scope=col>device_id</th><th scope=col>n</th><th scope=col>n_unique</th><th scope=col>actual_entropy</th><th scope=col>entropy_seq_split_weekday</th><th scope=col>entropy_seq_split_hourofday</th><th scope=col>entropy_seq_merge_weekday</th><th scope=col>entropy_seq_merge_hourofday</th><th scope=col>st</th><th scope=col>reg</th><th scope=col>div</th></tr>\n",
       "\t<tr><th scope=col>&lt;dbl&gt;</th><th scope=col>&lt;int&gt;</th><th scope=col>&lt;int&gt;</th><th scope=col>&lt;dbl&gt;</th><th scope=col>&lt;dbl&gt;</th><th scope=col>&lt;dbl&gt;</th><th scope=col>&lt;dbl&gt;</th><th scope=col>&lt;dbl&gt;</th><th scope=col>&lt;dbl&gt;</th><th scope=col>&lt;dbl&gt;</th><th scope=col>&lt;dbl&gt;</th></tr>\n",
       "</thead>\n",
       "<tbody>\n",
       "\t<tr><td>3</td><td>5551</td><td>342</td><td>0.3924311</td><td>0.5162246</td><td>1.027878</td><td>0.4792117</td><td>0.4405941</td><td>84.2</td><td>93.84</td><td>0.9883172</td></tr>\n",
       "</tbody>\n",
       "</table>\n"
      ],
      "text/latex": [
       "A tibble: 1 × 11\n",
       "\\begin{tabular}{lllllllllll}\n",
       " device\\_id & n & n\\_unique & actual\\_entropy & entropy\\_seq\\_split\\_weekday & entropy\\_seq\\_split\\_hourofday & entropy\\_seq\\_merge\\_weekday & entropy\\_seq\\_merge\\_hourofday & st & reg & div\\\\\n",
       " <dbl> & <int> & <int> & <dbl> & <dbl> & <dbl> & <dbl> & <dbl> & <dbl> & <dbl> & <dbl>\\\\\n",
       "\\hline\n",
       "\t 3 & 5551 & 342 & 0.3924311 & 0.5162246 & 1.027878 & 0.4792117 & 0.4405941 & 84.2 & 93.84 & 0.9883172\\\\\n",
       "\\end{tabular}\n"
      ],
      "text/markdown": [
       "\n",
       "A tibble: 1 × 11\n",
       "\n",
       "| device_id &lt;dbl&gt; | n &lt;int&gt; | n_unique &lt;int&gt; | actual_entropy &lt;dbl&gt; | entropy_seq_split_weekday &lt;dbl&gt; | entropy_seq_split_hourofday &lt;dbl&gt; | entropy_seq_merge_weekday &lt;dbl&gt; | entropy_seq_merge_hourofday &lt;dbl&gt; | st &lt;dbl&gt; | reg &lt;dbl&gt; | div &lt;dbl&gt; |\n",
       "|---|---|---|---|---|---|---|---|---|---|---|\n",
       "| 3 | 5551 | 342 | 0.3924311 | 0.5162246 | 1.027878 | 0.4792117 | 0.4405941 | 84.2 | 93.84 | 0.9883172 |\n",
       "\n"
      ],
      "text/plain": [
       "  device_id n    n_unique actual_entropy entropy_seq_split_weekday\n",
       "1 3         5551 342      0.3924311      0.5162246                \n",
       "  entropy_seq_split_hourofday entropy_seq_merge_weekday\n",
       "1 1.027878                    0.4792117                \n",
       "  entropy_seq_merge_hourofday st   reg   div      \n",
       "1 0.4405941                   84.2 93.84 0.9883172"
      ]
     },
     "metadata": {},
     "output_type": "display_data"
    }
   ],
   "source": [
    "# Statistics about entropy (average per user)\n",
    "\n",
    "df %>%\n",
    "    group_by(device_id) %>%\n",
    "    filter(device_id == 3) %>%\n",
    "    summarise(n = n(), \n",
    "              n_unique = n_distinct(grid_id), \n",
    "              actual_entropy = mean(actual_entropy), \n",
    "              entropy_seq_split_weekday = mean(entropy_seq_split_weekday),\n",
    "              entropy_seq_split_hourofday = mean(entropy_seq_split_hourofday),\n",
    "              #entropy_seq_split_weather = mean(entropy_seq_split_weather),\n",
    "              entropy_seq_merge_weekday = mean(entropy_seq_merge_weekday),\n",
    "              entropy_seq_merge_hourofday = mean(entropy_seq_merge_hourofday),\n",
    "              #entropy_seq_merge_weather = mean(entropy_seq_merge_weather),\n",
    "              st = mean(stationarity),\n",
    "              reg = mean(regularity),\n",
    "              div = mean(diversity)\n",
    "             )"
   ]
  },
  {
   "cell_type": "code",
   "execution_count": 239,
   "metadata": {},
   "outputs": [
    {
     "data": {
      "text/html": [
       "<table class=\"dataframe\">\n",
       "<caption>A tibble: 1 × 5</caption>\n",
       "<thead>\n",
       "\t<tr><th scope=col>actual_entropy</th><th scope=col>entropy_seq_split_weekday</th><th scope=col>entropy_seq_split_hourofday</th><th scope=col>entropy_seq_merge_weekday</th><th scope=col>entropy_seq_merge_hourofday</th></tr>\n",
       "\t<tr><th scope=col>&lt;dbl&gt;</th><th scope=col>&lt;dbl&gt;</th><th scope=col>&lt;dbl&gt;</th><th scope=col>&lt;dbl&gt;</th><th scope=col>&lt;dbl&gt;</th></tr>\n",
       "</thead>\n",
       "<tbody>\n",
       "\t<tr><td>0.3287179</td><td>0.4440841</td><td>0.8646177</td><td>0.3694676</td><td>0.4818973</td></tr>\n",
       "</tbody>\n",
       "</table>\n"
      ],
      "text/latex": [
       "A tibble: 1 × 5\n",
       "\\begin{tabular}{lllll}\n",
       " actual\\_entropy & entropy\\_seq\\_split\\_weekday & entropy\\_seq\\_split\\_hourofday & entropy\\_seq\\_merge\\_weekday & entropy\\_seq\\_merge\\_hourofday\\\\\n",
       " <dbl> & <dbl> & <dbl> & <dbl> & <dbl>\\\\\n",
       "\\hline\n",
       "\t 0.3287179 & 0.4440841 & 0.8646177 & 0.3694676 & 0.4818973\\\\\n",
       "\\end{tabular}\n"
      ],
      "text/markdown": [
       "\n",
       "A tibble: 1 × 5\n",
       "\n",
       "| actual_entropy &lt;dbl&gt; | entropy_seq_split_weekday &lt;dbl&gt; | entropy_seq_split_hourofday &lt;dbl&gt; | entropy_seq_merge_weekday &lt;dbl&gt; | entropy_seq_merge_hourofday &lt;dbl&gt; |\n",
       "|---|---|---|---|---|\n",
       "| 0.3287179 | 0.4440841 | 0.8646177 | 0.3694676 | 0.4818973 |\n",
       "\n"
      ],
      "text/plain": [
       "  actual_entropy entropy_seq_split_weekday entropy_seq_split_hourofday\n",
       "1 0.3287179      0.4440841                 0.8646177                  \n",
       "  entropy_seq_merge_weekday entropy_seq_merge_hourofday\n",
       "1 0.3694676                 0.4818973                  "
      ]
     },
     "metadata": {},
     "output_type": "display_data"
    }
   ],
   "source": [
    "# Statistics about entropy (average whole dataset)\n",
    "\n",
    "df %>%\n",
    "    group_by(device_id) %>%\n",
    "    filter(n() > (if_else(df_name == \"shanghai\", 72, 500))) %>%\n",
    "    summarise(actual_entropy = mean(actual_entropy),\n",
    "              entropy_seq_split_weekday = mean(entropy_seq_split_weekday),\n",
    "              entropy_seq_split_hourofday = mean(entropy_seq_split_hourofday),   \n",
    "              #entropy_seq_split_weather = mean(entropy_seq_split_weather),   \n",
    "              entropy_seq_merge_weekday = mean(entropy_seq_merge_weekday),\n",
    "              entropy_seq_merge_hourofday = mean(entropy_seq_merge_hourofday),\n",
    "              #entropy_seq_merge_weather = mean(entropy_seq_merge_weather),\n",
    "             ) %>%\n",
    "    summarise(actual_entropy = mean(actual_entropy),\n",
    "              entropy_seq_split_weekday = mean(entropy_seq_split_weekday),\n",
    "              entropy_seq_split_hourofday = mean(entropy_seq_split_hourofday),   \n",
    "              #entropy_seq_split_weather = mean(entropy_seq_split_weather),   \n",
    "              entropy_seq_merge_weekday = mean(entropy_seq_merge_weekday),\n",
    "              entropy_seq_merge_hourofday = mean(entropy_seq_merge_hourofday),\n",
    "              #entropy_seq_merge_weather = mean(entropy_seq_merge_weather),\n",
    "             )"
   ]
  },
  {
   "cell_type": "code",
   "execution_count": 240,
   "metadata": {},
   "outputs": [],
   "source": [
    "# Statistics about regularity, stationarity, and diversity\n",
    "\n",
    "df_metrics <- df %>%\n",
    "    group_by(device_id) %>%\n",
    "    filter(n() > 42) %>%\n",
    "    summarise(\n",
    "             n = n(),\n",
    "             n_unique = n_distinct(grid_id),\n",
    "             regularity = mean(regularity),\n",
    "             stationarity = mean(stationarity),\n",
    "             diversity = mean(diversity),\n",
    "             entropy = mean(actual_entropy),\n",
    "             predictability = mean(actual_predictability)\n",
    "    )\n",
    "\n",
    "df_averages <- df_metrics %>%\n",
    "    summarise(regularity = mean(regularity), \n",
    "              stationarity = mean(stationarity), \n",
    "              diversity = mean(diversity), \n",
    "              entropy = mean(entropy)\n",
    "             )\n"
   ]
  },
  {
   "cell_type": "code",
   "execution_count": 241,
   "metadata": {},
   "outputs": [
    {
     "data": {
      "text/html": [
       "<table class=\"dataframe\">\n",
       "<caption>A tibble: 51 × 8</caption>\n",
       "<thead>\n",
       "\t<tr><th scope=col>device_id</th><th scope=col>n</th><th scope=col>n_unique</th><th scope=col>regularity</th><th scope=col>stationarity</th><th scope=col>diversity</th><th scope=col>entropy</th><th scope=col>predictability</th></tr>\n",
       "\t<tr><th scope=col>&lt;dbl&gt;</th><th scope=col>&lt;int&gt;</th><th scope=col>&lt;int&gt;</th><th scope=col>&lt;dbl&gt;</th><th scope=col>&lt;dbl&gt;</th><th scope=col>&lt;dbl&gt;</th><th scope=col>&lt;dbl&gt;</th><th scope=col>&lt;dbl&gt;</th></tr>\n",
       "</thead>\n",
       "<tbody>\n",
       "\t<tr><td> 1</td><td>5501</td><td> 14</td><td>99.75</td><td>76.80</td><td>0.9856912</td><td>0.32191055</td><td>0.968</td></tr>\n",
       "\t<tr><td> 2</td><td> 826</td><td> 24</td><td>97.09</td><td>91.52</td><td>0.8298321</td><td>0.18097403</td><td>0.985</td></tr>\n",
       "\t<tr><td> 3</td><td>5551</td><td>342</td><td>93.84</td><td>84.20</td><td>0.9883172</td><td>0.39243111</td><td>0.974</td></tr>\n",
       "\t<tr><td> 4</td><td>4253</td><td>100</td><td>97.65</td><td>89.25</td><td>0.9703378</td><td>0.21706384</td><td>0.985</td></tr>\n",
       "\t<tr><td> 6</td><td>2717</td><td>125</td><td>95.40</td><td>77.21</td><td>0.9854683</td><td>0.61454099</td><td>0.952</td></tr>\n",
       "\t<tr><td> 8</td><td>5147</td><td>306</td><td>94.05</td><td>71.16</td><td>0.9935893</td><td>0.74722140</td><td>0.946</td></tr>\n",
       "\t<tr><td> 9</td><td> 858</td><td> 46</td><td>94.64</td><td>88.68</td><td>0.9173295</td><td>0.33412194</td><td>0.972</td></tr>\n",
       "\t<tr><td>10</td><td>3316</td><td> 75</td><td>97.74</td><td>76.56</td><td>0.9908871</td><td>0.73562429</td><td>0.936</td></tr>\n",
       "\t<tr><td>11</td><td>3312</td><td> 91</td><td>97.25</td><td>92.63</td><td>0.9720924</td><td>0.27630884</td><td>0.980</td></tr>\n",
       "\t<tr><td>12</td><td>1481</td><td>106</td><td>92.84</td><td>82.36</td><td>0.9640512</td><td>0.45083439</td><td>0.965</td></tr>\n",
       "\t<tr><td>13</td><td>1863</td><td> 51</td><td>97.26</td><td>93.82</td><td>0.9485013</td><td>0.24262757</td><td>0.981</td></tr>\n",
       "\t<tr><td>14</td><td> 901</td><td> 80</td><td>91.12</td><td>70.56</td><td>0.9750191</td><td>0.86027824</td><td>0.925</td></tr>\n",
       "\t<tr><td>17</td><td>3049</td><td> 92</td><td>96.98</td><td>93.70</td><td>0.9627118</td><td>0.23858116</td><td>0.983</td></tr>\n",
       "\t<tr><td>18</td><td>1001</td><td> 41</td><td>95.90</td><td>92.00</td><td>0.9187080</td><td>0.25991751</td><td>0.979</td></tr>\n",
       "\t<tr><td>19</td><td>3569</td><td>153</td><td>95.71</td><td>91.23</td><td>0.9653670</td><td>0.19996703</td><td>0.987</td></tr>\n",
       "\t<tr><td>20</td><td>1343</td><td>101</td><td>92.48</td><td>88.00</td><td>0.9594115</td><td>0.43333147</td><td>0.966</td></tr>\n",
       "\t<tr><td>21</td><td>5601</td><td> 80</td><td>98.57</td><td>96.30</td><td>0.9540291</td><td>0.10155827</td><td>0.993</td></tr>\n",
       "\t<tr><td>22</td><td>5911</td><td> 10</td><td>99.83</td><td>83.69</td><td>0.9904178</td><td>0.43484656</td><td>0.951</td></tr>\n",
       "\t<tr><td>24</td><td>3670</td><td>785</td><td>78.61</td><td>65.96</td><td>0.9922586</td><td>0.80177372</td><td>0.948</td></tr>\n",
       "\t<tr><td>25</td><td>1991</td><td> 64</td><td>96.79</td><td>90.10</td><td>0.9464765</td><td>0.21497248</td><td>0.984</td></tr>\n",
       "\t<tr><td>26</td><td> 641</td><td> 14</td><td>97.82</td><td>90.00</td><td>0.8440424</td><td>0.28554774</td><td>0.972</td></tr>\n",
       "\t<tr><td>28</td><td>3326</td><td>103</td><td>96.90</td><td>93.32</td><td>0.9414732</td><td>0.13265328</td><td>0.991</td></tr>\n",
       "\t<tr><td>29</td><td> 577</td><td> 42</td><td>92.72</td><td>90.10</td><td>0.8512770</td><td>0.36557924</td><td>0.969</td></tr>\n",
       "\t<tr><td>31</td><td>1221</td><td> 50</td><td>95.90</td><td>92.70</td><td>0.9063953</td><td>0.19683905</td><td>0.985</td></tr>\n",
       "\t<tr><td>32</td><td>1890</td><td> 40</td><td>97.88</td><td>94.23</td><td>0.9074564</td><td>0.17091437</td><td>0.987</td></tr>\n",
       "\t<tr><td>33</td><td>5808</td><td>148</td><td>97.45</td><td>92.89</td><td>0.9695536</td><td>0.15172808</td><td>0.990</td></tr>\n",
       "\t<tr><td>34</td><td>2131</td><td> 70</td><td>96.72</td><td>86.24</td><td>0.9679360</td><td>0.33550430</td><td>0.974</td></tr>\n",
       "\t<tr><td>35</td><td>3301</td><td> 93</td><td>97.18</td><td>95.09</td><td>0.9499309</td><td>0.15142403</td><td>0.990</td></tr>\n",
       "\t<tr><td>36</td><td> 675</td><td>  4</td><td>99.41</td><td>99.41</td><td>0.4600131</td><td>0.07099464</td><td>0.993</td></tr>\n",
       "\t<tr><td>37</td><td>1857</td><td>106</td><td>94.29</td><td>82.44</td><td>0.9787891</td><td>0.58516291</td><td>0.953</td></tr>\n",
       "\t<tr><td>38</td><td>4948</td><td>333</td><td>93.27</td><td>81.67</td><td>0.9877864</td><td>0.43580743</td><td>0.971</td></tr>\n",
       "\t<tr><td>39</td><td>3850</td><td> 36</td><td>99.06</td><td>98.47</td><td>0.2292015</td><td>0.01593254</td><td>0.999</td></tr>\n",
       "\t<tr><td>40</td><td>3240</td><td> 84</td><td>97.41</td><td>94.07</td><td>0.9642973</td><td>0.21150653</td><td>0.985</td></tr>\n",
       "\t<tr><td>41</td><td>2455</td><td> 46</td><td>98.13</td><td>96.01</td><td>0.7264617</td><td>0.05495974</td><td>0.996</td></tr>\n",
       "\t<tr><td>42</td><td>1029</td><td> 20</td><td>98.06</td><td>93.09</td><td>0.9063036</td><td>0.22575706</td><td>0.980</td></tr>\n",
       "\t<tr><td>43</td><td>1162</td><td> 23</td><td>98.02</td><td>81.65</td><td>0.9729201</td><td>0.75758370</td><td>0.920</td></tr>\n",
       "\t<tr><td>44</td><td> 804</td><td> 23</td><td>97.14</td><td>96.64</td><td>0.1546429</td><td>0.05630825</td><td>0.996</td></tr>\n",
       "\t<tr><td>46</td><td>1004</td><td> 44</td><td>95.62</td><td>90.73</td><td>0.9481517</td><td>0.40718387</td><td>0.965</td></tr>\n",
       "\t<tr><td>47</td><td>5471</td><td>141</td><td>97.42</td><td>84.53</td><td>0.9891283</td><td>0.41217430</td><td>0.970</td></tr>\n",
       "\t<tr><td>48</td><td> 656</td><td> 29</td><td>95.58</td><td>91.45</td><td>0.9017198</td><td>0.35571386</td><td>0.968</td></tr>\n",
       "\t<tr><td>49</td><td> 671</td><td> 30</td><td>95.53</td><td>91.94</td><td>0.9221090</td><td>0.42423939</td><td>0.961</td></tr>\n",
       "\t<tr><td>50</td><td>2590</td><td>224</td><td>91.35</td><td>81.34</td><td>0.9772280</td><td>0.49728774</td><td>0.964</td></tr>\n",
       "\t<tr><td>51</td><td>1877</td><td> 55</td><td>97.07</td><td>92.48</td><td>0.9097346</td><td>0.14429966</td><td>0.990</td></tr>\n",
       "\t<tr><td>52</td><td>2515</td><td>110</td><td>95.63</td><td>89.90</td><td>0.9735643</td><td>0.35578252</td><td>0.974</td></tr>\n",
       "\t<tr><td>53</td><td>2338</td><td> 22</td><td>99.06</td><td>87.16</td><td>0.9699630</td><td>0.34416364</td><td>0.968</td></tr>\n",
       "\t<tr><td>55</td><td>4635</td><td> 96</td><td>97.93</td><td>94.00</td><td>0.9719825</td><td>0.19024701</td><td>0.987</td></tr>\n",
       "\t<tr><td>56</td><td>4782</td><td> 71</td><td>98.52</td><td>96.76</td><td>0.9214171</td><td>0.06943487</td><td>0.996</td></tr>\n",
       "\t<tr><td>57</td><td>3164</td><td>106</td><td>96.65</td><td>91.08</td><td>0.9449692</td><td>0.15033925</td><td>0.990</td></tr>\n",
       "\t<tr><td>58</td><td>1569</td><td> 46</td><td>97.07</td><td>90.11</td><td>0.9566960</td><td>0.36144882</td><td>0.970</td></tr>\n",
       "\t<tr><td>59</td><td>5633</td><td>232</td><td>95.88</td><td>76.60</td><td>0.9907650</td><td>0.47173645</td><td>0.967</td></tr>\n",
       "\t<tr><td>60</td><td>4520</td><td>318</td><td>92.96</td><td>85.24</td><td>0.9810364</td><td>0.31747192</td><td>0.979</td></tr>\n",
       "</tbody>\n",
       "</table>\n"
      ],
      "text/latex": [
       "A tibble: 51 × 8\n",
       "\\begin{tabular}{llllllll}\n",
       " device\\_id & n & n\\_unique & regularity & stationarity & diversity & entropy & predictability\\\\\n",
       " <dbl> & <int> & <int> & <dbl> & <dbl> & <dbl> & <dbl> & <dbl>\\\\\n",
       "\\hline\n",
       "\t  1 & 5501 &  14 & 99.75 & 76.80 & 0.9856912 & 0.32191055 & 0.968\\\\\n",
       "\t  2 &  826 &  24 & 97.09 & 91.52 & 0.8298321 & 0.18097403 & 0.985\\\\\n",
       "\t  3 & 5551 & 342 & 93.84 & 84.20 & 0.9883172 & 0.39243111 & 0.974\\\\\n",
       "\t  4 & 4253 & 100 & 97.65 & 89.25 & 0.9703378 & 0.21706384 & 0.985\\\\\n",
       "\t  6 & 2717 & 125 & 95.40 & 77.21 & 0.9854683 & 0.61454099 & 0.952\\\\\n",
       "\t  8 & 5147 & 306 & 94.05 & 71.16 & 0.9935893 & 0.74722140 & 0.946\\\\\n",
       "\t  9 &  858 &  46 & 94.64 & 88.68 & 0.9173295 & 0.33412194 & 0.972\\\\\n",
       "\t 10 & 3316 &  75 & 97.74 & 76.56 & 0.9908871 & 0.73562429 & 0.936\\\\\n",
       "\t 11 & 3312 &  91 & 97.25 & 92.63 & 0.9720924 & 0.27630884 & 0.980\\\\\n",
       "\t 12 & 1481 & 106 & 92.84 & 82.36 & 0.9640512 & 0.45083439 & 0.965\\\\\n",
       "\t 13 & 1863 &  51 & 97.26 & 93.82 & 0.9485013 & 0.24262757 & 0.981\\\\\n",
       "\t 14 &  901 &  80 & 91.12 & 70.56 & 0.9750191 & 0.86027824 & 0.925\\\\\n",
       "\t 17 & 3049 &  92 & 96.98 & 93.70 & 0.9627118 & 0.23858116 & 0.983\\\\\n",
       "\t 18 & 1001 &  41 & 95.90 & 92.00 & 0.9187080 & 0.25991751 & 0.979\\\\\n",
       "\t 19 & 3569 & 153 & 95.71 & 91.23 & 0.9653670 & 0.19996703 & 0.987\\\\\n",
       "\t 20 & 1343 & 101 & 92.48 & 88.00 & 0.9594115 & 0.43333147 & 0.966\\\\\n",
       "\t 21 & 5601 &  80 & 98.57 & 96.30 & 0.9540291 & 0.10155827 & 0.993\\\\\n",
       "\t 22 & 5911 &  10 & 99.83 & 83.69 & 0.9904178 & 0.43484656 & 0.951\\\\\n",
       "\t 24 & 3670 & 785 & 78.61 & 65.96 & 0.9922586 & 0.80177372 & 0.948\\\\\n",
       "\t 25 & 1991 &  64 & 96.79 & 90.10 & 0.9464765 & 0.21497248 & 0.984\\\\\n",
       "\t 26 &  641 &  14 & 97.82 & 90.00 & 0.8440424 & 0.28554774 & 0.972\\\\\n",
       "\t 28 & 3326 & 103 & 96.90 & 93.32 & 0.9414732 & 0.13265328 & 0.991\\\\\n",
       "\t 29 &  577 &  42 & 92.72 & 90.10 & 0.8512770 & 0.36557924 & 0.969\\\\\n",
       "\t 31 & 1221 &  50 & 95.90 & 92.70 & 0.9063953 & 0.19683905 & 0.985\\\\\n",
       "\t 32 & 1890 &  40 & 97.88 & 94.23 & 0.9074564 & 0.17091437 & 0.987\\\\\n",
       "\t 33 & 5808 & 148 & 97.45 & 92.89 & 0.9695536 & 0.15172808 & 0.990\\\\\n",
       "\t 34 & 2131 &  70 & 96.72 & 86.24 & 0.9679360 & 0.33550430 & 0.974\\\\\n",
       "\t 35 & 3301 &  93 & 97.18 & 95.09 & 0.9499309 & 0.15142403 & 0.990\\\\\n",
       "\t 36 &  675 &   4 & 99.41 & 99.41 & 0.4600131 & 0.07099464 & 0.993\\\\\n",
       "\t 37 & 1857 & 106 & 94.29 & 82.44 & 0.9787891 & 0.58516291 & 0.953\\\\\n",
       "\t 38 & 4948 & 333 & 93.27 & 81.67 & 0.9877864 & 0.43580743 & 0.971\\\\\n",
       "\t 39 & 3850 &  36 & 99.06 & 98.47 & 0.2292015 & 0.01593254 & 0.999\\\\\n",
       "\t 40 & 3240 &  84 & 97.41 & 94.07 & 0.9642973 & 0.21150653 & 0.985\\\\\n",
       "\t 41 & 2455 &  46 & 98.13 & 96.01 & 0.7264617 & 0.05495974 & 0.996\\\\\n",
       "\t 42 & 1029 &  20 & 98.06 & 93.09 & 0.9063036 & 0.22575706 & 0.980\\\\\n",
       "\t 43 & 1162 &  23 & 98.02 & 81.65 & 0.9729201 & 0.75758370 & 0.920\\\\\n",
       "\t 44 &  804 &  23 & 97.14 & 96.64 & 0.1546429 & 0.05630825 & 0.996\\\\\n",
       "\t 46 & 1004 &  44 & 95.62 & 90.73 & 0.9481517 & 0.40718387 & 0.965\\\\\n",
       "\t 47 & 5471 & 141 & 97.42 & 84.53 & 0.9891283 & 0.41217430 & 0.970\\\\\n",
       "\t 48 &  656 &  29 & 95.58 & 91.45 & 0.9017198 & 0.35571386 & 0.968\\\\\n",
       "\t 49 &  671 &  30 & 95.53 & 91.94 & 0.9221090 & 0.42423939 & 0.961\\\\\n",
       "\t 50 & 2590 & 224 & 91.35 & 81.34 & 0.9772280 & 0.49728774 & 0.964\\\\\n",
       "\t 51 & 1877 &  55 & 97.07 & 92.48 & 0.9097346 & 0.14429966 & 0.990\\\\\n",
       "\t 52 & 2515 & 110 & 95.63 & 89.90 & 0.9735643 & 0.35578252 & 0.974\\\\\n",
       "\t 53 & 2338 &  22 & 99.06 & 87.16 & 0.9699630 & 0.34416364 & 0.968\\\\\n",
       "\t 55 & 4635 &  96 & 97.93 & 94.00 & 0.9719825 & 0.19024701 & 0.987\\\\\n",
       "\t 56 & 4782 &  71 & 98.52 & 96.76 & 0.9214171 & 0.06943487 & 0.996\\\\\n",
       "\t 57 & 3164 & 106 & 96.65 & 91.08 & 0.9449692 & 0.15033925 & 0.990\\\\\n",
       "\t 58 & 1569 &  46 & 97.07 & 90.11 & 0.9566960 & 0.36144882 & 0.970\\\\\n",
       "\t 59 & 5633 & 232 & 95.88 & 76.60 & 0.9907650 & 0.47173645 & 0.967\\\\\n",
       "\t 60 & 4520 & 318 & 92.96 & 85.24 & 0.9810364 & 0.31747192 & 0.979\\\\\n",
       "\\end{tabular}\n"
      ],
      "text/markdown": [
       "\n",
       "A tibble: 51 × 8\n",
       "\n",
       "| device_id &lt;dbl&gt; | n &lt;int&gt; | n_unique &lt;int&gt; | regularity &lt;dbl&gt; | stationarity &lt;dbl&gt; | diversity &lt;dbl&gt; | entropy &lt;dbl&gt; | predictability &lt;dbl&gt; |\n",
       "|---|---|---|---|---|---|---|---|\n",
       "|  1 | 5501 |  14 | 99.75 | 76.80 | 0.9856912 | 0.32191055 | 0.968 |\n",
       "|  2 |  826 |  24 | 97.09 | 91.52 | 0.8298321 | 0.18097403 | 0.985 |\n",
       "|  3 | 5551 | 342 | 93.84 | 84.20 | 0.9883172 | 0.39243111 | 0.974 |\n",
       "|  4 | 4253 | 100 | 97.65 | 89.25 | 0.9703378 | 0.21706384 | 0.985 |\n",
       "|  6 | 2717 | 125 | 95.40 | 77.21 | 0.9854683 | 0.61454099 | 0.952 |\n",
       "|  8 | 5147 | 306 | 94.05 | 71.16 | 0.9935893 | 0.74722140 | 0.946 |\n",
       "|  9 |  858 |  46 | 94.64 | 88.68 | 0.9173295 | 0.33412194 | 0.972 |\n",
       "| 10 | 3316 |  75 | 97.74 | 76.56 | 0.9908871 | 0.73562429 | 0.936 |\n",
       "| 11 | 3312 |  91 | 97.25 | 92.63 | 0.9720924 | 0.27630884 | 0.980 |\n",
       "| 12 | 1481 | 106 | 92.84 | 82.36 | 0.9640512 | 0.45083439 | 0.965 |\n",
       "| 13 | 1863 |  51 | 97.26 | 93.82 | 0.9485013 | 0.24262757 | 0.981 |\n",
       "| 14 |  901 |  80 | 91.12 | 70.56 | 0.9750191 | 0.86027824 | 0.925 |\n",
       "| 17 | 3049 |  92 | 96.98 | 93.70 | 0.9627118 | 0.23858116 | 0.983 |\n",
       "| 18 | 1001 |  41 | 95.90 | 92.00 | 0.9187080 | 0.25991751 | 0.979 |\n",
       "| 19 | 3569 | 153 | 95.71 | 91.23 | 0.9653670 | 0.19996703 | 0.987 |\n",
       "| 20 | 1343 | 101 | 92.48 | 88.00 | 0.9594115 | 0.43333147 | 0.966 |\n",
       "| 21 | 5601 |  80 | 98.57 | 96.30 | 0.9540291 | 0.10155827 | 0.993 |\n",
       "| 22 | 5911 |  10 | 99.83 | 83.69 | 0.9904178 | 0.43484656 | 0.951 |\n",
       "| 24 | 3670 | 785 | 78.61 | 65.96 | 0.9922586 | 0.80177372 | 0.948 |\n",
       "| 25 | 1991 |  64 | 96.79 | 90.10 | 0.9464765 | 0.21497248 | 0.984 |\n",
       "| 26 |  641 |  14 | 97.82 | 90.00 | 0.8440424 | 0.28554774 | 0.972 |\n",
       "| 28 | 3326 | 103 | 96.90 | 93.32 | 0.9414732 | 0.13265328 | 0.991 |\n",
       "| 29 |  577 |  42 | 92.72 | 90.10 | 0.8512770 | 0.36557924 | 0.969 |\n",
       "| 31 | 1221 |  50 | 95.90 | 92.70 | 0.9063953 | 0.19683905 | 0.985 |\n",
       "| 32 | 1890 |  40 | 97.88 | 94.23 | 0.9074564 | 0.17091437 | 0.987 |\n",
       "| 33 | 5808 | 148 | 97.45 | 92.89 | 0.9695536 | 0.15172808 | 0.990 |\n",
       "| 34 | 2131 |  70 | 96.72 | 86.24 | 0.9679360 | 0.33550430 | 0.974 |\n",
       "| 35 | 3301 |  93 | 97.18 | 95.09 | 0.9499309 | 0.15142403 | 0.990 |\n",
       "| 36 |  675 |   4 | 99.41 | 99.41 | 0.4600131 | 0.07099464 | 0.993 |\n",
       "| 37 | 1857 | 106 | 94.29 | 82.44 | 0.9787891 | 0.58516291 | 0.953 |\n",
       "| 38 | 4948 | 333 | 93.27 | 81.67 | 0.9877864 | 0.43580743 | 0.971 |\n",
       "| 39 | 3850 |  36 | 99.06 | 98.47 | 0.2292015 | 0.01593254 | 0.999 |\n",
       "| 40 | 3240 |  84 | 97.41 | 94.07 | 0.9642973 | 0.21150653 | 0.985 |\n",
       "| 41 | 2455 |  46 | 98.13 | 96.01 | 0.7264617 | 0.05495974 | 0.996 |\n",
       "| 42 | 1029 |  20 | 98.06 | 93.09 | 0.9063036 | 0.22575706 | 0.980 |\n",
       "| 43 | 1162 |  23 | 98.02 | 81.65 | 0.9729201 | 0.75758370 | 0.920 |\n",
       "| 44 |  804 |  23 | 97.14 | 96.64 | 0.1546429 | 0.05630825 | 0.996 |\n",
       "| 46 | 1004 |  44 | 95.62 | 90.73 | 0.9481517 | 0.40718387 | 0.965 |\n",
       "| 47 | 5471 | 141 | 97.42 | 84.53 | 0.9891283 | 0.41217430 | 0.970 |\n",
       "| 48 |  656 |  29 | 95.58 | 91.45 | 0.9017198 | 0.35571386 | 0.968 |\n",
       "| 49 |  671 |  30 | 95.53 | 91.94 | 0.9221090 | 0.42423939 | 0.961 |\n",
       "| 50 | 2590 | 224 | 91.35 | 81.34 | 0.9772280 | 0.49728774 | 0.964 |\n",
       "| 51 | 1877 |  55 | 97.07 | 92.48 | 0.9097346 | 0.14429966 | 0.990 |\n",
       "| 52 | 2515 | 110 | 95.63 | 89.90 | 0.9735643 | 0.35578252 | 0.974 |\n",
       "| 53 | 2338 |  22 | 99.06 | 87.16 | 0.9699630 | 0.34416364 | 0.968 |\n",
       "| 55 | 4635 |  96 | 97.93 | 94.00 | 0.9719825 | 0.19024701 | 0.987 |\n",
       "| 56 | 4782 |  71 | 98.52 | 96.76 | 0.9214171 | 0.06943487 | 0.996 |\n",
       "| 57 | 3164 | 106 | 96.65 | 91.08 | 0.9449692 | 0.15033925 | 0.990 |\n",
       "| 58 | 1569 |  46 | 97.07 | 90.11 | 0.9566960 | 0.36144882 | 0.970 |\n",
       "| 59 | 5633 | 232 | 95.88 | 76.60 | 0.9907650 | 0.47173645 | 0.967 |\n",
       "| 60 | 4520 | 318 | 92.96 | 85.24 | 0.9810364 | 0.31747192 | 0.979 |\n",
       "\n"
      ],
      "text/plain": [
       "   device_id n    n_unique regularity stationarity diversity entropy   \n",
       "1   1        5501  14      99.75      76.80        0.9856912 0.32191055\n",
       "2   2         826  24      97.09      91.52        0.8298321 0.18097403\n",
       "3   3        5551 342      93.84      84.20        0.9883172 0.39243111\n",
       "4   4        4253 100      97.65      89.25        0.9703378 0.21706384\n",
       "5   6        2717 125      95.40      77.21        0.9854683 0.61454099\n",
       "6   8        5147 306      94.05      71.16        0.9935893 0.74722140\n",
       "7   9         858  46      94.64      88.68        0.9173295 0.33412194\n",
       "8  10        3316  75      97.74      76.56        0.9908871 0.73562429\n",
       "9  11        3312  91      97.25      92.63        0.9720924 0.27630884\n",
       "10 12        1481 106      92.84      82.36        0.9640512 0.45083439\n",
       "11 13        1863  51      97.26      93.82        0.9485013 0.24262757\n",
       "12 14         901  80      91.12      70.56        0.9750191 0.86027824\n",
       "13 17        3049  92      96.98      93.70        0.9627118 0.23858116\n",
       "14 18        1001  41      95.90      92.00        0.9187080 0.25991751\n",
       "15 19        3569 153      95.71      91.23        0.9653670 0.19996703\n",
       "16 20        1343 101      92.48      88.00        0.9594115 0.43333147\n",
       "17 21        5601  80      98.57      96.30        0.9540291 0.10155827\n",
       "18 22        5911  10      99.83      83.69        0.9904178 0.43484656\n",
       "19 24        3670 785      78.61      65.96        0.9922586 0.80177372\n",
       "20 25        1991  64      96.79      90.10        0.9464765 0.21497248\n",
       "21 26         641  14      97.82      90.00        0.8440424 0.28554774\n",
       "22 28        3326 103      96.90      93.32        0.9414732 0.13265328\n",
       "23 29         577  42      92.72      90.10        0.8512770 0.36557924\n",
       "24 31        1221  50      95.90      92.70        0.9063953 0.19683905\n",
       "25 32        1890  40      97.88      94.23        0.9074564 0.17091437\n",
       "26 33        5808 148      97.45      92.89        0.9695536 0.15172808\n",
       "27 34        2131  70      96.72      86.24        0.9679360 0.33550430\n",
       "28 35        3301  93      97.18      95.09        0.9499309 0.15142403\n",
       "29 36         675   4      99.41      99.41        0.4600131 0.07099464\n",
       "30 37        1857 106      94.29      82.44        0.9787891 0.58516291\n",
       "31 38        4948 333      93.27      81.67        0.9877864 0.43580743\n",
       "32 39        3850  36      99.06      98.47        0.2292015 0.01593254\n",
       "33 40        3240  84      97.41      94.07        0.9642973 0.21150653\n",
       "34 41        2455  46      98.13      96.01        0.7264617 0.05495974\n",
       "35 42        1029  20      98.06      93.09        0.9063036 0.22575706\n",
       "36 43        1162  23      98.02      81.65        0.9729201 0.75758370\n",
       "37 44         804  23      97.14      96.64        0.1546429 0.05630825\n",
       "38 46        1004  44      95.62      90.73        0.9481517 0.40718387\n",
       "39 47        5471 141      97.42      84.53        0.9891283 0.41217430\n",
       "40 48         656  29      95.58      91.45        0.9017198 0.35571386\n",
       "41 49         671  30      95.53      91.94        0.9221090 0.42423939\n",
       "42 50        2590 224      91.35      81.34        0.9772280 0.49728774\n",
       "43 51        1877  55      97.07      92.48        0.9097346 0.14429966\n",
       "44 52        2515 110      95.63      89.90        0.9735643 0.35578252\n",
       "45 53        2338  22      99.06      87.16        0.9699630 0.34416364\n",
       "46 55        4635  96      97.93      94.00        0.9719825 0.19024701\n",
       "47 56        4782  71      98.52      96.76        0.9214171 0.06943487\n",
       "48 57        3164 106      96.65      91.08        0.9449692 0.15033925\n",
       "49 58        1569  46      97.07      90.11        0.9566960 0.36144882\n",
       "50 59        5633 232      95.88      76.60        0.9907650 0.47173645\n",
       "51 60        4520 318      92.96      85.24        0.9810364 0.31747192\n",
       "   predictability\n",
       "1  0.968         \n",
       "2  0.985         \n",
       "3  0.974         \n",
       "4  0.985         \n",
       "5  0.952         \n",
       "6  0.946         \n",
       "7  0.972         \n",
       "8  0.936         \n",
       "9  0.980         \n",
       "10 0.965         \n",
       "11 0.981         \n",
       "12 0.925         \n",
       "13 0.983         \n",
       "14 0.979         \n",
       "15 0.987         \n",
       "16 0.966         \n",
       "17 0.993         \n",
       "18 0.951         \n",
       "19 0.948         \n",
       "20 0.984         \n",
       "21 0.972         \n",
       "22 0.991         \n",
       "23 0.969         \n",
       "24 0.985         \n",
       "25 0.987         \n",
       "26 0.990         \n",
       "27 0.974         \n",
       "28 0.990         \n",
       "29 0.993         \n",
       "30 0.953         \n",
       "31 0.971         \n",
       "32 0.999         \n",
       "33 0.985         \n",
       "34 0.996         \n",
       "35 0.980         \n",
       "36 0.920         \n",
       "37 0.996         \n",
       "38 0.965         \n",
       "39 0.970         \n",
       "40 0.968         \n",
       "41 0.961         \n",
       "42 0.964         \n",
       "43 0.990         \n",
       "44 0.974         \n",
       "45 0.968         \n",
       "46 0.987         \n",
       "47 0.996         \n",
       "48 0.990         \n",
       "49 0.970         \n",
       "50 0.967         \n",
       "51 0.979         "
      ]
     },
     "metadata": {},
     "output_type": "display_data"
    }
   ],
   "source": [
    "df_metrics"
   ]
  },
  {
   "cell_type": "code",
   "execution_count": 242,
   "metadata": {},
   "outputs": [
    {
     "data": {
      "text/html": [
       "<table class=\"dataframe\">\n",
       "<caption>A tibble: 1 × 4</caption>\n",
       "<thead>\n",
       "\t<tr><th scope=col>regularity</th><th scope=col>stationarity</th><th scope=col>diversity</th><th scope=col>entropy</th></tr>\n",
       "\t<tr><th scope=col>&lt;dbl&gt;</th><th scope=col>&lt;dbl&gt;</th><th scope=col>&lt;dbl&gt;</th><th scope=col>&lt;dbl&gt;</th></tr>\n",
       "</thead>\n",
       "<tbody>\n",
       "\t<tr><td>96.02216</td><td>88.17784</td><td>0.9075969</td><td>0.3287179</td></tr>\n",
       "</tbody>\n",
       "</table>\n"
      ],
      "text/latex": [
       "A tibble: 1 × 4\n",
       "\\begin{tabular}{llll}\n",
       " regularity & stationarity & diversity & entropy\\\\\n",
       " <dbl> & <dbl> & <dbl> & <dbl>\\\\\n",
       "\\hline\n",
       "\t 96.02216 & 88.17784 & 0.9075969 & 0.3287179\\\\\n",
       "\\end{tabular}\n"
      ],
      "text/markdown": [
       "\n",
       "A tibble: 1 × 4\n",
       "\n",
       "| regularity &lt;dbl&gt; | stationarity &lt;dbl&gt; | diversity &lt;dbl&gt; | entropy &lt;dbl&gt; |\n",
       "|---|---|---|---|\n",
       "| 96.02216 | 88.17784 | 0.9075969 | 0.3287179 |\n",
       "\n"
      ],
      "text/plain": [
       "  regularity stationarity diversity entropy  \n",
       "1 96.02216   88.17784     0.9075969 0.3287179"
      ]
     },
     "metadata": {},
     "output_type": "display_data"
    }
   ],
   "source": [
    "df_averages"
   ]
  },
  {
   "cell_type": "code",
   "execution_count": 243,
   "metadata": {},
   "outputs": [
    {
     "data": {
      "text/html": [
       "-0.552616694713797"
      ],
      "text/latex": [
       "-0.552616694713797"
      ],
      "text/markdown": [
       "-0.552616694713797"
      ],
      "text/plain": [
       "[1] -0.5526167"
      ]
     },
     "metadata": {},
     "output_type": "display_data"
    },
    {
     "data": {
      "text/html": [
       "-0.888436390190964"
      ],
      "text/latex": [
       "-0.888436390190964"
      ],
      "text/markdown": [
       "-0.888436390190964"
      ],
      "text/plain": [
       "[1] -0.8884364"
      ]
     },
     "metadata": {},
     "output_type": "display_data"
    },
    {
     "data": {
      "text/html": [
       "0.693755656108597"
      ],
      "text/latex": [
       "0.693755656108597"
      ],
      "text/markdown": [
       "0.693755656108597"
      ],
      "text/plain": [
       "[1] 0.6937557"
      ]
     },
     "metadata": {},
     "output_type": "display_data"
    },
    {
     "data": {
      "text/html": [
       "0.50257941946654"
      ],
      "text/latex": [
       "0.50257941946654"
      ],
      "text/markdown": [
       "0.50257941946654"
      ],
      "text/plain": [
       "[1] 0.5025794"
      ]
     },
     "metadata": {},
     "output_type": "display_data"
    },
    {
     "data": {
      "text/html": [
       "-0.250876756918874"
      ],
      "text/latex": [
       "-0.250876756918874"
      ],
      "text/markdown": [
       "-0.250876756918874"
      ],
      "text/plain": [
       "[1] -0.2508768"
      ]
     },
     "metadata": {},
     "output_type": "display_data"
    },
    {
     "data": {
      "text/html": [
       "-0.754315708693255"
      ],
      "text/latex": [
       "-0.754315708693255"
      ],
      "text/markdown": [
       "-0.754315708693255"
      ],
      "text/plain": [
       "[1] -0.7543157"
      ]
     },
     "metadata": {},
     "output_type": "display_data"
    }
   ],
   "source": [
    "# Correlations between regularity, stationarity, and diversity\n",
    "\n",
    "# Corr: metrics and entropy\n",
    "cor(df_metrics$regularity, df_metrics$entropy, method = c(\"spearman\"))\n",
    "cor(df_metrics$stationarity, df_metrics$entropy, method = c(\"spearman\"))\n",
    "cor(df_metrics$diversity, df_metrics$entropy, method = c(\"spearman\"))\n",
    "\n",
    "# Corr: metrics among themselves\n",
    "cor(df_metrics$regularity, df_metrics$stationarity, method = c(\"spearman\"))\n",
    "cor(df_metrics$regularity, df_metrics$diversity, method = c(\"spearman\"))\n",
    "cor(df_metrics$diversity, df_metrics$stationarity, method = c(\"spearman\"))"
   ]
  },
  {
   "cell_type": "markdown",
   "metadata": {},
   "source": [
    "# Analysis of metrics and outliers"
   ]
  },
  {
   "cell_type": "code",
   "execution_count": 244,
   "metadata": {},
   "outputs": [],
   "source": [
    "# Outliers with respect to regularity\n",
    "\n",
    "df_outliers_regularity <- df_metrics %>%\n",
    "    group_by(device_id) %>%\n",
    "    summarise(entropy = mean(entropy), regularity = mean(regularity)) %>%\n",
    "    # We select 5 outliers for the GPS and 20 for the CDR dataset\n",
    "    top_n(if_else(df_name == \"shanghai\", 20, 5), regularity)"
   ]
  },
  {
   "cell_type": "code",
   "execution_count": 245,
   "metadata": {},
   "outputs": [
    {
     "data": {
      "text/html": [
       "<table class=\"dataframe\">\n",
       "<caption>A tibble: 5 × 3</caption>\n",
       "<thead>\n",
       "\t<tr><th scope=col>device_id</th><th scope=col>entropy</th><th scope=col>regularity</th></tr>\n",
       "\t<tr><th scope=col>&lt;dbl&gt;</th><th scope=col>&lt;dbl&gt;</th><th scope=col>&lt;dbl&gt;</th></tr>\n",
       "</thead>\n",
       "<tbody>\n",
       "\t<tr><td> 1</td><td>0.32191055</td><td>99.75</td></tr>\n",
       "\t<tr><td>22</td><td>0.43484656</td><td>99.83</td></tr>\n",
       "\t<tr><td>36</td><td>0.07099464</td><td>99.41</td></tr>\n",
       "\t<tr><td>39</td><td>0.01593254</td><td>99.06</td></tr>\n",
       "\t<tr><td>53</td><td>0.34416364</td><td>99.06</td></tr>\n",
       "</tbody>\n",
       "</table>\n"
      ],
      "text/latex": [
       "A tibble: 5 × 3\n",
       "\\begin{tabular}{lll}\n",
       " device\\_id & entropy & regularity\\\\\n",
       " <dbl> & <dbl> & <dbl>\\\\\n",
       "\\hline\n",
       "\t  1 & 0.32191055 & 99.75\\\\\n",
       "\t 22 & 0.43484656 & 99.83\\\\\n",
       "\t 36 & 0.07099464 & 99.41\\\\\n",
       "\t 39 & 0.01593254 & 99.06\\\\\n",
       "\t 53 & 0.34416364 & 99.06\\\\\n",
       "\\end{tabular}\n"
      ],
      "text/markdown": [
       "\n",
       "A tibble: 5 × 3\n",
       "\n",
       "| device_id &lt;dbl&gt; | entropy &lt;dbl&gt; | regularity &lt;dbl&gt; |\n",
       "|---|---|---|\n",
       "|  1 | 0.32191055 | 99.75 |\n",
       "| 22 | 0.43484656 | 99.83 |\n",
       "| 36 | 0.07099464 | 99.41 |\n",
       "| 39 | 0.01593254 | 99.06 |\n",
       "| 53 | 0.34416364 | 99.06 |\n",
       "\n"
      ],
      "text/plain": [
       "  device_id entropy    regularity\n",
       "1  1        0.32191055 99.75     \n",
       "2 22        0.43484656 99.83     \n",
       "3 36        0.07099464 99.41     \n",
       "4 39        0.01593254 99.06     \n",
       "5 53        0.34416364 99.06     "
      ]
     },
     "metadata": {},
     "output_type": "display_data"
    }
   ],
   "source": [
    "df_outliers_regularity"
   ]
  },
  {
   "cell_type": "code",
   "execution_count": 246,
   "metadata": {},
   "outputs": [
    {
     "data": {
      "text/html": [
       "<table class=\"dataframe\">\n",
       "<caption>A tibble: 6 × 8</caption>\n",
       "<thead>\n",
       "\t<tr><th scope=col>device_id</th><th scope=col>n</th><th scope=col>n_unique</th><th scope=col>regularity</th><th scope=col>stationarity</th><th scope=col>diversity</th><th scope=col>entropy</th><th scope=col>predictability</th></tr>\n",
       "\t<tr><th scope=col>&lt;dbl&gt;</th><th scope=col>&lt;int&gt;</th><th scope=col>&lt;int&gt;</th><th scope=col>&lt;dbl&gt;</th><th scope=col>&lt;dbl&gt;</th><th scope=col>&lt;dbl&gt;</th><th scope=col>&lt;dbl&gt;</th><th scope=col>&lt;dbl&gt;</th></tr>\n",
       "</thead>\n",
       "<tbody>\n",
       "\t<tr><td>1</td><td>5501</td><td> 14</td><td>99.75</td><td>76.80</td><td>0.9856912</td><td>0.3219106</td><td>0.968</td></tr>\n",
       "\t<tr><td>2</td><td> 826</td><td> 24</td><td>97.09</td><td>91.52</td><td>0.8298321</td><td>0.1809740</td><td>0.985</td></tr>\n",
       "\t<tr><td>3</td><td>5551</td><td>342</td><td>93.84</td><td>84.20</td><td>0.9883172</td><td>0.3924311</td><td>0.974</td></tr>\n",
       "\t<tr><td>4</td><td>4253</td><td>100</td><td>97.65</td><td>89.25</td><td>0.9703378</td><td>0.2170638</td><td>0.985</td></tr>\n",
       "\t<tr><td>6</td><td>2717</td><td>125</td><td>95.40</td><td>77.21</td><td>0.9854683</td><td>0.6145410</td><td>0.952</td></tr>\n",
       "\t<tr><td>8</td><td>5147</td><td>306</td><td>94.05</td><td>71.16</td><td>0.9935893</td><td>0.7472214</td><td>0.946</td></tr>\n",
       "</tbody>\n",
       "</table>\n"
      ],
      "text/latex": [
       "A tibble: 6 × 8\n",
       "\\begin{tabular}{llllllll}\n",
       " device\\_id & n & n\\_unique & regularity & stationarity & diversity & entropy & predictability\\\\\n",
       " <dbl> & <int> & <int> & <dbl> & <dbl> & <dbl> & <dbl> & <dbl>\\\\\n",
       "\\hline\n",
       "\t 1 & 5501 &  14 & 99.75 & 76.80 & 0.9856912 & 0.3219106 & 0.968\\\\\n",
       "\t 2 &  826 &  24 & 97.09 & 91.52 & 0.8298321 & 0.1809740 & 0.985\\\\\n",
       "\t 3 & 5551 & 342 & 93.84 & 84.20 & 0.9883172 & 0.3924311 & 0.974\\\\\n",
       "\t 4 & 4253 & 100 & 97.65 & 89.25 & 0.9703378 & 0.2170638 & 0.985\\\\\n",
       "\t 6 & 2717 & 125 & 95.40 & 77.21 & 0.9854683 & 0.6145410 & 0.952\\\\\n",
       "\t 8 & 5147 & 306 & 94.05 & 71.16 & 0.9935893 & 0.7472214 & 0.946\\\\\n",
       "\\end{tabular}\n"
      ],
      "text/markdown": [
       "\n",
       "A tibble: 6 × 8\n",
       "\n",
       "| device_id &lt;dbl&gt; | n &lt;int&gt; | n_unique &lt;int&gt; | regularity &lt;dbl&gt; | stationarity &lt;dbl&gt; | diversity &lt;dbl&gt; | entropy &lt;dbl&gt; | predictability &lt;dbl&gt; |\n",
       "|---|---|---|---|---|---|---|---|\n",
       "| 1 | 5501 |  14 | 99.75 | 76.80 | 0.9856912 | 0.3219106 | 0.968 |\n",
       "| 2 |  826 |  24 | 97.09 | 91.52 | 0.8298321 | 0.1809740 | 0.985 |\n",
       "| 3 | 5551 | 342 | 93.84 | 84.20 | 0.9883172 | 0.3924311 | 0.974 |\n",
       "| 4 | 4253 | 100 | 97.65 | 89.25 | 0.9703378 | 0.2170638 | 0.985 |\n",
       "| 6 | 2717 | 125 | 95.40 | 77.21 | 0.9854683 | 0.6145410 | 0.952 |\n",
       "| 8 | 5147 | 306 | 94.05 | 71.16 | 0.9935893 | 0.7472214 | 0.946 |\n",
       "\n"
      ],
      "text/plain": [
       "  device_id n    n_unique regularity stationarity diversity entropy  \n",
       "1 1         5501  14      99.75      76.80        0.9856912 0.3219106\n",
       "2 2          826  24      97.09      91.52        0.8298321 0.1809740\n",
       "3 3         5551 342      93.84      84.20        0.9883172 0.3924311\n",
       "4 4         4253 100      97.65      89.25        0.9703378 0.2170638\n",
       "5 6         2717 125      95.40      77.21        0.9854683 0.6145410\n",
       "6 8         5147 306      94.05      71.16        0.9935893 0.7472214\n",
       "  predictability\n",
       "1 0.968         \n",
       "2 0.985         \n",
       "3 0.974         \n",
       "4 0.985         \n",
       "5 0.952         \n",
       "6 0.946         "
      ]
     },
     "metadata": {},
     "output_type": "display_data"
    }
   ],
   "source": [
    "head(df_metrics)"
   ]
  },
  {
   "cell_type": "code",
   "execution_count": 247,
   "metadata": {},
   "outputs": [
    {
     "name": "stderr",
     "output_type": "stream",
     "text": [
      "Saving 6.67 x 6.67 in image\n"
     ]
    },
    {
     "data": {
      "image/png": "[encoded data removed]",
      "text/plain": [
       "plot without title"
      ]
     },
     "metadata": {},
     "output_type": "display_data"
    }
   ],
   "source": [
    "df_metrics %>%\n",
    "    # sample_n(500) %>% # CDR\n",
    "    group_by(device_id) %>%\n",
    "    ggplot(aes(x = regularity, y = entropy)) +\n",
    "    geom_point(shape = if_else(df_name == \"shanghai\", 1, 19), alpha = 0.6, colour = 'blue', size = 2, position = \"jitter\") +\n",
    "    #geom_point(data=df_outliers_regularity, shape=8, size=3, color = 'red') + # GPS\n",
    "    #geom_point(shape = 20, alpha = 0.6, colour = 'blue', size = 3) + # CDR\n",
    "    #geom_point(data=df_outliers_regularity, shape = 1, alpha = 0.6, colour = 'blue', size = 2) + # CDR\n",
    "    #lims(x = c(0.7, 1.0)) + # CDR\n",
    "    theme_classic() +\n",
    "    theme(plot.title = element_text(hjust = 0.5), \n",
    "        text = element_text(size=22),\n",
    "        legend.justification = c(1, 0.01),\n",
    "        legend.position = c(0.99, 0.01)\n",
    "         ) +\n",
    "    labs(y = \"Entropy\", x = \"Regularity (%)\")\n",
    "\n",
    "\n",
    "prefix <- \"images/RegularityEntropy\"\n",
    "fname <- paste(prefix, df_name, df_type, \".pdf\", sep=\"_\")\n",
    "ggsave(plot=last_plot(), filename = fname, device = \"pdf\")\n",
    "embedFonts(fname)"
   ]
  },
  {
   "cell_type": "code",
   "execution_count": 248,
   "metadata": {},
   "outputs": [],
   "source": [
    "# Outliers with respect to stationarity\n",
    "\n",
    "df_outliers_stationarity <- df_metrics %>%\n",
    "    group_by(device_id) %>%\n",
    "    summarise(entropy = mean(entropy), stationarity = mean(stationarity)) %>%\n",
    "    # We select 5 outliers for the GPS and 20 for the CDR dataset\n",
    "    top_n(if_else(df_name == \"shanghai\", 20, 5), stationarity)"
   ]
  },
  {
   "cell_type": "code",
   "execution_count": 249,
   "metadata": {},
   "outputs": [
    {
     "data": {
      "text/html": [
       "<table class=\"dataframe\">\n",
       "<caption>A tibble: 5 × 3</caption>\n",
       "<thead>\n",
       "\t<tr><th scope=col>device_id</th><th scope=col>entropy</th><th scope=col>stationarity</th></tr>\n",
       "\t<tr><th scope=col>&lt;dbl&gt;</th><th scope=col>&lt;dbl&gt;</th><th scope=col>&lt;dbl&gt;</th></tr>\n",
       "</thead>\n",
       "<tbody>\n",
       "\t<tr><td>21</td><td>0.10155827</td><td>96.30</td></tr>\n",
       "\t<tr><td>36</td><td>0.07099464</td><td>99.41</td></tr>\n",
       "\t<tr><td>39</td><td>0.01593254</td><td>98.47</td></tr>\n",
       "\t<tr><td>44</td><td>0.05630825</td><td>96.64</td></tr>\n",
       "\t<tr><td>56</td><td>0.06943487</td><td>96.76</td></tr>\n",
       "</tbody>\n",
       "</table>\n"
      ],
      "text/latex": [
       "A tibble: 5 × 3\n",
       "\\begin{tabular}{lll}\n",
       " device\\_id & entropy & stationarity\\\\\n",
       " <dbl> & <dbl> & <dbl>\\\\\n",
       "\\hline\n",
       "\t 21 & 0.10155827 & 96.30\\\\\n",
       "\t 36 & 0.07099464 & 99.41\\\\\n",
       "\t 39 & 0.01593254 & 98.47\\\\\n",
       "\t 44 & 0.05630825 & 96.64\\\\\n",
       "\t 56 & 0.06943487 & 96.76\\\\\n",
       "\\end{tabular}\n"
      ],
      "text/markdown": [
       "\n",
       "A tibble: 5 × 3\n",
       "\n",
       "| device_id &lt;dbl&gt; | entropy &lt;dbl&gt; | stationarity &lt;dbl&gt; |\n",
       "|---|---|---|\n",
       "| 21 | 0.10155827 | 96.30 |\n",
       "| 36 | 0.07099464 | 99.41 |\n",
       "| 39 | 0.01593254 | 98.47 |\n",
       "| 44 | 0.05630825 | 96.64 |\n",
       "| 56 | 0.06943487 | 96.76 |\n",
       "\n"
      ],
      "text/plain": [
       "  device_id entropy    stationarity\n",
       "1 21        0.10155827 96.30       \n",
       "2 36        0.07099464 99.41       \n",
       "3 39        0.01593254 98.47       \n",
       "4 44        0.05630825 96.64       \n",
       "5 56        0.06943487 96.76       "
      ]
     },
     "metadata": {},
     "output_type": "display_data"
    }
   ],
   "source": [
    "df_outliers_stationarity"
   ]
  },
  {
   "cell_type": "code",
   "execution_count": 250,
   "metadata": {},
   "outputs": [
    {
     "name": "stderr",
     "output_type": "stream",
     "text": [
      "Saving 6.67 x 6.67 in image\n"
     ]
    },
    {
     "data": {
      "image/png": "[encoded data removed]",
      "text/plain": [
       "plot without title"
      ]
     },
     "metadata": {},
     "output_type": "display_data"
    }
   ],
   "source": [
    "df_metrics %>%\n",
    "    group_by(device_id) %>%\n",
    "    ggplot(aes(x = stationarity, y = entropy)) +\n",
    "    geom_point(shape = if_else(df_name == \"shanghai\", 1, 19), alpha = 0.6, colour = 'blue', size = 2, position = \"jitter\") +\n",
    "    #geom_point(data=df_outliers_stationarity, shape=8, size=3, color = 'red') +    \n",
    "    #geom_point(shape = 20, alpha = 0.6, colour = 'blue', size = 3) +\n",
    "    #geom_point(data=df_outliers_stationarity, shape = 20, alpha = 0.6, colour = 'blue', size = 2) +        \n",
    "    #lims(x = c(0.9, 1.0), y = c(0.0, 1.0)) +\n",
    "    theme_classic() +\n",
    "    theme(plot.title = element_text(hjust = 0.5), \n",
    "        text = element_text(size=22),\n",
    "        legend.justification = c(1, 0.01),\n",
    "        legend.position = c(0.99, 0.01)\n",
    "         ) +\n",
    "    labs(y = \"Entropy\", x = \"Stationarity (%)\")\n",
    "\n",
    "prefix <- \"images/StationarityEntropy\"\n",
    "fname <- paste(prefix, df_name, df_type, \".pdf\", sep=\"_\")\n",
    "ggsave(plot=last_plot(), filename = fname, device = \"pdf\")\n",
    "embedFonts(fname)"
   ]
  },
  {
   "cell_type": "code",
   "execution_count": 251,
   "metadata": {},
   "outputs": [],
   "source": [
    "# Outliers with respect to diversity\n",
    "\n",
    "df_outliers_diversity <- df_metrics %>%\n",
    "    group_by(device_id) %>%\n",
    "    summarise(entropy = mean(entropy), diversity = mean(diversity)) %>%\n",
    "    # We select 5 outliers for the GPS and 20 for the CDR dataset\n",
    "    top_n(if_else(df_name == \"shanghai\", 20, 5), diversity)"
   ]
  },
  {
   "cell_type": "code",
   "execution_count": 252,
   "metadata": {},
   "outputs": [
    {
     "data": {
      "text/html": [
       "<table class=\"dataframe\">\n",
       "<caption>A tibble: 5 × 3</caption>\n",
       "<thead>\n",
       "\t<tr><th scope=col>device_id</th><th scope=col>entropy</th><th scope=col>diversity</th></tr>\n",
       "\t<tr><th scope=col>&lt;dbl&gt;</th><th scope=col>&lt;dbl&gt;</th><th scope=col>&lt;dbl&gt;</th></tr>\n",
       "</thead>\n",
       "<tbody>\n",
       "\t<tr><td> 8</td><td>0.7472214</td><td>0.9935893</td></tr>\n",
       "\t<tr><td>10</td><td>0.7356243</td><td>0.9908871</td></tr>\n",
       "\t<tr><td>22</td><td>0.4348466</td><td>0.9904178</td></tr>\n",
       "\t<tr><td>24</td><td>0.8017737</td><td>0.9922586</td></tr>\n",
       "\t<tr><td>59</td><td>0.4717365</td><td>0.9907650</td></tr>\n",
       "</tbody>\n",
       "</table>\n"
      ],
      "text/latex": [
       "A tibble: 5 × 3\n",
       "\\begin{tabular}{lll}\n",
       " device\\_id & entropy & diversity\\\\\n",
       " <dbl> & <dbl> & <dbl>\\\\\n",
       "\\hline\n",
       "\t  8 & 0.7472214 & 0.9935893\\\\\n",
       "\t 10 & 0.7356243 & 0.9908871\\\\\n",
       "\t 22 & 0.4348466 & 0.9904178\\\\\n",
       "\t 24 & 0.8017737 & 0.9922586\\\\\n",
       "\t 59 & 0.4717365 & 0.9907650\\\\\n",
       "\\end{tabular}\n"
      ],
      "text/markdown": [
       "\n",
       "A tibble: 5 × 3\n",
       "\n",
       "| device_id &lt;dbl&gt; | entropy &lt;dbl&gt; | diversity &lt;dbl&gt; |\n",
       "|---|---|---|\n",
       "|  8 | 0.7472214 | 0.9935893 |\n",
       "| 10 | 0.7356243 | 0.9908871 |\n",
       "| 22 | 0.4348466 | 0.9904178 |\n",
       "| 24 | 0.8017737 | 0.9922586 |\n",
       "| 59 | 0.4717365 | 0.9907650 |\n",
       "\n"
      ],
      "text/plain": [
       "  device_id entropy   diversity\n",
       "1  8        0.7472214 0.9935893\n",
       "2 10        0.7356243 0.9908871\n",
       "3 22        0.4348466 0.9904178\n",
       "4 24        0.8017737 0.9922586\n",
       "5 59        0.4717365 0.9907650"
      ]
     },
     "metadata": {},
     "output_type": "display_data"
    }
   ],
   "source": [
    "df_outliers_diversity"
   ]
  },
  {
   "cell_type": "code",
   "execution_count": 253,
   "metadata": {},
   "outputs": [
    {
     "name": "stderr",
     "output_type": "stream",
     "text": [
      "Saving 6.67 x 6.67 in image\n"
     ]
    },
    {
     "data": {
      "image/png": "[encoded data removed]",
      "text/plain": [
       "plot without title"
      ]
     },
     "metadata": {},
     "output_type": "display_data"
    }
   ],
   "source": [
    "df_metrics %>%\n",
    "    group_by(device_id) %>%\n",
    "    ggplot(aes(x = diversity, y = entropy)) +\n",
    "    geom_point(shape = if_else(df_name == \"shanghai\", 1, 19), alpha = 0.6, colour = 'blue', size = 2, position = \"jitter\") +\n",
    "    #geom_point(data=df_outliers_stationarity, shape=8, size=3, color = 'red') +    \n",
    "    #geom_point(shape = 20, alpha = 0.6, colour = 'blue', size = 3) +\n",
    "    #geom_point(data=df_outliers_stationarity, shape = 20, alpha = 0.6, colour = 'blue', size = 2) +        \n",
    "    #lims(x = c(0.9, 1.0), y = c(0.0, 1.0)) +\n",
    "    theme_classic() +\n",
    "    theme(plot.title = element_text(hjust = 0.5), \n",
    "        text = element_text(size=22),\n",
    "        legend.justification = c(1, 0.01),\n",
    "        legend.position = c(0.99, 0.01)\n",
    "         ) +\n",
    "    labs(y = \"Entropy\", x = \"Diversity (%)\")\n",
    "\n",
    "prefix <- \"images/DiversityEntropy\"\n",
    "fname <- paste(prefix, df_name, df_type, \".pdf\", sep=\"_\")\n",
    "ggsave(plot=last_plot(), filename = fname, device = \"pdf\")\n",
    "embedFonts(fname)"
   ]
  },
  {
   "cell_type": "code",
   "execution_count": 254,
   "metadata": {},
   "outputs": [
    {
     "name": "stderr",
     "output_type": "stream",
     "text": [
      "Saving 6.67 x 6.67 in image\n"
     ]
    },
    {
     "data": {
      "image/png": "[encoded data removed]",
      "text/plain": [
       "plot without title"
      ]
     },
     "metadata": {},
     "output_type": "display_data"
    }
   ],
   "source": [
    "# Regularity versus stationarity (for each user)\n",
    "\n",
    "df_metrics %>%\n",
    "    group_by(device_id) %>%\n",
    "    ggplot(aes(x = regularity, y = stationarity)) +\n",
    "    geom_point(shape = if_else(df_name == \"shanghai\", 1, 19), alpha = 0.6, colour = 'blue', size = 2, position = \"jitter\") +\n",
    "    #geom_point(shape = 20, alpha = 0.6, colour = 'blue', size = 3) + # CDR\n",
    "    #lims(x = c(0.9, 1.0), y = c(0.0, 1.0)) + # CDR\n",
    "    theme_classic() +\n",
    "    theme(plot.title = element_text(hjust = 0.5), \n",
    "        text = element_text(size=22),\n",
    "        legend.justification = c(1, 0.01),\n",
    "        legend.position = c(0.99, 0.01)\n",
    "         ) +\n",
    "    labs(y = \"Regularity\", x = \"Stationarity\")\n",
    "\n",
    "prefix <- \"images/RegularityStationarity\"\n",
    "fname <- paste(prefix, df_name, df_type, \".pdf\", sep=\"_\")\n",
    "ggsave(plot=last_plot(), filename = fname, device = \"pdf\")\n",
    "embedFonts(fname)"
   ]
  },
  {
   "cell_type": "code",
   "execution_count": 255,
   "metadata": {},
   "outputs": [
    {
     "name": "stderr",
     "output_type": "stream",
     "text": [
      "Saving 6.67 x 6.67 in image\n"
     ]
    },
    {
     "data": {
      "image/png": "[encoded data removed]",
      "text/plain": [
       "plot without title"
      ]
     },
     "metadata": {},
     "output_type": "display_data"
    }
   ],
   "source": [
    "# Regularity versus diversity (for each user)\n",
    "\n",
    "df_metrics %>%\n",
    "    group_by(device_id) %>%\n",
    "    ggplot(aes(x = regularity, y = diversity)) +\n",
    "    geom_point(shape = if_else(df_name == \"shanghai\", 1, 19), alpha = 0.6, colour = 'blue', size = 2, position = \"jitter\") +\n",
    "    #geom_point(shape = 20, alpha = 0.6, colour = 'blue', size = 3) +\n",
    "    #lims(x = c(0.9, 1.0), y = c(0.0, 1.0)) +\n",
    "    theme_classic() +\n",
    "    theme(plot.title = element_text(hjust = 0.5), \n",
    "        text = element_text(size=22),\n",
    "        legend.justification = c(1, 0.01),\n",
    "        legend.position = c(0.99, 0.01)\n",
    "         ) +\n",
    "    labs(y = \"Regularity\", x = \"Diversity\")\n",
    "\n",
    "prefix <- \"images/RegularityDiversity\"\n",
    "fname <- paste(prefix, df_name, df_type, \".pdf\", sep=\"_\")\n",
    "ggsave(plot=last_plot(), filename = fname, device = \"pdf\")\n",
    "embedFonts(fname)"
   ]
  },
  {
   "cell_type": "code",
   "execution_count": 256,
   "metadata": {},
   "outputs": [
    {
     "name": "stderr",
     "output_type": "stream",
     "text": [
      "Saving 6.67 x 6.67 in image\n"
     ]
    },
    {
     "data": {
      "image/png": "[encoded data removed]",
      "text/plain": [
       "plot without title"
      ]
     },
     "metadata": {},
     "output_type": "display_data"
    }
   ],
   "source": [
    "# Stationarity versus diversity (for each user)\n",
    "\n",
    "df_metrics %>%\n",
    "    group_by(device_id) %>%\n",
    "    ggplot(aes(x = stationarity, y = diversity)) +\n",
    "    geom_point(shape = if_else(df_name == \"shanghai\", 1, 19), alpha = 0.6, colour = 'blue', size = 2) +\n",
    "    #geom_point(shape = 20, alpha = 0.6, colour = 'blue', size = 3) +\n",
    "    #lims(x = c(0.9, 1.0), y = c(0.0, 1.0)) +\n",
    "    theme_classic() +\n",
    "    theme(plot.title = element_text(hjust = 0.5), \n",
    "        text = element_text(size=22),\n",
    "        legend.justification = c(1, 0.01),\n",
    "        legend.position = c(0.99, 0.01)\n",
    "         ) +\n",
    "    labs(y = \"Stationarity\", x = \"Diversity\")\n",
    "\n",
    "prefix <- \"images/StationarityDiversity\"\n",
    "fname <- paste(prefix, df_name, df_type, \".pdf\", sep=\"_\")\n",
    "ggsave(plot=last_plot(), filename = fname, device = \"pdf\")\n",
    "embedFonts(fname)"
   ]
  },
  {
   "cell_type": "markdown",
   "metadata": {},
   "source": [
    "# Spatio-temporal interplay"
   ]
  },
  {
   "cell_type": "code",
   "execution_count": 257,
   "metadata": {},
   "outputs": [
    {
     "data": {
      "text/html": [
       "<table class=\"dataframe\">\n",
       "<caption>A tibble: 1 × 9</caption>\n",
       "<thead>\n",
       "\t<tr><th scope=col>reg200</th><th scope=col>reg300</th><th scope=col>reg400</th><th scope=col>reg500</th><th scope=col>reg600</th><th scope=col>reg700</th><th scope=col>reg800</th><th scope=col>reg900</th><th scope=col>reg1000</th></tr>\n",
       "\t<tr><th scope=col>&lt;dbl&gt;</th><th scope=col>&lt;dbl&gt;</th><th scope=col>&lt;dbl&gt;</th><th scope=col>&lt;dbl&gt;</th><th scope=col>&lt;dbl&gt;</th><th scope=col>&lt;dbl&gt;</th><th scope=col>&lt;dbl&gt;</th><th scope=col>&lt;dbl&gt;</th><th scope=col>&lt;dbl&gt;</th></tr>\n",
       "</thead>\n",
       "<tbody>\n",
       "\t<tr><td>96.02216</td><td>96.58216</td><td>97.00647</td><td>97.35294</td><td>97.57686</td><td>97.79824</td><td>97.94863</td><td>98.06804</td><td>98.21627</td></tr>\n",
       "</tbody>\n",
       "</table>\n"
      ],
      "text/latex": [
       "A tibble: 1 × 9\n",
       "\\begin{tabular}{lllllllll}\n",
       " reg200 & reg300 & reg400 & reg500 & reg600 & reg700 & reg800 & reg900 & reg1000\\\\\n",
       " <dbl> & <dbl> & <dbl> & <dbl> & <dbl> & <dbl> & <dbl> & <dbl> & <dbl>\\\\\n",
       "\\hline\n",
       "\t 96.02216 & 96.58216 & 97.00647 & 97.35294 & 97.57686 & 97.79824 & 97.94863 & 98.06804 & 98.21627\\\\\n",
       "\\end{tabular}\n"
      ],
      "text/markdown": [
       "\n",
       "A tibble: 1 × 9\n",
       "\n",
       "| reg200 &lt;dbl&gt; | reg300 &lt;dbl&gt; | reg400 &lt;dbl&gt; | reg500 &lt;dbl&gt; | reg600 &lt;dbl&gt; | reg700 &lt;dbl&gt; | reg800 &lt;dbl&gt; | reg900 &lt;dbl&gt; | reg1000 &lt;dbl&gt; |\n",
       "|---|---|---|---|---|---|---|---|---|\n",
       "| 96.02216 | 96.58216 | 97.00647 | 97.35294 | 97.57686 | 97.79824 | 97.94863 | 98.06804 | 98.21627 |\n",
       "\n"
      ],
      "text/plain": [
       "  reg200   reg300   reg400   reg500   reg600   reg700   reg800   reg900  \n",
       "1 96.02216 96.58216 97.00647 97.35294 97.57686 97.79824 97.94863 98.06804\n",
       "  reg1000 \n",
       "1 98.21627"
      ]
     },
     "metadata": {},
     "output_type": "display_data"
    }
   ],
   "source": [
    "df %>%\n",
    "    group_by(device_id) %>%\n",
    "    summarise(reg200 = mean(regularity),\n",
    "              reg300 = mean(regularity300),\n",
    "              reg400 = mean(regularity400),\n",
    "              reg500 = mean(regularity500),\n",
    "              reg600 = mean(regularity600),\n",
    "              reg700 = mean(regularity700),\n",
    "              reg800 = mean(regularity800),\n",
    "              reg900 = mean(regularity900),\n",
    "              reg1000 = mean(regularity1000)\n",
    "             ) %>%\n",
    "    summarise(reg200 = mean(reg200),\n",
    "              reg300 = mean(reg300),\n",
    "              reg400 = mean(reg400),\n",
    "              reg500 = mean(reg500),\n",
    "              reg600 = mean(reg600),\n",
    "              reg700 = mean(reg700),\n",
    "              reg800 = mean(reg800),\n",
    "              reg900 = mean(reg900),\n",
    "              reg1000 = mean(reg1000)\n",
    "             )"
   ]
  },
  {
   "cell_type": "code",
   "execution_count": 258,
   "metadata": {},
   "outputs": [
    {
     "data": {
      "text/html": [
       "<table class=\"dataframe\">\n",
       "<caption>A tibble: 1 × 9</caption>\n",
       "<thead>\n",
       "\t<tr><th scope=col>st200</th><th scope=col>st300</th><th scope=col>st400</th><th scope=col>st500</th><th scope=col>st600</th><th scope=col>st700</th><th scope=col>st800</th><th scope=col>st900</th><th scope=col>st1000</th></tr>\n",
       "\t<tr><th scope=col>&lt;dbl&gt;</th><th scope=col>&lt;dbl&gt;</th><th scope=col>&lt;dbl&gt;</th><th scope=col>&lt;dbl&gt;</th><th scope=col>&lt;dbl&gt;</th><th scope=col>&lt;dbl&gt;</th><th scope=col>&lt;dbl&gt;</th><th scope=col>&lt;dbl&gt;</th><th scope=col>&lt;dbl&gt;</th></tr>\n",
       "</thead>\n",
       "<tbody>\n",
       "\t<tr><td>88.17784</td><td>88.41647</td><td>90.15314</td><td>92.36941</td><td>91.72922</td><td>93.09471</td><td>93.42647</td><td>93.85961</td><td>94.14569</td></tr>\n",
       "</tbody>\n",
       "</table>\n"
      ],
      "text/latex": [
       "A tibble: 1 × 9\n",
       "\\begin{tabular}{lllllllll}\n",
       " st200 & st300 & st400 & st500 & st600 & st700 & st800 & st900 & st1000\\\\\n",
       " <dbl> & <dbl> & <dbl> & <dbl> & <dbl> & <dbl> & <dbl> & <dbl> & <dbl>\\\\\n",
       "\\hline\n",
       "\t 88.17784 & 88.41647 & 90.15314 & 92.36941 & 91.72922 & 93.09471 & 93.42647 & 93.85961 & 94.14569\\\\\n",
       "\\end{tabular}\n"
      ],
      "text/markdown": [
       "\n",
       "A tibble: 1 × 9\n",
       "\n",
       "| st200 &lt;dbl&gt; | st300 &lt;dbl&gt; | st400 &lt;dbl&gt; | st500 &lt;dbl&gt; | st600 &lt;dbl&gt; | st700 &lt;dbl&gt; | st800 &lt;dbl&gt; | st900 &lt;dbl&gt; | st1000 &lt;dbl&gt; |\n",
       "|---|---|---|---|---|---|---|---|---|\n",
       "| 88.17784 | 88.41647 | 90.15314 | 92.36941 | 91.72922 | 93.09471 | 93.42647 | 93.85961 | 94.14569 |\n",
       "\n"
      ],
      "text/plain": [
       "  st200    st300    st400    st500    st600    st700    st800    st900   \n",
       "1 88.17784 88.41647 90.15314 92.36941 91.72922 93.09471 93.42647 93.85961\n",
       "  st1000  \n",
       "1 94.14569"
      ]
     },
     "metadata": {},
     "output_type": "display_data"
    }
   ],
   "source": [
    "df %>%\n",
    "    group_by(device_id) %>%\n",
    "    summarise(st200 = mean(stationarity),\n",
    "              st300 = mean(stationarity300),\n",
    "              st400 = mean(stationarity400),\n",
    "              st500 = mean(stationarity500),\n",
    "              st600 = mean(stationarity600),\n",
    "              st700 = mean(stationarity700),\n",
    "              st800 = mean(stationarity800),\n",
    "              st900 = mean(stationarity900),\n",
    "              st1000 = mean(stationarity1000)\n",
    "             ) %>%\n",
    "    summarise(st200 = mean(st200),\n",
    "              st300 = mean(st300),\n",
    "              st400 = mean(st400),\n",
    "              st500 = mean(st500),\n",
    "              st600 = mean(st600),\n",
    "              st700 = mean(st700),\n",
    "              st800 = mean(st800),\n",
    "              st900 = mean(st900),\n",
    "              st1000 = mean(st1000)\n",
    "             )"
   ]
  },
  {
   "cell_type": "code",
   "execution_count": 259,
   "metadata": {},
   "outputs": [
    {
     "data": {
      "text/html": [
       "<table class=\"dataframe\">\n",
       "<caption>A tibble: 1 × 9</caption>\n",
       "<thead>\n",
       "\t<tr><th scope=col>div200</th><th scope=col>div300</th><th scope=col>div400</th><th scope=col>div500</th><th scope=col>div600</th><th scope=col>div700</th><th scope=col>div800</th><th scope=col>div900</th><th scope=col>div1000</th></tr>\n",
       "\t<tr><th scope=col>&lt;dbl&gt;</th><th scope=col>&lt;dbl&gt;</th><th scope=col>&lt;dbl&gt;</th><th scope=col>&lt;dbl&gt;</th><th scope=col>&lt;dbl&gt;</th><th scope=col>&lt;dbl&gt;</th><th scope=col>&lt;dbl&gt;</th><th scope=col>&lt;dbl&gt;</th><th scope=col>&lt;dbl&gt;</th></tr>\n",
       "</thead>\n",
       "<tbody>\n",
       "\t<tr><td>0.9075969</td><td>0.9036246</td><td>0.9024057</td><td>0.8774816</td><td>0.890569</td><td>0.8854523</td><td>0.8724501</td><td>0.8847554</td><td>0.8682015</td></tr>\n",
       "</tbody>\n",
       "</table>\n"
      ],
      "text/latex": [
       "A tibble: 1 × 9\n",
       "\\begin{tabular}{lllllllll}\n",
       " div200 & div300 & div400 & div500 & div600 & div700 & div800 & div900 & div1000\\\\\n",
       " <dbl> & <dbl> & <dbl> & <dbl> & <dbl> & <dbl> & <dbl> & <dbl> & <dbl>\\\\\n",
       "\\hline\n",
       "\t 0.9075969 & 0.9036246 & 0.9024057 & 0.8774816 & 0.890569 & 0.8854523 & 0.8724501 & 0.8847554 & 0.8682015\\\\\n",
       "\\end{tabular}\n"
      ],
      "text/markdown": [
       "\n",
       "A tibble: 1 × 9\n",
       "\n",
       "| div200 &lt;dbl&gt; | div300 &lt;dbl&gt; | div400 &lt;dbl&gt; | div500 &lt;dbl&gt; | div600 &lt;dbl&gt; | div700 &lt;dbl&gt; | div800 &lt;dbl&gt; | div900 &lt;dbl&gt; | div1000 &lt;dbl&gt; |\n",
       "|---|---|---|---|---|---|---|---|---|\n",
       "| 0.9075969 | 0.9036246 | 0.9024057 | 0.8774816 | 0.890569 | 0.8854523 | 0.8724501 | 0.8847554 | 0.8682015 |\n",
       "\n"
      ],
      "text/plain": [
       "  div200    div300    div400    div500    div600   div700    div800   \n",
       "1 0.9075969 0.9036246 0.9024057 0.8774816 0.890569 0.8854523 0.8724501\n",
       "  div900    div1000  \n",
       "1 0.8847554 0.8682015"
      ]
     },
     "metadata": {},
     "output_type": "display_data"
    }
   ],
   "source": [
    "df %>%\n",
    "    group_by(device_id) %>%\n",
    "    summarise(div200 = mean(diversity),\n",
    "              div300 = mean(diversity300),\n",
    "              div400 = mean(diversity400),\n",
    "              div500 = mean(diversity500),\n",
    "              div600 = mean(diversity600),\n",
    "              div700 = mean(diversity700),\n",
    "              div800 = mean(diversity800),\n",
    "              div900 = mean(diversity900),\n",
    "              div1000 = mean(diversity1000)\n",
    "             ) %>%\n",
    "    summarise(div200 = mean(div200),\n",
    "              div300 = mean(div300),\n",
    "              div400 = mean(div400),\n",
    "              div500 = mean(div500),\n",
    "              div600 = mean(div600),\n",
    "              div700 = mean(div700),\n",
    "              div800 = mean(div800),\n",
    "              div900 = mean(div900),\n",
    "              div1000 = mean(div1000)\n",
    "             )"
   ]
  },
  {
   "cell_type": "code",
   "execution_count": 260,
   "metadata": {},
   "outputs": [
    {
     "data": {
      "text/html": [
       "<table class=\"dataframe\">\n",
       "<caption>A tibble: 1 × 9</caption>\n",
       "<thead>\n",
       "\t<tr><th scope=col>ent200</th><th scope=col>ent300</th><th scope=col>ent400</th><th scope=col>ent500</th><th scope=col>ent600</th><th scope=col>ent700</th><th scope=col>ent800</th><th scope=col>ent900</th><th scope=col>ent1000</th></tr>\n",
       "\t<tr><th scope=col>&lt;dbl&gt;</th><th scope=col>&lt;dbl&gt;</th><th scope=col>&lt;dbl&gt;</th><th scope=col>&lt;dbl&gt;</th><th scope=col>&lt;dbl&gt;</th><th scope=col>&lt;dbl&gt;</th><th scope=col>&lt;dbl&gt;</th><th scope=col>&lt;dbl&gt;</th><th scope=col>&lt;dbl&gt;</th></tr>\n",
       "</thead>\n",
       "<tbody>\n",
       "\t<tr><td>0.3287179</td><td>0.3152674</td><td>0.280448</td><td>0.2344917</td><td>0.2569477</td><td>0.2289489</td><td>0.2158823</td><td>0.208034</td><td>0.2065611</td></tr>\n",
       "</tbody>\n",
       "</table>\n"
      ],
      "text/latex": [
       "A tibble: 1 × 9\n",
       "\\begin{tabular}{lllllllll}\n",
       " ent200 & ent300 & ent400 & ent500 & ent600 & ent700 & ent800 & ent900 & ent1000\\\\\n",
       " <dbl> & <dbl> & <dbl> & <dbl> & <dbl> & <dbl> & <dbl> & <dbl> & <dbl>\\\\\n",
       "\\hline\n",
       "\t 0.3287179 & 0.3152674 & 0.280448 & 0.2344917 & 0.2569477 & 0.2289489 & 0.2158823 & 0.208034 & 0.2065611\\\\\n",
       "\\end{tabular}\n"
      ],
      "text/markdown": [
       "\n",
       "A tibble: 1 × 9\n",
       "\n",
       "| ent200 &lt;dbl&gt; | ent300 &lt;dbl&gt; | ent400 &lt;dbl&gt; | ent500 &lt;dbl&gt; | ent600 &lt;dbl&gt; | ent700 &lt;dbl&gt; | ent800 &lt;dbl&gt; | ent900 &lt;dbl&gt; | ent1000 &lt;dbl&gt; |\n",
       "|---|---|---|---|---|---|---|---|---|\n",
       "| 0.3287179 | 0.3152674 | 0.280448 | 0.2344917 | 0.2569477 | 0.2289489 | 0.2158823 | 0.208034 | 0.2065611 |\n",
       "\n"
      ],
      "text/plain": [
       "  ent200    ent300    ent400   ent500    ent600    ent700    ent800    ent900  \n",
       "1 0.3287179 0.3152674 0.280448 0.2344917 0.2569477 0.2289489 0.2158823 0.208034\n",
       "  ent1000  \n",
       "1 0.2065611"
      ]
     },
     "metadata": {},
     "output_type": "display_data"
    }
   ],
   "source": [
    "df %>%\n",
    "    group_by(device_id) %>%\n",
    "    summarise(ent200 = mean(actual_entropy),\n",
    "              ent300 = mean(actual_entropy300),\n",
    "              ent400 = mean(actual_entropy400),\n",
    "              ent500 = mean(actual_entropy500),\n",
    "              ent600 = mean(actual_entropy600),\n",
    "              ent700 = mean(actual_entropy700),\n",
    "              ent800 = mean(actual_entropy800),\n",
    "              ent900 = mean(actual_entropy900),\n",
    "              ent1000 = mean(actual_entropy1000)\n",
    "             ) %>%\n",
    "    summarise(ent200 = mean(ent200),\n",
    "              ent300 = mean(ent300),\n",
    "              ent400 = mean(ent400),\n",
    "              ent500 = mean(ent500),\n",
    "              ent600 = mean(ent600),\n",
    "              ent700 = mean(ent700),\n",
    "              ent800 = mean(ent800),\n",
    "              ent900 = mean(ent900),\n",
    "              ent1000 = mean(ent1000)\n",
    "             )"
   ]
  },
  {
   "cell_type": "code",
   "execution_count": 261,
   "metadata": {},
   "outputs": [
    {
     "data": {
      "text/html": [
       "0.326864290400474"
      ],
      "text/latex": [
       "0.326864290400474"
      ],
      "text/markdown": [
       "0.326864290400474"
      ],
      "text/plain": [
       "[1] 0.3268643"
      ]
     },
     "metadata": {},
     "output_type": "display_data"
    }
   ],
   "source": [
    "mean(df$actual_entropy)"
   ]
  },
  {
   "cell_type": "code",
   "execution_count": 262,
   "metadata": {},
   "outputs": [
    {
     "data": {
      "text/html": [
       "<table class=\"dataframe\">\n",
       "<caption>A tibble: 1 × 9</caption>\n",
       "<thead>\n",
       "\t<tr><th scope=col>pred200</th><th scope=col>pred300</th><th scope=col>pred400</th><th scope=col>pred500</th><th scope=col>pred600</th><th scope=col>pred700</th><th scope=col>pred800</th><th scope=col>pred900</th><th scope=col>pred1000</th></tr>\n",
       "\t<tr><th scope=col>&lt;dbl&gt;</th><th scope=col>&lt;dbl&gt;</th><th scope=col>&lt;dbl&gt;</th><th scope=col>&lt;dbl&gt;</th><th scope=col>&lt;dbl&gt;</th><th scope=col>&lt;dbl&gt;</th><th scope=col>&lt;dbl&gt;</th><th scope=col>&lt;dbl&gt;</th><th scope=col>&lt;dbl&gt;</th></tr>\n",
       "</thead>\n",
       "<tbody>\n",
       "\t<tr><td>0.9737255</td><td>0.9742549</td><td>0.977451</td><td>0.9812157</td><td>0.9788235</td><td>0.9811373</td><td>0.9824314</td><td>0.9828431</td><td>0.9827451</td></tr>\n",
       "</tbody>\n",
       "</table>\n"
      ],
      "text/latex": [
       "A tibble: 1 × 9\n",
       "\\begin{tabular}{lllllllll}\n",
       " pred200 & pred300 & pred400 & pred500 & pred600 & pred700 & pred800 & pred900 & pred1000\\\\\n",
       " <dbl> & <dbl> & <dbl> & <dbl> & <dbl> & <dbl> & <dbl> & <dbl> & <dbl>\\\\\n",
       "\\hline\n",
       "\t 0.9737255 & 0.9742549 & 0.977451 & 0.9812157 & 0.9788235 & 0.9811373 & 0.9824314 & 0.9828431 & 0.9827451\\\\\n",
       "\\end{tabular}\n"
      ],
      "text/markdown": [
       "\n",
       "A tibble: 1 × 9\n",
       "\n",
       "| pred200 &lt;dbl&gt; | pred300 &lt;dbl&gt; | pred400 &lt;dbl&gt; | pred500 &lt;dbl&gt; | pred600 &lt;dbl&gt; | pred700 &lt;dbl&gt; | pred800 &lt;dbl&gt; | pred900 &lt;dbl&gt; | pred1000 &lt;dbl&gt; |\n",
       "|---|---|---|---|---|---|---|---|---|\n",
       "| 0.9737255 | 0.9742549 | 0.977451 | 0.9812157 | 0.9788235 | 0.9811373 | 0.9824314 | 0.9828431 | 0.9827451 |\n",
       "\n"
      ],
      "text/plain": [
       "  pred200   pred300   pred400  pred500   pred600   pred700   pred800  \n",
       "1 0.9737255 0.9742549 0.977451 0.9812157 0.9788235 0.9811373 0.9824314\n",
       "  pred900   pred1000 \n",
       "1 0.9828431 0.9827451"
      ]
     },
     "metadata": {},
     "output_type": "display_data"
    }
   ],
   "source": [
    "df %>%\n",
    "    group_by(device_id) %>%\n",
    "    summarise(pred200 = mean(actual_predictability),\n",
    "              pred300 = mean(actual_predictability300),\n",
    "              pred400 = mean(actual_predictability400),\n",
    "              pred500 = mean(actual_predictability500),\n",
    "              pred600 = mean(actual_predictability600),\n",
    "              pred700 = mean(actual_predictability700),\n",
    "              pred800 = mean(actual_predictability800),\n",
    "              pred900 = mean(actual_predictability900),\n",
    "              pred1000 = mean(actual_predictability1000)\n",
    "             ) %>%\n",
    "    summarise(pred200 = mean(pred200),\n",
    "              pred300 = mean(pred300),\n",
    "              pred400 = mean(pred400),\n",
    "              pred500 = mean(pred500),\n",
    "              pred600 = mean(pred600),\n",
    "              pred700 = mean(pred700),\n",
    "              pred800 = mean(pred800),\n",
    "              pred900 = mean(pred900),\n",
    "              pred1000 = mean(pred1000)\n",
    "             )"
   ]
  },
  {
   "cell_type": "code",
   "execution_count": null,
   "metadata": {},
   "outputs": [],
   "source": []
  }
 ],
 "metadata": {
  "kernelspec": {
   "display_name": "R",
   "language": "R",
   "name": "ir"
  },
  "language_info": {
   "codemirror_mode": "r",
   "file_extension": ".r",
   "mimetype": "text/x-r-source",
   "name": "R",
   "pygments_lexer": "r",
   "version": "3.6.1"
  }
 },
 "nbformat": 4,
 "nbformat_minor": 4
}
