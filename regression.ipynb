{
 "cells": [
  {
   "cell_type": "markdown",
   "metadata": {},
   "source": [
    "# Regression"
   ]
  },
  {
   "cell_type": "markdown",
   "metadata": {},
   "source": [
    "## Setup"
   ]
  },
  {
   "cell_type": "code",
   "execution_count": 167,
   "metadata": {},
   "outputs": [],
   "source": [
    "library(feather)\n",
    "library(tidyverse)\n",
    "library(viridis)\n",
    "library(broom)\n",
    "library(lubridate)\n",
    "library(entropy)\n",
    "library(caret)\n",
    "library(factoextra)"
   ]
  },
  {
   "cell_type": "code",
   "execution_count": 168,
   "metadata": {},
   "outputs": [],
   "source": [
    "df_name <- \"macaco\"\n",
    "df_type <- \"next_cell\"\n",
    "df_path <- paste(\"/data/users_data/douglas/data/\", df_name, \"_tsas_\", df_type, \".tsv\", sep = \"\")"
   ]
  },
  {
   "cell_type": "code",
   "execution_count": 169,
   "metadata": {},
   "outputs": [
    {
     "name": "stderr",
     "output_type": "stream",
     "text": [
      "\n",
      "\u001b[36m--\u001b[39m \u001b[1m\u001b[1mColumn specification\u001b[1m\u001b[22m \u001b[36m--------------------------------------------------------\u001b[39m\n",
      "cols(\n",
      "  .default = col_double(),\n",
      "  device_id = \u001b[31mcol_character()\u001b[39m,\n",
      "  timestamp = \u001b[34mcol_datetime(format = \"\")\u001b[39m\n",
      ")\n",
      "\u001b[36mi\u001b[39m<U+00A0>Use \u001b[30m\u001b[47m\u001b[30m\u001b[47m`spec()`\u001b[47m\u001b[30m\u001b[49m\u001b[39m for the full column specifications.\n",
      "\n"
     ]
    }
   ],
   "source": [
    "df <- read_tsv(df_path, guess_max = 100000)"
   ]
  },
  {
   "cell_type": "code",
   "execution_count": 170,
   "metadata": {},
   "outputs": [],
   "source": [
    "# Compute weekday and hour of day as separate columns.\n",
    "df <- df %>%\n",
    "    mutate(wd = as.factor(wday(timestamp)), hd = as.factor(hour(timestamp)))"
   ]
  },
  {
   "cell_type": "code",
   "execution_count": 171,
   "metadata": {},
   "outputs": [],
   "source": [
    "# Change device_ids to start from one.\n",
    "all_levels = unique(c(as.character(df$device_id)))\n",
    "df <- df %>%\n",
    "    mutate(device_id = as.numeric(factor(df$device_id, levels=all_levels)))"
   ]
  },
  {
   "cell_type": "code",
   "execution_count": 172,
   "metadata": {},
   "outputs": [
    {
     "data": {
      "text/html": [
       "<table class=\"dataframe\">\n",
       "<caption>A tibble: 6 × 85</caption>\n",
       "<thead>\n",
       "\t<tr><th scope=col>measurement_id</th><th scope=col>device_id</th><th scope=col>timestamp</th><th scope=col>grid_id</th><th scope=col>grid_id300</th><th scope=col>grid_id400</th><th scope=col>grid_id500</th><th scope=col>grid_id600</th><th scope=col>grid_id700</th><th scope=col>grid_id800</th><th scope=col>⋯</th><th scope=col>entropy_seq_split_weekday</th><th scope=col>entropy_seq_merge_weekday</th><th scope=col>predictability_seq_split_weekday</th><th scope=col>predictability_seq_merge_weekday</th><th scope=col>entropy_seq_split_hourofday</th><th scope=col>entropy_seq_merge_hourofday</th><th scope=col>predictability_seq_split_hourofday</th><th scope=col>predictability_seq_merge_hourofday</th><th scope=col>wd</th><th scope=col>hd</th></tr>\n",
       "\t<tr><th scope=col>&lt;dbl&gt;</th><th scope=col>&lt;dbl&gt;</th><th scope=col>&lt;dttm&gt;</th><th scope=col>&lt;dbl&gt;</th><th scope=col>&lt;dbl&gt;</th><th scope=col>&lt;dbl&gt;</th><th scope=col>&lt;dbl&gt;</th><th scope=col>&lt;dbl&gt;</th><th scope=col>&lt;dbl&gt;</th><th scope=col>&lt;dbl&gt;</th><th scope=col>⋯</th><th scope=col>&lt;dbl&gt;</th><th scope=col>&lt;dbl&gt;</th><th scope=col>&lt;dbl&gt;</th><th scope=col>&lt;dbl&gt;</th><th scope=col>&lt;dbl&gt;</th><th scope=col>&lt;dbl&gt;</th><th scope=col>&lt;dbl&gt;</th><th scope=col>&lt;dbl&gt;</th><th scope=col>&lt;fct&gt;</th><th scope=col>&lt;fct&gt;</th></tr>\n",
       "</thead>\n",
       "<tbody>\n",
       "\t<tr><td>434778</td><td>1</td><td>2015-03-17 11:06:42</td><td>1843891497</td><td>819515606</td><td>460961560</td><td>295014247</td><td>204885107</td><td>150527670</td><td>115245044</td><td>⋯</td><td>0.4487424</td><td>0.4250529</td><td>0.953</td><td>0.956</td><td>0.6196407</td><td>0.6965125</td><td>0.931</td><td>0.92</td><td>3</td><td>11</td></tr>\n",
       "\t<tr><td>434782</td><td>1</td><td>2015-03-17 11:10:43</td><td>1843891497</td><td>819515606</td><td>460961560</td><td>295014247</td><td>204885107</td><td>150527670</td><td>115245044</td><td>⋯</td><td>0.4487424</td><td>0.4250529</td><td>0.953</td><td>0.956</td><td>0.6196407</td><td>0.6965125</td><td>0.931</td><td>0.92</td><td>3</td><td>11</td></tr>\n",
       "\t<tr><td>434783</td><td>1</td><td>2015-03-17 11:11:11</td><td>1843891497</td><td>819515606</td><td>460961560</td><td>295014247</td><td>204885107</td><td>150527670</td><td>115245044</td><td>⋯</td><td>0.4487424</td><td>0.4250529</td><td>0.953</td><td>0.956</td><td>0.6196407</td><td>0.6965125</td><td>0.931</td><td>0.92</td><td>3</td><td>11</td></tr>\n",
       "\t<tr><td>434785</td><td>1</td><td>2015-03-17 11:13:11</td><td>1843850253</td><td>819515606</td><td>460961560</td><td>295014247</td><td>204885107</td><td>150527670</td><td>115245044</td><td>⋯</td><td>0.4487424</td><td>0.4250529</td><td>0.953</td><td>0.956</td><td>0.6196407</td><td>0.6965125</td><td>0.931</td><td>0.92</td><td>3</td><td>11</td></tr>\n",
       "\t<tr><td>434805</td><td>1</td><td>2015-03-17 11:19:06</td><td>1843850253</td><td>819515606</td><td>460961561</td><td>295014247</td><td>204885107</td><td>150527670</td><td>115245044</td><td>⋯</td><td>0.4487424</td><td>0.4250529</td><td>0.953</td><td>0.956</td><td>0.6196407</td><td>0.6965125</td><td>0.931</td><td>0.92</td><td>3</td><td>11</td></tr>\n",
       "\t<tr><td>434808</td><td>1</td><td>2015-03-17 11:21:11</td><td>1843891497</td><td>819515606</td><td>460961560</td><td>295014247</td><td>204885107</td><td>150527670</td><td>115245044</td><td>⋯</td><td>0.4487424</td><td>0.4250529</td><td>0.953</td><td>0.956</td><td>0.6196407</td><td>0.6965125</td><td>0.931</td><td>0.92</td><td>3</td><td>11</td></tr>\n",
       "</tbody>\n",
       "</table>\n"
      ],
      "text/latex": [
       "A tibble: 6 × 85\n",
       "\\begin{tabular}{lllllllllllllllllllll}\n",
       " measurement\\_id & device\\_id & timestamp & grid\\_id & grid\\_id300 & grid\\_id400 & grid\\_id500 & grid\\_id600 & grid\\_id700 & grid\\_id800 & ⋯ & entropy\\_seq\\_split\\_weekday & entropy\\_seq\\_merge\\_weekday & predictability\\_seq\\_split\\_weekday & predictability\\_seq\\_merge\\_weekday & entropy\\_seq\\_split\\_hourofday & entropy\\_seq\\_merge\\_hourofday & predictability\\_seq\\_split\\_hourofday & predictability\\_seq\\_merge\\_hourofday & wd & hd\\\\\n",
       " <dbl> & <dbl> & <dttm> & <dbl> & <dbl> & <dbl> & <dbl> & <dbl> & <dbl> & <dbl> & ⋯ & <dbl> & <dbl> & <dbl> & <dbl> & <dbl> & <dbl> & <dbl> & <dbl> & <fct> & <fct>\\\\\n",
       "\\hline\n",
       "\t 434778 & 1 & 2015-03-17 11:06:42 & 1843891497 & 819515606 & 460961560 & 295014247 & 204885107 & 150527670 & 115245044 & ⋯ & 0.4487424 & 0.4250529 & 0.953 & 0.956 & 0.6196407 & 0.6965125 & 0.931 & 0.92 & 3 & 11\\\\\n",
       "\t 434782 & 1 & 2015-03-17 11:10:43 & 1843891497 & 819515606 & 460961560 & 295014247 & 204885107 & 150527670 & 115245044 & ⋯ & 0.4487424 & 0.4250529 & 0.953 & 0.956 & 0.6196407 & 0.6965125 & 0.931 & 0.92 & 3 & 11\\\\\n",
       "\t 434783 & 1 & 2015-03-17 11:11:11 & 1843891497 & 819515606 & 460961560 & 295014247 & 204885107 & 150527670 & 115245044 & ⋯ & 0.4487424 & 0.4250529 & 0.953 & 0.956 & 0.6196407 & 0.6965125 & 0.931 & 0.92 & 3 & 11\\\\\n",
       "\t 434785 & 1 & 2015-03-17 11:13:11 & 1843850253 & 819515606 & 460961560 & 295014247 & 204885107 & 150527670 & 115245044 & ⋯ & 0.4487424 & 0.4250529 & 0.953 & 0.956 & 0.6196407 & 0.6965125 & 0.931 & 0.92 & 3 & 11\\\\\n",
       "\t 434805 & 1 & 2015-03-17 11:19:06 & 1843850253 & 819515606 & 460961561 & 295014247 & 204885107 & 150527670 & 115245044 & ⋯ & 0.4487424 & 0.4250529 & 0.953 & 0.956 & 0.6196407 & 0.6965125 & 0.931 & 0.92 & 3 & 11\\\\\n",
       "\t 434808 & 1 & 2015-03-17 11:21:11 & 1843891497 & 819515606 & 460961560 & 295014247 & 204885107 & 150527670 & 115245044 & ⋯ & 0.4487424 & 0.4250529 & 0.953 & 0.956 & 0.6196407 & 0.6965125 & 0.931 & 0.92 & 3 & 11\\\\\n",
       "\\end{tabular}\n"
      ],
      "text/markdown": [
       "\n",
       "A tibble: 6 × 85\n",
       "\n",
       "| measurement_id &lt;dbl&gt; | device_id &lt;dbl&gt; | timestamp &lt;dttm&gt; | grid_id &lt;dbl&gt; | grid_id300 &lt;dbl&gt; | grid_id400 &lt;dbl&gt; | grid_id500 &lt;dbl&gt; | grid_id600 &lt;dbl&gt; | grid_id700 &lt;dbl&gt; | grid_id800 &lt;dbl&gt; | ⋯ ⋯ | entropy_seq_split_weekday &lt;dbl&gt; | entropy_seq_merge_weekday &lt;dbl&gt; | predictability_seq_split_weekday &lt;dbl&gt; | predictability_seq_merge_weekday &lt;dbl&gt; | entropy_seq_split_hourofday &lt;dbl&gt; | entropy_seq_merge_hourofday &lt;dbl&gt; | predictability_seq_split_hourofday &lt;dbl&gt; | predictability_seq_merge_hourofday &lt;dbl&gt; | wd &lt;fct&gt; | hd &lt;fct&gt; |\n",
       "|---|---|---|---|---|---|---|---|---|---|---|---|---|---|---|---|---|---|---|---|---|\n",
       "| 434778 | 1 | 2015-03-17 11:06:42 | 1843891497 | 819515606 | 460961560 | 295014247 | 204885107 | 150527670 | 115245044 | ⋯ | 0.4487424 | 0.4250529 | 0.953 | 0.956 | 0.6196407 | 0.6965125 | 0.931 | 0.92 | 3 | 11 |\n",
       "| 434782 | 1 | 2015-03-17 11:10:43 | 1843891497 | 819515606 | 460961560 | 295014247 | 204885107 | 150527670 | 115245044 | ⋯ | 0.4487424 | 0.4250529 | 0.953 | 0.956 | 0.6196407 | 0.6965125 | 0.931 | 0.92 | 3 | 11 |\n",
       "| 434783 | 1 | 2015-03-17 11:11:11 | 1843891497 | 819515606 | 460961560 | 295014247 | 204885107 | 150527670 | 115245044 | ⋯ | 0.4487424 | 0.4250529 | 0.953 | 0.956 | 0.6196407 | 0.6965125 | 0.931 | 0.92 | 3 | 11 |\n",
       "| 434785 | 1 | 2015-03-17 11:13:11 | 1843850253 | 819515606 | 460961560 | 295014247 | 204885107 | 150527670 | 115245044 | ⋯ | 0.4487424 | 0.4250529 | 0.953 | 0.956 | 0.6196407 | 0.6965125 | 0.931 | 0.92 | 3 | 11 |\n",
       "| 434805 | 1 | 2015-03-17 11:19:06 | 1843850253 | 819515606 | 460961561 | 295014247 | 204885107 | 150527670 | 115245044 | ⋯ | 0.4487424 | 0.4250529 | 0.953 | 0.956 | 0.6196407 | 0.6965125 | 0.931 | 0.92 | 3 | 11 |\n",
       "| 434808 | 1 | 2015-03-17 11:21:11 | 1843891497 | 819515606 | 460961560 | 295014247 | 204885107 | 150527670 | 115245044 | ⋯ | 0.4487424 | 0.4250529 | 0.953 | 0.956 | 0.6196407 | 0.6965125 | 0.931 | 0.92 | 3 | 11 |\n",
       "\n"
      ],
      "text/plain": [
       "  measurement_id device_id timestamp           grid_id    grid_id300 grid_id400\n",
       "1 434778         1         2015-03-17 11:06:42 1843891497 819515606  460961560 \n",
       "2 434782         1         2015-03-17 11:10:43 1843891497 819515606  460961560 \n",
       "3 434783         1         2015-03-17 11:11:11 1843891497 819515606  460961560 \n",
       "4 434785         1         2015-03-17 11:13:11 1843850253 819515606  460961560 \n",
       "5 434805         1         2015-03-17 11:19:06 1843850253 819515606  460961561 \n",
       "6 434808         1         2015-03-17 11:21:11 1843891497 819515606  460961560 \n",
       "  grid_id500 grid_id600 grid_id700 grid_id800 <U+22EF>  \n",
       "1 295014247  204885107  150527670  115245044  <U+22EF>\n",
       "2 295014247  204885107  150527670  115245044  <U+22EF>\n",
       "3 295014247  204885107  150527670  115245044  <U+22EF>\n",
       "4 295014247  204885107  150527670  115245044  <U+22EF>\n",
       "5 295014247  204885107  150527670  115245044  <U+22EF>\n",
       "6 295014247  204885107  150527670  115245044  <U+22EF>\n",
       "  entropy_seq_split_weekday entropy_seq_merge_weekday\n",
       "1 0.4487424                 0.4250529                \n",
       "2 0.4487424                 0.4250529                \n",
       "3 0.4487424                 0.4250529                \n",
       "4 0.4487424                 0.4250529                \n",
       "5 0.4487424                 0.4250529                \n",
       "6 0.4487424                 0.4250529                \n",
       "  predictability_seq_split_weekday predictability_seq_merge_weekday\n",
       "1 0.953                            0.956                           \n",
       "2 0.953                            0.956                           \n",
       "3 0.953                            0.956                           \n",
       "4 0.953                            0.956                           \n",
       "5 0.953                            0.956                           \n",
       "6 0.953                            0.956                           \n",
       "  entropy_seq_split_hourofday entropy_seq_merge_hourofday\n",
       "1 0.6196407                   0.6965125                  \n",
       "2 0.6196407                   0.6965125                  \n",
       "3 0.6196407                   0.6965125                  \n",
       "4 0.6196407                   0.6965125                  \n",
       "5 0.6196407                   0.6965125                  \n",
       "6 0.6196407                   0.6965125                  \n",
       "  predictability_seq_split_hourofday predictability_seq_merge_hourofday wd hd\n",
       "1 0.931                              0.92                               3  11\n",
       "2 0.931                              0.92                               3  11\n",
       "3 0.931                              0.92                               3  11\n",
       "4 0.931                              0.92                               3  11\n",
       "5 0.931                              0.92                               3  11\n",
       "6 0.931                              0.92                               3  11"
      ]
     },
     "metadata": {},
     "output_type": "display_data"
    }
   ],
   "source": [
    "head(df)"
   ]
  },
  {
   "cell_type": "code",
   "execution_count": 173,
   "metadata": {},
   "outputs": [
    {
     "data": {
      "text/html": [
       "<style>\n",
       ".list-inline {list-style: none; margin:0; padding: 0}\n",
       ".list-inline>li {display: inline-block}\n",
       ".list-inline>li:not(:last-child)::after {content: \"\\00b7\"; padding: 0 .5ex}\n",
       "</style>\n",
       "<ol class=list-inline><li>'measurement_id'</li><li>'device_id'</li><li>'timestamp'</li><li>'grid_id'</li><li>'grid_id300'</li><li>'grid_id400'</li><li>'grid_id500'</li><li>'grid_id600'</li><li>'grid_id700'</li><li>'grid_id800'</li><li>'grid_id900'</li><li>'grid_id1000'</li><li>'regularity'</li><li>'stationarity'</li><li>'diversity'</li><li>'regularity300'</li><li>'stationarity300'</li><li>'diversity300'</li><li>'regularity400'</li><li>'stationarity400'</li><li>'diversity400'</li><li>'regularity500'</li><li>'stationarity500'</li><li>'diversity500'</li><li>'regularity600'</li><li>'stationarity600'</li><li>'diversity600'</li><li>'regularity700'</li><li>'stationarity700'</li><li>'diversity700'</li><li>'regularity800'</li><li>'stationarity800'</li><li>'diversity800'</li><li>'regularity900'</li><li>'stationarity900'</li><li>'diversity900'</li><li>'regularity1000'</li><li>'stationarity1000'</li><li>'diversity1000'</li><li>'baseline_entropy'</li><li>'actual_entropy'</li><li>'baseline_predictability'</li><li>'actual_predictability'</li><li>'baseline_entropy300'</li><li>'actual_entropy300'</li><li>'baseline_predictability300'</li><li>'actual_predictability300'</li><li>'baseline_entropy400'</li><li>'actual_entropy400'</li><li>'baseline_predictability400'</li><li>'actual_predictability400'</li><li>'baseline_entropy500'</li><li>'actual_entropy500'</li><li>'baseline_predictability500'</li><li>'actual_predictability500'</li><li>'baseline_entropy600'</li><li>'actual_entropy600'</li><li>'baseline_predictability600'</li><li>'actual_predictability600'</li><li>'baseline_entropy700'</li><li>'actual_entropy700'</li><li>'baseline_predictability700'</li><li>'actual_predictability700'</li><li>'baseline_entropy800'</li><li>'actual_entropy800'</li><li>'baseline_predictability800'</li><li>'actual_predictability800'</li><li>'baseline_entropy900'</li><li>'actual_entropy900'</li><li>'baseline_predictability900'</li><li>'actual_predictability900'</li><li>'baseline_entropy1000'</li><li>'actual_entropy1000'</li><li>'baseline_predictability1000'</li><li>'actual_predictability1000'</li><li>'entropy_seq_split_weekday'</li><li>'entropy_seq_merge_weekday'</li><li>'predictability_seq_split_weekday'</li><li>'predictability_seq_merge_weekday'</li><li>'entropy_seq_split_hourofday'</li><li>'entropy_seq_merge_hourofday'</li><li>'predictability_seq_split_hourofday'</li><li>'predictability_seq_merge_hourofday'</li><li>'wd'</li><li>'hd'</li></ol>\n"
      ],
      "text/latex": [
       "\\begin{enumerate*}\n",
       "\\item 'measurement\\_id'\n",
       "\\item 'device\\_id'\n",
       "\\item 'timestamp'\n",
       "\\item 'grid\\_id'\n",
       "\\item 'grid\\_id300'\n",
       "\\item 'grid\\_id400'\n",
       "\\item 'grid\\_id500'\n",
       "\\item 'grid\\_id600'\n",
       "\\item 'grid\\_id700'\n",
       "\\item 'grid\\_id800'\n",
       "\\item 'grid\\_id900'\n",
       "\\item 'grid\\_id1000'\n",
       "\\item 'regularity'\n",
       "\\item 'stationarity'\n",
       "\\item 'diversity'\n",
       "\\item 'regularity300'\n",
       "\\item 'stationarity300'\n",
       "\\item 'diversity300'\n",
       "\\item 'regularity400'\n",
       "\\item 'stationarity400'\n",
       "\\item 'diversity400'\n",
       "\\item 'regularity500'\n",
       "\\item 'stationarity500'\n",
       "\\item 'diversity500'\n",
       "\\item 'regularity600'\n",
       "\\item 'stationarity600'\n",
       "\\item 'diversity600'\n",
       "\\item 'regularity700'\n",
       "\\item 'stationarity700'\n",
       "\\item 'diversity700'\n",
       "\\item 'regularity800'\n",
       "\\item 'stationarity800'\n",
       "\\item 'diversity800'\n",
       "\\item 'regularity900'\n",
       "\\item 'stationarity900'\n",
       "\\item 'diversity900'\n",
       "\\item 'regularity1000'\n",
       "\\item 'stationarity1000'\n",
       "\\item 'diversity1000'\n",
       "\\item 'baseline\\_entropy'\n",
       "\\item 'actual\\_entropy'\n",
       "\\item 'baseline\\_predictability'\n",
       "\\item 'actual\\_predictability'\n",
       "\\item 'baseline\\_entropy300'\n",
       "\\item 'actual\\_entropy300'\n",
       "\\item 'baseline\\_predictability300'\n",
       "\\item 'actual\\_predictability300'\n",
       "\\item 'baseline\\_entropy400'\n",
       "\\item 'actual\\_entropy400'\n",
       "\\item 'baseline\\_predictability400'\n",
       "\\item 'actual\\_predictability400'\n",
       "\\item 'baseline\\_entropy500'\n",
       "\\item 'actual\\_entropy500'\n",
       "\\item 'baseline\\_predictability500'\n",
       "\\item 'actual\\_predictability500'\n",
       "\\item 'baseline\\_entropy600'\n",
       "\\item 'actual\\_entropy600'\n",
       "\\item 'baseline\\_predictability600'\n",
       "\\item 'actual\\_predictability600'\n",
       "\\item 'baseline\\_entropy700'\n",
       "\\item 'actual\\_entropy700'\n",
       "\\item 'baseline\\_predictability700'\n",
       "\\item 'actual\\_predictability700'\n",
       "\\item 'baseline\\_entropy800'\n",
       "\\item 'actual\\_entropy800'\n",
       "\\item 'baseline\\_predictability800'\n",
       "\\item 'actual\\_predictability800'\n",
       "\\item 'baseline\\_entropy900'\n",
       "\\item 'actual\\_entropy900'\n",
       "\\item 'baseline\\_predictability900'\n",
       "\\item 'actual\\_predictability900'\n",
       "\\item 'baseline\\_entropy1000'\n",
       "\\item 'actual\\_entropy1000'\n",
       "\\item 'baseline\\_predictability1000'\n",
       "\\item 'actual\\_predictability1000'\n",
       "\\item 'entropy\\_seq\\_split\\_weekday'\n",
       "\\item 'entropy\\_seq\\_merge\\_weekday'\n",
       "\\item 'predictability\\_seq\\_split\\_weekday'\n",
       "\\item 'predictability\\_seq\\_merge\\_weekday'\n",
       "\\item 'entropy\\_seq\\_split\\_hourofday'\n",
       "\\item 'entropy\\_seq\\_merge\\_hourofday'\n",
       "\\item 'predictability\\_seq\\_split\\_hourofday'\n",
       "\\item 'predictability\\_seq\\_merge\\_hourofday'\n",
       "\\item 'wd'\n",
       "\\item 'hd'\n",
       "\\end{enumerate*}\n"
      ],
      "text/markdown": [
       "1. 'measurement_id'\n",
       "2. 'device_id'\n",
       "3. 'timestamp'\n",
       "4. 'grid_id'\n",
       "5. 'grid_id300'\n",
       "6. 'grid_id400'\n",
       "7. 'grid_id500'\n",
       "8. 'grid_id600'\n",
       "9. 'grid_id700'\n",
       "10. 'grid_id800'\n",
       "11. 'grid_id900'\n",
       "12. 'grid_id1000'\n",
       "13. 'regularity'\n",
       "14. 'stationarity'\n",
       "15. 'diversity'\n",
       "16. 'regularity300'\n",
       "17. 'stationarity300'\n",
       "18. 'diversity300'\n",
       "19. 'regularity400'\n",
       "20. 'stationarity400'\n",
       "21. 'diversity400'\n",
       "22. 'regularity500'\n",
       "23. 'stationarity500'\n",
       "24. 'diversity500'\n",
       "25. 'regularity600'\n",
       "26. 'stationarity600'\n",
       "27. 'diversity600'\n",
       "28. 'regularity700'\n",
       "29. 'stationarity700'\n",
       "30. 'diversity700'\n",
       "31. 'regularity800'\n",
       "32. 'stationarity800'\n",
       "33. 'diversity800'\n",
       "34. 'regularity900'\n",
       "35. 'stationarity900'\n",
       "36. 'diversity900'\n",
       "37. 'regularity1000'\n",
       "38. 'stationarity1000'\n",
       "39. 'diversity1000'\n",
       "40. 'baseline_entropy'\n",
       "41. 'actual_entropy'\n",
       "42. 'baseline_predictability'\n",
       "43. 'actual_predictability'\n",
       "44. 'baseline_entropy300'\n",
       "45. 'actual_entropy300'\n",
       "46. 'baseline_predictability300'\n",
       "47. 'actual_predictability300'\n",
       "48. 'baseline_entropy400'\n",
       "49. 'actual_entropy400'\n",
       "50. 'baseline_predictability400'\n",
       "51. 'actual_predictability400'\n",
       "52. 'baseline_entropy500'\n",
       "53. 'actual_entropy500'\n",
       "54. 'baseline_predictability500'\n",
       "55. 'actual_predictability500'\n",
       "56. 'baseline_entropy600'\n",
       "57. 'actual_entropy600'\n",
       "58. 'baseline_predictability600'\n",
       "59. 'actual_predictability600'\n",
       "60. 'baseline_entropy700'\n",
       "61. 'actual_entropy700'\n",
       "62. 'baseline_predictability700'\n",
       "63. 'actual_predictability700'\n",
       "64. 'baseline_entropy800'\n",
       "65. 'actual_entropy800'\n",
       "66. 'baseline_predictability800'\n",
       "67. 'actual_predictability800'\n",
       "68. 'baseline_entropy900'\n",
       "69. 'actual_entropy900'\n",
       "70. 'baseline_predictability900'\n",
       "71. 'actual_predictability900'\n",
       "72. 'baseline_entropy1000'\n",
       "73. 'actual_entropy1000'\n",
       "74. 'baseline_predictability1000'\n",
       "75. 'actual_predictability1000'\n",
       "76. 'entropy_seq_split_weekday'\n",
       "77. 'entropy_seq_merge_weekday'\n",
       "78. 'predictability_seq_split_weekday'\n",
       "79. 'predictability_seq_merge_weekday'\n",
       "80. 'entropy_seq_split_hourofday'\n",
       "81. 'entropy_seq_merge_hourofday'\n",
       "82. 'predictability_seq_split_hourofday'\n",
       "83. 'predictability_seq_merge_hourofday'\n",
       "84. 'wd'\n",
       "85. 'hd'\n",
       "\n",
       "\n"
      ],
      "text/plain": [
       " [1] \"measurement_id\"                     \"device_id\"                         \n",
       " [3] \"timestamp\"                          \"grid_id\"                           \n",
       " [5] \"grid_id300\"                         \"grid_id400\"                        \n",
       " [7] \"grid_id500\"                         \"grid_id600\"                        \n",
       " [9] \"grid_id700\"                         \"grid_id800\"                        \n",
       "[11] \"grid_id900\"                         \"grid_id1000\"                       \n",
       "[13] \"regularity\"                         \"stationarity\"                      \n",
       "[15] \"diversity\"                          \"regularity300\"                     \n",
       "[17] \"stationarity300\"                    \"diversity300\"                      \n",
       "[19] \"regularity400\"                      \"stationarity400\"                   \n",
       "[21] \"diversity400\"                       \"regularity500\"                     \n",
       "[23] \"stationarity500\"                    \"diversity500\"                      \n",
       "[25] \"regularity600\"                      \"stationarity600\"                   \n",
       "[27] \"diversity600\"                       \"regularity700\"                     \n",
       "[29] \"stationarity700\"                    \"diversity700\"                      \n",
       "[31] \"regularity800\"                      \"stationarity800\"                   \n",
       "[33] \"diversity800\"                       \"regularity900\"                     \n",
       "[35] \"stationarity900\"                    \"diversity900\"                      \n",
       "[37] \"regularity1000\"                     \"stationarity1000\"                  \n",
       "[39] \"diversity1000\"                      \"baseline_entropy\"                  \n",
       "[41] \"actual_entropy\"                     \"baseline_predictability\"           \n",
       "[43] \"actual_predictability\"              \"baseline_entropy300\"               \n",
       "[45] \"actual_entropy300\"                  \"baseline_predictability300\"        \n",
       "[47] \"actual_predictability300\"           \"baseline_entropy400\"               \n",
       "[49] \"actual_entropy400\"                  \"baseline_predictability400\"        \n",
       "[51] \"actual_predictability400\"           \"baseline_entropy500\"               \n",
       "[53] \"actual_entropy500\"                  \"baseline_predictability500\"        \n",
       "[55] \"actual_predictability500\"           \"baseline_entropy600\"               \n",
       "[57] \"actual_entropy600\"                  \"baseline_predictability600\"        \n",
       "[59] \"actual_predictability600\"           \"baseline_entropy700\"               \n",
       "[61] \"actual_entropy700\"                  \"baseline_predictability700\"        \n",
       "[63] \"actual_predictability700\"           \"baseline_entropy800\"               \n",
       "[65] \"actual_entropy800\"                  \"baseline_predictability800\"        \n",
       "[67] \"actual_predictability800\"           \"baseline_entropy900\"               \n",
       "[69] \"actual_entropy900\"                  \"baseline_predictability900\"        \n",
       "[71] \"actual_predictability900\"           \"baseline_entropy1000\"              \n",
       "[73] \"actual_entropy1000\"                 \"baseline_predictability1000\"       \n",
       "[75] \"actual_predictability1000\"          \"entropy_seq_split_weekday\"         \n",
       "[77] \"entropy_seq_merge_weekday\"          \"predictability_seq_split_weekday\"  \n",
       "[79] \"predictability_seq_merge_weekday\"   \"entropy_seq_split_hourofday\"       \n",
       "[81] \"entropy_seq_merge_hourofday\"        \"predictability_seq_split_hourofday\"\n",
       "[83] \"predictability_seq_merge_hourofday\" \"wd\"                                \n",
       "[85] \"hd\"                                "
      ]
     },
     "metadata": {},
     "output_type": "display_data"
    }
   ],
   "source": [
    "colnames(df)"
   ]
  },
  {
   "cell_type": "markdown",
   "metadata": {},
   "source": [
    "# Regression"
   ]
  },
  {
   "cell_type": "code",
   "execution_count": 174,
   "metadata": {},
   "outputs": [],
   "source": [
    "normalize <- function(x){ return((x-min(x)) / (max(x)-min(x))) }\n",
    "zscore <- function(x, na.rm = TRUE) (x - mean(x, na.rm = TRUE)) / sd(x, na.rm = TRUE)\n",
    "\n",
    "df_regression <- df %>%\n",
    "    group_by(device_id) %>%\n",
    "    filter(n() > 42) %>%\n",
    "    summarise(\n",
    "             n = n(),\n",
    "             n_unique = n_distinct(grid_id),\n",
    "             regularity = mean(regularity),\n",
    "             diversity = mean(diversity),\n",
    "             stationarity = if_else(df_type == \"next_place\", 0.0, mean(stationarity)),\n",
    "             entropy = mean(actual_entropy),\n",
    "             predictability = mean(actual_predictability)\n",
    "    )  %>%\n",
    "    mutate_at(c(\"predictability\"), normalize)"
   ]
  },
  {
   "cell_type": "code",
   "execution_count": 175,
   "metadata": {},
   "outputs": [
    {
     "data": {
      "text/html": [
       "<table class=\"dataframe\">\n",
       "<caption>A tibble: 6 × 8</caption>\n",
       "<thead>\n",
       "\t<tr><th scope=col>device_id</th><th scope=col>n</th><th scope=col>n_unique</th><th scope=col>regularity</th><th scope=col>diversity</th><th scope=col>stationarity</th><th scope=col>entropy</th><th scope=col>predictability</th></tr>\n",
       "\t<tr><th scope=col>&lt;dbl&gt;</th><th scope=col>&lt;int&gt;</th><th scope=col>&lt;int&gt;</th><th scope=col>&lt;dbl&gt;</th><th scope=col>&lt;dbl&gt;</th><th scope=col>&lt;dbl&gt;</th><th scope=col>&lt;dbl&gt;</th><th scope=col>&lt;dbl&gt;</th></tr>\n",
       "</thead>\n",
       "<tbody>\n",
       "\t<tr><td>1</td><td>5501</td><td> 14</td><td>99.75</td><td>0.9856912</td><td>76.80</td><td>0.3219106</td><td>0.744</td></tr>\n",
       "\t<tr><td>2</td><td> 826</td><td> 24</td><td>97.09</td><td>0.8298321</td><td>91.52</td><td>0.1809740</td><td>0.880</td></tr>\n",
       "\t<tr><td>3</td><td>5551</td><td>342</td><td>93.84</td><td>0.9883172</td><td>84.20</td><td>0.3924311</td><td>0.792</td></tr>\n",
       "\t<tr><td>4</td><td>4253</td><td>100</td><td>97.65</td><td>0.9703378</td><td>89.25</td><td>0.2170638</td><td>0.880</td></tr>\n",
       "\t<tr><td>5</td><td> 199</td><td>  3</td><td>98.49</td><td>0.6377889</td><td>96.97</td><td>0.3899636</td><td>0.512</td></tr>\n",
       "\t<tr><td>6</td><td>2717</td><td>125</td><td>95.40</td><td>0.9854683</td><td>77.21</td><td>0.6145410</td><td>0.616</td></tr>\n",
       "</tbody>\n",
       "</table>\n"
      ],
      "text/latex": [
       "A tibble: 6 × 8\n",
       "\\begin{tabular}{llllllll}\n",
       " device\\_id & n & n\\_unique & regularity & diversity & stationarity & entropy & predictability\\\\\n",
       " <dbl> & <int> & <int> & <dbl> & <dbl> & <dbl> & <dbl> & <dbl>\\\\\n",
       "\\hline\n",
       "\t 1 & 5501 &  14 & 99.75 & 0.9856912 & 76.80 & 0.3219106 & 0.744\\\\\n",
       "\t 2 &  826 &  24 & 97.09 & 0.8298321 & 91.52 & 0.1809740 & 0.880\\\\\n",
       "\t 3 & 5551 & 342 & 93.84 & 0.9883172 & 84.20 & 0.3924311 & 0.792\\\\\n",
       "\t 4 & 4253 & 100 & 97.65 & 0.9703378 & 89.25 & 0.2170638 & 0.880\\\\\n",
       "\t 5 &  199 &   3 & 98.49 & 0.6377889 & 96.97 & 0.3899636 & 0.512\\\\\n",
       "\t 6 & 2717 & 125 & 95.40 & 0.9854683 & 77.21 & 0.6145410 & 0.616\\\\\n",
       "\\end{tabular}\n"
      ],
      "text/markdown": [
       "\n",
       "A tibble: 6 × 8\n",
       "\n",
       "| device_id &lt;dbl&gt; | n &lt;int&gt; | n_unique &lt;int&gt; | regularity &lt;dbl&gt; | diversity &lt;dbl&gt; | stationarity &lt;dbl&gt; | entropy &lt;dbl&gt; | predictability &lt;dbl&gt; |\n",
       "|---|---|---|---|---|---|---|---|\n",
       "| 1 | 5501 |  14 | 99.75 | 0.9856912 | 76.80 | 0.3219106 | 0.744 |\n",
       "| 2 |  826 |  24 | 97.09 | 0.8298321 | 91.52 | 0.1809740 | 0.880 |\n",
       "| 3 | 5551 | 342 | 93.84 | 0.9883172 | 84.20 | 0.3924311 | 0.792 |\n",
       "| 4 | 4253 | 100 | 97.65 | 0.9703378 | 89.25 | 0.2170638 | 0.880 |\n",
       "| 5 |  199 |   3 | 98.49 | 0.6377889 | 96.97 | 0.3899636 | 0.512 |\n",
       "| 6 | 2717 | 125 | 95.40 | 0.9854683 | 77.21 | 0.6145410 | 0.616 |\n",
       "\n"
      ],
      "text/plain": [
       "  device_id n    n_unique regularity diversity stationarity entropy  \n",
       "1 1         5501  14      99.75      0.9856912 76.80        0.3219106\n",
       "2 2          826  24      97.09      0.8298321 91.52        0.1809740\n",
       "3 3         5551 342      93.84      0.9883172 84.20        0.3924311\n",
       "4 4         4253 100      97.65      0.9703378 89.25        0.2170638\n",
       "5 5          199   3      98.49      0.6377889 96.97        0.3899636\n",
       "6 6         2717 125      95.40      0.9854683 77.21        0.6145410\n",
       "  predictability\n",
       "1 0.744         \n",
       "2 0.880         \n",
       "3 0.792         \n",
       "4 0.880         \n",
       "5 0.512         \n",
       "6 0.616         "
      ]
     },
     "metadata": {},
     "output_type": "display_data"
    }
   ],
   "source": [
    "head(df_regression)"
   ]
  },
  {
   "cell_type": "code",
   "execution_count": 176,
   "metadata": {},
   "outputs": [
    {
     "data": {
      "text/html": [
       "<table class=\"dataframe\">\n",
       "<caption>A matrix: 6 × 6 of type dbl</caption>\n",
       "<thead>\n",
       "\t<tr><th></th><th scope=col>n</th><th scope=col>n_unique</th><th scope=col>regularity</th><th scope=col>stationarity</th><th scope=col>diversity</th><th scope=col>entropy</th></tr>\n",
       "</thead>\n",
       "<tbody>\n",
       "\t<tr><th scope=row>n</th><td> 1.00000000</td><td> 0.6980324</td><td> 0.06803549</td><td>-0.2232446</td><td> 0.7196192</td><td>-0.04865151</td></tr>\n",
       "\t<tr><th scope=row>n_unique</th><td> 0.69803239</td><td> 1.0000000</td><td>-0.55347060</td><td>-0.4010156</td><td> 0.7094309</td><td> 0.20760606</td></tr>\n",
       "\t<tr><th scope=row>regularity</th><td> 0.06803549</td><td>-0.5534706</td><td> 1.00000000</td><td> 0.4981226</td><td>-0.2735963</td><td>-0.47693589</td></tr>\n",
       "\t<tr><th scope=row>stationarity</th><td>-0.22324462</td><td>-0.4010156</td><td> 0.49812259</td><td> 1.0000000</td><td>-0.7295178</td><td>-0.84178797</td></tr>\n",
       "\t<tr><th scope=row>diversity</th><td> 0.71961925</td><td> 0.7094309</td><td>-0.27359626</td><td>-0.7295178</td><td> 1.0000000</td><td> 0.59333686</td></tr>\n",
       "\t<tr><th scope=row>entropy</th><td>-0.04865151</td><td> 0.2076061</td><td>-0.47693589</td><td>-0.8417880</td><td> 0.5933369</td><td> 1.00000000</td></tr>\n",
       "</tbody>\n",
       "</table>\n"
      ],
      "text/latex": [
       "A matrix: 6 × 6 of type dbl\n",
       "\\begin{tabular}{r|llllll}\n",
       "  & n & n\\_unique & regularity & stationarity & diversity & entropy\\\\\n",
       "\\hline\n",
       "\tn &  1.00000000 &  0.6980324 &  0.06803549 & -0.2232446 &  0.7196192 & -0.04865151\\\\\n",
       "\tn\\_unique &  0.69803239 &  1.0000000 & -0.55347060 & -0.4010156 &  0.7094309 &  0.20760606\\\\\n",
       "\tregularity &  0.06803549 & -0.5534706 &  1.00000000 &  0.4981226 & -0.2735963 & -0.47693589\\\\\n",
       "\tstationarity & -0.22324462 & -0.4010156 &  0.49812259 &  1.0000000 & -0.7295178 & -0.84178797\\\\\n",
       "\tdiversity &  0.71961925 &  0.7094309 & -0.27359626 & -0.7295178 &  1.0000000 &  0.59333686\\\\\n",
       "\tentropy & -0.04865151 &  0.2076061 & -0.47693589 & -0.8417880 &  0.5933369 &  1.00000000\\\\\n",
       "\\end{tabular}\n"
      ],
      "text/markdown": [
       "\n",
       "A matrix: 6 × 6 of type dbl\n",
       "\n",
       "| <!--/--> | n | n_unique | regularity | stationarity | diversity | entropy |\n",
       "|---|---|---|---|---|---|---|\n",
       "| n |  1.00000000 |  0.6980324 |  0.06803549 | -0.2232446 |  0.7196192 | -0.04865151 |\n",
       "| n_unique |  0.69803239 |  1.0000000 | -0.55347060 | -0.4010156 |  0.7094309 |  0.20760606 |\n",
       "| regularity |  0.06803549 | -0.5534706 |  1.00000000 |  0.4981226 | -0.2735963 | -0.47693589 |\n",
       "| stationarity | -0.22324462 | -0.4010156 |  0.49812259 |  1.0000000 | -0.7295178 | -0.84178797 |\n",
       "| diversity |  0.71961925 |  0.7094309 | -0.27359626 | -0.7295178 |  1.0000000 |  0.59333686 |\n",
       "| entropy | -0.04865151 |  0.2076061 | -0.47693589 | -0.8417880 |  0.5933369 |  1.00000000 |\n",
       "\n"
      ],
      "text/plain": [
       "             n           n_unique   regularity  stationarity diversity \n",
       "n             1.00000000  0.6980324  0.06803549 -0.2232446    0.7196192\n",
       "n_unique      0.69803239  1.0000000 -0.55347060 -0.4010156    0.7094309\n",
       "regularity    0.06803549 -0.5534706  1.00000000  0.4981226   -0.2735963\n",
       "stationarity -0.22324462 -0.4010156  0.49812259  1.0000000   -0.7295178\n",
       "diversity     0.71961925  0.7094309 -0.27359626 -0.7295178    1.0000000\n",
       "entropy      -0.04865151  0.2076061 -0.47693589 -0.8417880    0.5933369\n",
       "             entropy    \n",
       "n            -0.04865151\n",
       "n_unique      0.20760606\n",
       "regularity   -0.47693589\n",
       "stationarity -0.84178797\n",
       "diversity     0.59333686\n",
       "entropy       1.00000000"
      ]
     },
     "metadata": {},
     "output_type": "display_data"
    }
   ],
   "source": [
    "df_regression %>%\n",
    "    select(n, n_unique, regularity, stationarity, diversity, entropy) %>%\n",
    "    cor(use=\"complete.obs\", method=\"spearman\") "
   ]
  },
  {
   "cell_type": "code",
   "execution_count": 177,
   "metadata": {},
   "outputs": [],
   "source": [
    "if (df_type == \"next_cell\") {\n",
    "    fmla_m1 <- as.formula(\"entropy ~ regularity\")\n",
    "    fmla_m2 <- as.formula(\"entropy ~ stationarity\")\n",
    "    fmla_m3 <- as.formula(\"entropy ~ stationarity + regularity\")\n",
    "\n",
    "    fmla_m4 <- as.formula(\"entropy ~ diversity\")\n",
    "    fmla_m5 <- as.formula(\"entropy ~ stationarity + regularity + diversity\")\n",
    "} else {\n",
    "    fmla_m1 <- as.formula(\"entropy ~ regularity\")\n",
    "    fmla_m2 <- as.formula(\"entropy ~ diversity\")\n",
    "    fmla_m3 <- as.formula(\"entropy ~ regularity + diversity\")\n",
    "\n",
    "    fmla_m4 <- as.formula(\"entropy ~ diversity\")\n",
    "    fmla_m5 <- as.formula(\"entropy ~ regularity + diversity\")\n",
    "}"
   ]
  },
  {
   "cell_type": "code",
   "execution_count": 178,
   "metadata": {},
   "outputs": [],
   "source": [
    "m1 <- lm(fmla_m1, data = df_regression, na.action=na.exclude)\n",
    "df_regression$predictions_m1 <- predict(m1)\n",
    "\n",
    "m2 <- lm(fmla_m2, data = df_regression, na.action=na.exclude)\n",
    "df_regression$predictions_m2 <- predict(m2)\n",
    "\n",
    "m3 <- lm(fmla_m3, data = df_regression, na.action=na.exclude)\n",
    "df_regression$predictions_m3 <- predict(m3)\n",
    "\n",
    "m4 <- lm(fmla_m4, data = df_regression, na.action=na.exclude)\n",
    "df_regression$predictions_m4 <- predict(m4)\n",
    "\n",
    "m5 <- lm(fmla_m5, data = df_regression, na.action=na.exclude)\n",
    "df_regression$predictions_m5 <- predict(m5)"
   ]
  },
  {
   "cell_type": "code",
   "execution_count": 179,
   "metadata": {},
   "outputs": [],
   "source": [
    "MAPE <- function(predicted, actual) {\n",
    "    mean(abs((actual-predicted)/actual) * 100)\n",
    "}"
   ]
  },
  {
   "cell_type": "code",
   "execution_count": 180,
   "metadata": {},
   "outputs": [
    {
     "data": {
      "text/html": [
       "0.536332602111448"
      ],
      "text/latex": [
       "0.536332602111448"
      ],
      "text/markdown": [
       "0.536332602111448"
      ],
      "text/plain": [
       "[1] 0.5363326"
      ]
     },
     "metadata": {},
     "output_type": "display_data"
    },
    {
     "data": {
      "text/html": [
       "0.179476318735174"
      ],
      "text/latex": [
       "0.179476318735174"
      ],
      "text/markdown": [
       "0.179476318735174"
      ],
      "text/plain": [
       "[1] 0.1794763"
      ]
     },
     "metadata": {},
     "output_type": "display_data"
    },
    {
     "name": "stdout",
     "output_type": "stream",
     "text": [
      "\n",
      "\n",
      "=======================\n",
      "\n"
     ]
    },
    {
     "data": {
      "text/plain": [
       "\n",
       "Call:\n",
       "lm(formula = fmla_m1, data = df_regression, na.action = na.exclude)\n",
       "\n",
       "Residuals:\n",
       "     Min       1Q   Median       3Q      Max \n",
       "-0.24276 -0.13563 -0.05191  0.06435  0.50764 \n",
       "\n",
       "Coefficients:\n",
       "             Estimate Std. Error t value Pr(>|t|)    \n",
       "(Intercept)  3.968954   0.686597   5.781 2.98e-07 ***\n",
       "regularity  -0.037779   0.007144  -5.288 1.89e-06 ***\n",
       "---\n",
       "Signif. codes:  0 '***' 0.001 '**' 0.01 '*' 0.05 '.' 0.1 ' ' 1\n",
       "\n",
       "Residual standard error: 0.1825 on 59 degrees of freedom\n",
       "Multiple R-squared:  0.3216,\tAdjusted R-squared:  0.3101 \n",
       "F-statistic: 27.96 on 1 and 59 DF,  p-value: 1.891e-06\n"
      ]
     },
     "metadata": {},
     "output_type": "display_data"
    },
    {
     "name": "stdout",
     "output_type": "stream",
     "text": [
      "\n",
      "\n",
      "=======================\n",
      "\n",
      "\u001b[90m# A tibble: 2 x 5\u001b[39m\n",
      "  term        estimate std.error statistic     p.value\n",
      "  \u001b[3m\u001b[90m<chr>\u001b[39m\u001b[23m          \u001b[3m\u001b[90m<dbl>\u001b[39m\u001b[23m     \u001b[3m\u001b[90m<dbl>\u001b[39m\u001b[23m     \u001b[3m\u001b[90m<dbl>\u001b[39m\u001b[23m       \u001b[3m\u001b[90m<dbl>\u001b[39m\u001b[23m\n",
      "\u001b[90m1\u001b[39m (Intercept)   3.97     0.687        5.78 0.000\u001b[4m0\u001b[24m\u001b[4m0\u001b[24m\u001b[4m0\u001b[24m298\n",
      "\u001b[90m2\u001b[39m regularity   -\u001b[31m0\u001b[39m\u001b[31m.\u001b[39m\u001b[31m0\u001b[39m\u001b[31m37\u001b[4m8\u001b[24m\u001b[39m   0.007\u001b[4m1\u001b[24m\u001b[4m4\u001b[24m     -\u001b[31m5\u001b[39m\u001b[31m.\u001b[39m\u001b[31m29\u001b[39m 0.000\u001b[4m0\u001b[24m\u001b[4m0\u001b[24m\u001b[4m1\u001b[24m89 \n",
      "\n",
      "\n",
      "=======================\n",
      "\n",
      "\u001b[90m# A tibble: 1 x 12\u001b[39m\n",
      "  r.squared adj.r.squared sigma statistic    p.value    df logLik   AIC   BIC\n",
      "      \u001b[3m\u001b[90m<dbl>\u001b[39m\u001b[23m         \u001b[3m\u001b[90m<dbl>\u001b[39m\u001b[23m \u001b[3m\u001b[90m<dbl>\u001b[39m\u001b[23m     \u001b[3m\u001b[90m<dbl>\u001b[39m\u001b[23m      \u001b[3m\u001b[90m<dbl>\u001b[39m\u001b[23m \u001b[3m\u001b[90m<dbl>\u001b[39m\u001b[23m  \u001b[3m\u001b[90m<dbl>\u001b[39m\u001b[23m \u001b[3m\u001b[90m<dbl>\u001b[39m\u001b[23m \u001b[3m\u001b[90m<dbl>\u001b[39m\u001b[23m\n",
      "\u001b[90m1\u001b[39m     0.322         0.310 0.182      28.0 0.000\u001b[4m0\u001b[24m\u001b[4m0\u001b[24m\u001b[4m1\u001b[24m89     1   18.2 -\u001b[31m30\u001b[39m\u001b[31m.\u001b[39m\u001b[31m5\u001b[39m -\u001b[31m24\u001b[39m\u001b[31m.\u001b[39m\u001b[31m1\u001b[39m\n",
      "\u001b[90m# ... with 3 more variables: deviance <dbl>, df.residual <int>, nobs <int>\u001b[39m\n",
      "\n",
      "\n",
      "=======================\n",
      "\n"
     ]
    },
    {
     "data": {
      "text/html": [
       "<table class=\"dataframe\">\n",
       "<caption>A matrix: 2 × 2 of type dbl</caption>\n",
       "<thead>\n",
       "\t<tr><th></th><th scope=col>t value</th><th scope=col>Pr(&gt;|t|)</th></tr>\n",
       "</thead>\n",
       "<tbody>\n",
       "\t<tr><th scope=row>(Intercept)</th><td> 5.780615</td><td>2.981522e-07</td></tr>\n",
       "\t<tr><th scope=row>regularity</th><td>-5.288103</td><td>1.891134e-06</td></tr>\n",
       "</tbody>\n",
       "</table>\n"
      ],
      "text/latex": [
       "A matrix: 2 × 2 of type dbl\n",
       "\\begin{tabular}{r|ll}\n",
       "  & t value & Pr(>\\textbar{}t\\textbar{})\\\\\n",
       "\\hline\n",
       "\t(Intercept) &  5.780615 & 2.981522e-07\\\\\n",
       "\tregularity & -5.288103 & 1.891134e-06\\\\\n",
       "\\end{tabular}\n"
      ],
      "text/markdown": [
       "\n",
       "A matrix: 2 × 2 of type dbl\n",
       "\n",
       "| <!--/--> | t value | Pr(&gt;|t|) |\n",
       "|---|---|---|\n",
       "| (Intercept) |  5.780615 | 2.981522e-07 |\n",
       "| regularity | -5.288103 | 1.891134e-06 |\n",
       "\n"
      ],
      "text/plain": [
       "            t value   Pr(>|t|)    \n",
       "(Intercept)  5.780615 2.981522e-07\n",
       "regularity  -5.288103 1.891134e-06"
      ]
     },
     "metadata": {},
     "output_type": "display_data"
    }
   ],
   "source": [
    "sigma(m1) / mean(df_regression$entropy)\n",
    "RMSE(df_regression$predictions_m1, df_regression$entropy)\n",
    "cat(\"\\n\\n=======================\\n\\n\")\n",
    "summary(m1)\n",
    "cat(\"\\n\\n=======================\\n\\n\")\n",
    "print(tidy(m1))\n",
    "cat(\"\\n\\n=======================\\n\\n\")\n",
    "print(glance(m1))\n",
    "cat(\"\\n\\n=======================\\n\\n\")\n",
    "coef(summary(m1))[, c(\"t value\",\"Pr(>|t|)\")]"
   ]
  },
  {
   "cell_type": "code",
   "execution_count": 181,
   "metadata": {},
   "outputs": [
    {
     "data": {
      "text/html": [
       "0.317017350455047"
      ],
      "text/latex": [
       "0.317017350455047"
      ],
      "text/markdown": [
       "0.317017350455047"
      ],
      "text/plain": [
       "[1] 0.3170174"
      ]
     },
     "metadata": {},
     "output_type": "display_data"
    },
    {
     "data": {
      "text/html": [
       "0.10608549025522"
      ],
      "text/latex": [
       "0.10608549025522"
      ],
      "text/markdown": [
       "0.10608549025522"
      ],
      "text/plain": [
       "[1] 0.1060855"
      ]
     },
     "metadata": {},
     "output_type": "display_data"
    },
    {
     "name": "stdout",
     "output_type": "stream",
     "text": [
      "\n",
      "\n",
      "=======================\n",
      "\n"
     ]
    },
    {
     "data": {
      "text/plain": [
       "\n",
       "Call:\n",
       "lm(formula = fmla_m2, data = df_regression, na.action = na.exclude)\n",
       "\n",
       "Residuals:\n",
       "     Min       1Q   Median       3Q      Max \n",
       "-0.30089 -0.07170 -0.01871  0.05151  0.35803 \n",
       "\n",
       "Coefficients:\n",
       "              Estimate Std. Error t value Pr(>|t|)    \n",
       "(Intercept)   2.476096   0.155601   15.91   <2e-16 ***\n",
       "stationarity -0.024132   0.001751  -13.78   <2e-16 ***\n",
       "---\n",
       "Signif. codes:  0 '***' 0.001 '**' 0.01 '*' 0.05 '.' 0.1 ' ' 1\n",
       "\n",
       "Residual standard error: 0.1079 on 59 degrees of freedom\n",
       "Multiple R-squared:  0.763,\tAdjusted R-squared:  0.7589 \n",
       "F-statistic: 189.9 on 1 and 59 DF,  p-value: < 2.2e-16\n"
      ]
     },
     "metadata": {},
     "output_type": "display_data"
    },
    {
     "name": "stdout",
     "output_type": "stream",
     "text": [
      "\n",
      "\n",
      "=======================\n",
      "\n",
      "\u001b[90m# A tibble: 2 x 5\u001b[39m\n",
      "  term         estimate std.error statistic  p.value\n",
      "  \u001b[3m\u001b[90m<chr>\u001b[39m\u001b[23m           \u001b[3m\u001b[90m<dbl>\u001b[39m\u001b[23m     \u001b[3m\u001b[90m<dbl>\u001b[39m\u001b[23m     \u001b[3m\u001b[90m<dbl>\u001b[39m\u001b[23m    \u001b[3m\u001b[90m<dbl>\u001b[39m\u001b[23m\n",
      "\u001b[90m1\u001b[39m (Intercept)    2.48     0.156        15.9 5.15\u001b[90me\u001b[39m\u001b[31m-23\u001b[39m\n",
      "\u001b[90m2\u001b[39m stationarity  -\u001b[31m0\u001b[39m\u001b[31m.\u001b[39m\u001b[31m0\u001b[39m\u001b[31m24\u001b[4m1\u001b[24m\u001b[39m   0.001\u001b[4m7\u001b[24m\u001b[4m5\u001b[24m     -\u001b[31m13\u001b[39m\u001b[31m.\u001b[39m\u001b[31m8\u001b[39m 4.25\u001b[90me\u001b[39m\u001b[31m-20\u001b[39m\n",
      "\n",
      "\n",
      "=======================\n",
      "\n",
      "\u001b[90m# A tibble: 1 x 12\u001b[39m\n",
      "  r.squared adj.r.squared sigma statistic  p.value    df logLik   AIC   BIC\n",
      "      \u001b[3m\u001b[90m<dbl>\u001b[39m\u001b[23m         \u001b[3m\u001b[90m<dbl>\u001b[39m\u001b[23m \u001b[3m\u001b[90m<dbl>\u001b[39m\u001b[23m     \u001b[3m\u001b[90m<dbl>\u001b[39m\u001b[23m    \u001b[3m\u001b[90m<dbl>\u001b[39m\u001b[23m \u001b[3m\u001b[90m<dbl>\u001b[39m\u001b[23m  \u001b[3m\u001b[90m<dbl>\u001b[39m\u001b[23m \u001b[3m\u001b[90m<dbl>\u001b[39m\u001b[23m \u001b[3m\u001b[90m<dbl>\u001b[39m\u001b[23m\n",
      "\u001b[90m1\u001b[39m     0.763         0.759 0.108      190. 4.25\u001b[90me\u001b[39m\u001b[31m-20\u001b[39m     1   50.3 -\u001b[31m94\u001b[39m\u001b[31m.\u001b[39m\u001b[31m6\u001b[39m -\u001b[31m88\u001b[39m\u001b[31m.\u001b[39m\u001b[31m3\u001b[39m\n",
      "\u001b[90m# ... with 3 more variables: deviance <dbl>, df.residual <int>, nobs <int>\u001b[39m\n",
      "\n",
      "\n",
      "=======================\n",
      "\n"
     ]
    },
    {
     "data": {
      "text/html": [
       "<table class=\"dataframe\">\n",
       "<caption>A matrix: 2 × 2 of type dbl</caption>\n",
       "<thead>\n",
       "\t<tr><th></th><th scope=col>t value</th><th scope=col>Pr(&gt;|t|)</th></tr>\n",
       "</thead>\n",
       "<tbody>\n",
       "\t<tr><th scope=row>(Intercept)</th><td> 15.91314</td><td>5.149021e-23</td></tr>\n",
       "\t<tr><th scope=row>stationarity</th><td>-13.78078</td><td>4.247478e-20</td></tr>\n",
       "</tbody>\n",
       "</table>\n"
      ],
      "text/latex": [
       "A matrix: 2 × 2 of type dbl\n",
       "\\begin{tabular}{r|ll}\n",
       "  & t value & Pr(>\\textbar{}t\\textbar{})\\\\\n",
       "\\hline\n",
       "\t(Intercept) &  15.91314 & 5.149021e-23\\\\\n",
       "\tstationarity & -13.78078 & 4.247478e-20\\\\\n",
       "\\end{tabular}\n"
      ],
      "text/markdown": [
       "\n",
       "A matrix: 2 × 2 of type dbl\n",
       "\n",
       "| <!--/--> | t value | Pr(&gt;|t|) |\n",
       "|---|---|---|\n",
       "| (Intercept) |  15.91314 | 5.149021e-23 |\n",
       "| stationarity | -13.78078 | 4.247478e-20 |\n",
       "\n"
      ],
      "text/plain": [
       "             t value   Pr(>|t|)    \n",
       "(Intercept)   15.91314 5.149021e-23\n",
       "stationarity -13.78078 4.247478e-20"
      ]
     },
     "metadata": {},
     "output_type": "display_data"
    }
   ],
   "source": [
    "sigma(m2) / mean(df_regression$entropy)\n",
    "RMSE(df_regression$predictions_m2, df_regression$entropy)\n",
    "cat(\"\\n\\n=======================\\n\\n\")\n",
    "summary(m2)\n",
    "cat(\"\\n\\n=======================\\n\\n\")\n",
    "print(tidy(m2))\n",
    "cat(\"\\n\\n=======================\\n\\n\")\n",
    "print(glance(m2))\n",
    "cat(\"\\n\\n=======================\\n\\n\")\n",
    "coef(summary(m2))[, c(\"t value\",\"Pr(>|t|)\")]"
   ]
  },
  {
   "cell_type": "code",
   "execution_count": 182,
   "metadata": {},
   "outputs": [
    {
     "data": {
      "text/html": [
       "0.314909951815326"
      ],
      "text/latex": [
       "0.314909951815326"
      ],
      "text/markdown": [
       "0.314909951815326"
      ],
      "text/plain": [
       "[1] 0.31491"
      ]
     },
     "metadata": {},
     "output_type": "display_data"
    },
    {
     "data": {
      "text/html": [
       "0.10448340858174"
      ],
      "text/latex": [
       "0.10448340858174"
      ],
      "text/markdown": [
       "0.10448340858174"
      ],
      "text/plain": [
       "[1] 0.1044834"
      ]
     },
     "metadata": {},
     "output_type": "display_data"
    },
    {
     "name": "stdout",
     "output_type": "stream",
     "text": [
      "\n",
      "\n",
      "=======================\n",
      "\n"
     ]
    },
    {
     "data": {
      "text/plain": [
       "\n",
       "Call:\n",
       "lm(formula = fmla_m3, data = df_regression, na.action = na.exclude)\n",
       "\n",
       "Residuals:\n",
       "     Min       1Q   Median       3Q      Max \n",
       "-0.25669 -0.07742 -0.00830  0.04110  0.32294 \n",
       "\n",
       "Coefficients:\n",
       "              Estimate Std. Error t value Pr(>|t|)    \n",
       "(Intercept)   2.989577   0.413520   7.230 1.21e-09 ***\n",
       "stationarity -0.022516   0.002117 -10.637 3.00e-15 ***\n",
       "regularity   -0.006834   0.005105  -1.339    0.186    \n",
       "---\n",
       "Signif. codes:  0 '***' 0.001 '**' 0.01 '*' 0.05 '.' 0.1 ' ' 1\n",
       "\n",
       "Residual standard error: 0.1072 on 58 degrees of freedom\n",
       "Multiple R-squared:  0.7701,\tAdjusted R-squared:  0.7621 \n",
       "F-statistic: 97.13 on 2 and 58 DF,  p-value: < 2.2e-16\n"
      ]
     },
     "metadata": {},
     "output_type": "display_data"
    },
    {
     "name": "stdout",
     "output_type": "stream",
     "text": [
      "\n",
      "\n",
      "=======================\n",
      "\n",
      "\u001b[90m# A tibble: 3 x 5\u001b[39m\n",
      "  term         estimate std.error statistic  p.value\n",
      "  \u001b[3m\u001b[90m<chr>\u001b[39m\u001b[23m           \u001b[3m\u001b[90m<dbl>\u001b[39m\u001b[23m     \u001b[3m\u001b[90m<dbl>\u001b[39m\u001b[23m     \u001b[3m\u001b[90m<dbl>\u001b[39m\u001b[23m    \u001b[3m\u001b[90m<dbl>\u001b[39m\u001b[23m\n",
      "\u001b[90m1\u001b[39m (Intercept)   2.99      0.414        7.23 1.21\u001b[90me\u001b[39m\u001b[31m- 9\u001b[39m\n",
      "\u001b[90m2\u001b[39m stationarity -\u001b[31m0\u001b[39m\u001b[31m.\u001b[39m\u001b[31m0\u001b[39m\u001b[31m22\u001b[4m5\u001b[24m\u001b[39m    0.002\u001b[4m1\u001b[24m\u001b[4m2\u001b[24m    -\u001b[31m10\u001b[39m\u001b[31m.\u001b[39m\u001b[31m6\u001b[39m  3.00\u001b[90me\u001b[39m\u001b[31m-15\u001b[39m\n",
      "\u001b[90m3\u001b[39m regularity   -\u001b[31m0\u001b[39m\u001b[31m.\u001b[39m\u001b[31m00\u001b[39m\u001b[31m6\u001b[4m8\u001b[24m\u001b[4m3\u001b[24m\u001b[39m   0.005\u001b[4m1\u001b[24m\u001b[4m0\u001b[24m     -\u001b[31m1\u001b[39m\u001b[31m.\u001b[39m\u001b[31m34\u001b[39m 1.86\u001b[90me\u001b[39m\u001b[31m- 1\u001b[39m\n",
      "\n",
      "\n",
      "=======================\n",
      "\n",
      "\u001b[90m# A tibble: 1 x 12\u001b[39m\n",
      "  r.squared adj.r.squared sigma statistic  p.value    df logLik   AIC   BIC\n",
      "      \u001b[3m\u001b[90m<dbl>\u001b[39m\u001b[23m         \u001b[3m\u001b[90m<dbl>\u001b[39m\u001b[23m \u001b[3m\u001b[90m<dbl>\u001b[39m\u001b[23m     \u001b[3m\u001b[90m<dbl>\u001b[39m\u001b[23m    \u001b[3m\u001b[90m<dbl>\u001b[39m\u001b[23m \u001b[3m\u001b[90m<dbl>\u001b[39m\u001b[23m  \u001b[3m\u001b[90m<dbl>\u001b[39m\u001b[23m \u001b[3m\u001b[90m<dbl>\u001b[39m\u001b[23m \u001b[3m\u001b[90m<dbl>\u001b[39m\u001b[23m\n",
      "\u001b[90m1\u001b[39m     0.770         0.762 0.107      97.1 3.06\u001b[90me\u001b[39m\u001b[31m-19\u001b[39m     2   51.2 -\u001b[31m94\u001b[39m\u001b[31m.\u001b[39m\u001b[31m5\u001b[39m -\u001b[31m86\u001b[39m\u001b[31m.\u001b[39m\u001b[31m0\u001b[39m\n",
      "\u001b[90m# ... with 3 more variables: deviance <dbl>, df.residual <int>, nobs <int>\u001b[39m\n",
      "\n",
      "\n",
      "=======================\n",
      "\n"
     ]
    },
    {
     "data": {
      "text/html": [
       "<table class=\"dataframe\">\n",
       "<caption>A matrix: 3 × 2 of type dbl</caption>\n",
       "<thead>\n",
       "\t<tr><th></th><th scope=col>t value</th><th scope=col>Pr(&gt;|t|)</th></tr>\n",
       "</thead>\n",
       "<tbody>\n",
       "\t<tr><th scope=row>(Intercept)</th><td>  7.229589</td><td>1.205748e-09</td></tr>\n",
       "\t<tr><th scope=row>stationarity</th><td>-10.636657</td><td>2.998582e-15</td></tr>\n",
       "\t<tr><th scope=row>regularity</th><td> -1.338770</td><td>1.858693e-01</td></tr>\n",
       "</tbody>\n",
       "</table>\n"
      ],
      "text/latex": [
       "A matrix: 3 × 2 of type dbl\n",
       "\\begin{tabular}{r|ll}\n",
       "  & t value & Pr(>\\textbar{}t\\textbar{})\\\\\n",
       "\\hline\n",
       "\t(Intercept) &   7.229589 & 1.205748e-09\\\\\n",
       "\tstationarity & -10.636657 & 2.998582e-15\\\\\n",
       "\tregularity &  -1.338770 & 1.858693e-01\\\\\n",
       "\\end{tabular}\n"
      ],
      "text/markdown": [
       "\n",
       "A matrix: 3 × 2 of type dbl\n",
       "\n",
       "| <!--/--> | t value | Pr(&gt;|t|) |\n",
       "|---|---|---|\n",
       "| (Intercept) |   7.229589 | 1.205748e-09 |\n",
       "| stationarity | -10.636657 | 2.998582e-15 |\n",
       "| regularity |  -1.338770 | 1.858693e-01 |\n",
       "\n"
      ],
      "text/plain": [
       "             t value    Pr(>|t|)    \n",
       "(Intercept)    7.229589 1.205748e-09\n",
       "stationarity -10.636657 2.998582e-15\n",
       "regularity    -1.338770 1.858693e-01"
      ]
     },
     "metadata": {},
     "output_type": "display_data"
    }
   ],
   "source": [
    "sigma(m3) / mean(df_regression$entropy)\n",
    "RMSE(df_regression$predictions_m3, df_regression$entropy)\n",
    "cat(\"\\n\\n=======================\\n\\n\")\n",
    "summary(m3)\n",
    "cat(\"\\n\\n=======================\\n\\n\")\n",
    "print(tidy(m3))\n",
    "cat(\"\\n\\n=======================\\n\\n\")\n",
    "print(glance(m3))\n",
    "cat(\"\\n\\n=======================\\n\\n\")\n",
    "coef(summary(m3))[, c(\"t value\",\"Pr(>|t|)\")]"
   ]
  },
  {
   "cell_type": "code",
   "execution_count": 183,
   "metadata": {},
   "outputs": [
    {
     "data": {
      "text/html": [
       "0.589149754477429"
      ],
      "text/latex": [
       "0.589149754477429"
      ],
      "text/markdown": [
       "0.589149754477429"
      ],
      "text/plain": [
       "[1] 0.5891498"
      ]
     },
     "metadata": {},
     "output_type": "display_data"
    },
    {
     "data": {
      "text/html": [
       "0.197150851358033"
      ],
      "text/latex": [
       "0.197150851358033"
      ],
      "text/markdown": [
       "0.197150851358033"
      ],
      "text/plain": [
       "[1] 0.1971509"
      ]
     },
     "metadata": {},
     "output_type": "display_data"
    },
    {
     "name": "stdout",
     "output_type": "stream",
     "text": [
      "\n",
      "\n",
      "=======================\n",
      "\n"
     ]
    },
    {
     "data": {
      "text/plain": [
       "\n",
       "Call:\n",
       "lm(formula = fmla_m4, data = df_regression, na.action = na.exclude)\n",
       "\n",
       "Residuals:\n",
       "     Min       1Q   Median       3Q      Max \n",
       "-0.29436 -0.14361 -0.02785  0.06014  0.69112 \n",
       "\n",
       "Coefficients:\n",
       "            Estimate Std. Error t value Pr(>|t|)    \n",
       "(Intercept)  -0.0468     0.1101  -0.425 0.672306    \n",
       "diversity     0.4456     0.1233   3.615 0.000622 ***\n",
       "---\n",
       "Signif. codes:  0 '***' 0.001 '**' 0.01 '*' 0.05 '.' 0.1 ' ' 1\n",
       "\n",
       "Residual standard error: 0.2005 on 59 degrees of freedom\n",
       "Multiple R-squared:  0.1814,\tAdjusted R-squared:  0.1675 \n",
       "F-statistic: 13.07 on 1 and 59 DF,  p-value: 0.0006222\n"
      ]
     },
     "metadata": {},
     "output_type": "display_data"
    },
    {
     "name": "stdout",
     "output_type": "stream",
     "text": [
      "\n",
      "\n",
      "=======================\n",
      "\n",
      "\u001b[90m# A tibble: 2 x 5\u001b[39m\n",
      "  term        estimate std.error statistic  p.value\n",
      "  \u001b[3m\u001b[90m<chr>\u001b[39m\u001b[23m          \u001b[3m\u001b[90m<dbl>\u001b[39m\u001b[23m     \u001b[3m\u001b[90m<dbl>\u001b[39m\u001b[23m     \u001b[3m\u001b[90m<dbl>\u001b[39m\u001b[23m    \u001b[3m\u001b[90m<dbl>\u001b[39m\u001b[23m\n",
      "\u001b[90m1\u001b[39m (Intercept)  -\u001b[31m0\u001b[39m\u001b[31m.\u001b[39m\u001b[31m0\u001b[39m\u001b[31m46\u001b[4m8\u001b[24m\u001b[39m     0.110    -\u001b[31m0\u001b[39m\u001b[31m.\u001b[39m\u001b[31m425\u001b[39m 0.672   \n",
      "\u001b[90m2\u001b[39m diversity     0.446      0.123     3.62  0.000\u001b[4m6\u001b[24m\u001b[4m2\u001b[24m\u001b[4m2\u001b[24m\n",
      "\n",
      "\n",
      "=======================\n",
      "\n",
      "\u001b[90m# A tibble: 1 x 12\u001b[39m\n",
      "  r.squared adj.r.squared sigma statistic  p.value    df logLik   AIC   BIC\n",
      "      \u001b[3m\u001b[90m<dbl>\u001b[39m\u001b[23m         \u001b[3m\u001b[90m<dbl>\u001b[39m\u001b[23m \u001b[3m\u001b[90m<dbl>\u001b[39m\u001b[23m     \u001b[3m\u001b[90m<dbl>\u001b[39m\u001b[23m    \u001b[3m\u001b[90m<dbl>\u001b[39m\u001b[23m \u001b[3m\u001b[90m<dbl>\u001b[39m\u001b[23m  \u001b[3m\u001b[90m<dbl>\u001b[39m\u001b[23m \u001b[3m\u001b[90m<dbl>\u001b[39m\u001b[23m \u001b[3m\u001b[90m<dbl>\u001b[39m\u001b[23m\n",
      "\u001b[90m1\u001b[39m     0.181         0.167 0.200      13.1 0.000\u001b[4m6\u001b[24m\u001b[4m2\u001b[24m\u001b[4m2\u001b[24m     1   12.5 -\u001b[31m19\u001b[39m\u001b[31m.\u001b[39m\u001b[31m0\u001b[39m -\u001b[31m12\u001b[39m\u001b[31m.\u001b[39m\u001b[31m7\u001b[39m\n",
      "\u001b[90m# ... with 3 more variables: deviance <dbl>, df.residual <int>, nobs <int>\u001b[39m\n",
      "\n",
      "\n",
      "=======================\n",
      "\n"
     ]
    },
    {
     "data": {
      "text/html": [
       "<table class=\"dataframe\">\n",
       "<caption>A matrix: 2 × 2 of type dbl</caption>\n",
       "<thead>\n",
       "\t<tr><th></th><th scope=col>t value</th><th scope=col>Pr(&gt;|t|)</th></tr>\n",
       "</thead>\n",
       "<tbody>\n",
       "\t<tr><th scope=row>(Intercept)</th><td>-0.4251059</td><td>0.6723059548</td></tr>\n",
       "\t<tr><th scope=row>diversity</th><td> 3.6152946</td><td>0.0006222334</td></tr>\n",
       "</tbody>\n",
       "</table>\n"
      ],
      "text/latex": [
       "A matrix: 2 × 2 of type dbl\n",
       "\\begin{tabular}{r|ll}\n",
       "  & t value & Pr(>\\textbar{}t\\textbar{})\\\\\n",
       "\\hline\n",
       "\t(Intercept) & -0.4251059 & 0.6723059548\\\\\n",
       "\tdiversity &  3.6152946 & 0.0006222334\\\\\n",
       "\\end{tabular}\n"
      ],
      "text/markdown": [
       "\n",
       "A matrix: 2 × 2 of type dbl\n",
       "\n",
       "| <!--/--> | t value | Pr(&gt;|t|) |\n",
       "|---|---|---|\n",
       "| (Intercept) | -0.4251059 | 0.6723059548 |\n",
       "| diversity |  3.6152946 | 0.0006222334 |\n",
       "\n"
      ],
      "text/plain": [
       "            t value    Pr(>|t|)    \n",
       "(Intercept) -0.4251059 0.6723059548\n",
       "diversity    3.6152946 0.0006222334"
      ]
     },
     "metadata": {},
     "output_type": "display_data"
    }
   ],
   "source": [
    "sigma(m4) / mean(df_regression$entropy)\n",
    "RMSE(df_regression$predictions_m4, df_regression$entropy)\n",
    "cat(\"\\n\\n=======================\\n\\n\")\n",
    "summary(m4)\n",
    "cat(\"\\n\\n=======================\\n\\n\")\n",
    "print(tidy(m4))\n",
    "cat(\"\\n\\n=======================\\n\\n\")\n",
    "print(glance(m4))\n",
    "cat(\"\\n\\n=======================\\n\\n\")\n",
    "coef(summary(m4))[, c(\"t value\",\"Pr(>|t|)\")]"
   ]
  },
  {
   "cell_type": "code",
   "execution_count": 184,
   "metadata": {},
   "outputs": [
    {
     "data": {
      "text/html": [
       "0.31757014037875"
      ],
      "text/latex": [
       "0.31757014037875"
      ],
      "text/markdown": [
       "0.31757014037875"
      ],
      "text/plain": [
       "[1] 0.3175701"
      ]
     },
     "metadata": {},
     "output_type": "display_data"
    },
    {
     "data": {
      "text/html": [
       "0.104453750626289"
      ],
      "text/latex": [
       "0.104453750626289"
      ],
      "text/markdown": [
       "0.104453750626289"
      ],
      "text/plain": [
       "[1] 0.1044538"
      ]
     },
     "metadata": {},
     "output_type": "display_data"
    },
    {
     "name": "stdout",
     "output_type": "stream",
     "text": [
      "\n",
      "\n",
      "=======================\n",
      "\n"
     ]
    },
    {
     "data": {
      "text/plain": [
       "\n",
       "Call:\n",
       "lm(formula = fmla_m5, data = df_regression, na.action = na.exclude)\n",
       "\n",
       "Residuals:\n",
       "     Min       1Q   Median       3Q      Max \n",
       "-0.25744 -0.07699 -0.00744  0.04061  0.32143 \n",
       "\n",
       "Coefficients:\n",
       "              Estimate Std. Error t value Pr(>|t|)    \n",
       "(Intercept)   3.015246   0.440741   6.841 5.85e-09 ***\n",
       "stationarity -0.022708   0.002385  -9.521 2.20e-13 ***\n",
       "regularity   -0.006800   0.005152  -1.320    0.192    \n",
       "diversity    -0.013831   0.076869  -0.180    0.858    \n",
       "---\n",
       "Signif. codes:  0 '***' 0.001 '**' 0.01 '*' 0.05 '.' 0.1 ' ' 1\n",
       "\n",
       "Residual standard error: 0.1081 on 57 degrees of freedom\n",
       "Multiple R-squared:  0.7702,\tAdjusted R-squared:  0.7581 \n",
       "F-statistic: 63.68 on 3 and 57 DF,  p-value: < 2.2e-16\n"
      ]
     },
     "metadata": {},
     "output_type": "display_data"
    },
    {
     "name": "stdout",
     "output_type": "stream",
     "text": [
      "\n",
      "\n",
      "=======================\n",
      "\n",
      "\u001b[90m# A tibble: 4 x 5\u001b[39m\n",
      "  term         estimate std.error statistic  p.value\n",
      "  \u001b[3m\u001b[90m<chr>\u001b[39m\u001b[23m           \u001b[3m\u001b[90m<dbl>\u001b[39m\u001b[23m     \u001b[3m\u001b[90m<dbl>\u001b[39m\u001b[23m     \u001b[3m\u001b[90m<dbl>\u001b[39m\u001b[23m    \u001b[3m\u001b[90m<dbl>\u001b[39m\u001b[23m\n",
      "\u001b[90m1\u001b[39m (Intercept)   3.02      0.441       6.84  5.85\u001b[90me\u001b[39m\u001b[31m- 9\u001b[39m\n",
      "\u001b[90m2\u001b[39m stationarity -\u001b[31m0\u001b[39m\u001b[31m.\u001b[39m\u001b[31m0\u001b[39m\u001b[31m22\u001b[4m7\u001b[24m\u001b[39m    0.002\u001b[4m3\u001b[24m\u001b[4m9\u001b[24m    -\u001b[31m9\u001b[39m\u001b[31m.\u001b[39m\u001b[31m52\u001b[39m  2.20\u001b[90me\u001b[39m\u001b[31m-13\u001b[39m\n",
      "\u001b[90m3\u001b[39m regularity   -\u001b[31m0\u001b[39m\u001b[31m.\u001b[39m\u001b[31m00\u001b[39m\u001b[31m6\u001b[4m8\u001b[24m\u001b[4m0\u001b[24m\u001b[39m   0.005\u001b[4m1\u001b[24m\u001b[4m5\u001b[24m    -\u001b[31m1\u001b[39m\u001b[31m.\u001b[39m\u001b[31m32\u001b[39m  1.92\u001b[90me\u001b[39m\u001b[31m- 1\u001b[39m\n",
      "\u001b[90m4\u001b[39m diversity    -\u001b[31m0\u001b[39m\u001b[31m.\u001b[39m\u001b[31m0\u001b[39m\u001b[31m13\u001b[4m8\u001b[24m\u001b[39m    0.076\u001b[4m9\u001b[24m     -\u001b[31m0\u001b[39m\u001b[31m.\u001b[39m\u001b[31m180\u001b[39m 8.58\u001b[90me\u001b[39m\u001b[31m- 1\u001b[39m\n",
      "\n",
      "\n",
      "=======================\n",
      "\n",
      "\u001b[90m# A tibble: 1 x 12\u001b[39m\n",
      "  r.squared adj.r.squared sigma statistic  p.value    df logLik   AIC   BIC\n",
      "      \u001b[3m\u001b[90m<dbl>\u001b[39m\u001b[23m         \u001b[3m\u001b[90m<dbl>\u001b[39m\u001b[23m \u001b[3m\u001b[90m<dbl>\u001b[39m\u001b[23m     \u001b[3m\u001b[90m<dbl>\u001b[39m\u001b[23m    \u001b[3m\u001b[90m<dbl>\u001b[39m\u001b[23m \u001b[3m\u001b[90m<dbl>\u001b[39m\u001b[23m  \u001b[3m\u001b[90m<dbl>\u001b[39m\u001b[23m \u001b[3m\u001b[90m<dbl>\u001b[39m\u001b[23m \u001b[3m\u001b[90m<dbl>\u001b[39m\u001b[23m\n",
      "\u001b[90m1\u001b[39m     0.770         0.758 0.108      63.7 3.38\u001b[90me\u001b[39m\u001b[31m-18\u001b[39m     3   51.2 -\u001b[31m92\u001b[39m\u001b[31m.\u001b[39m\u001b[31m5\u001b[39m -\u001b[31m81\u001b[39m\u001b[31m.\u001b[39m\u001b[31m9\u001b[39m\n",
      "\u001b[90m# ... with 3 more variables: deviance <dbl>, df.residual <int>, nobs <int>\u001b[39m\n",
      "\n",
      "\n",
      "=======================\n",
      "\n"
     ]
    },
    {
     "data": {
      "text/html": [
       "<table class=\"dataframe\">\n",
       "<caption>A matrix: 4 × 2 of type dbl</caption>\n",
       "<thead>\n",
       "\t<tr><th></th><th scope=col>t value</th><th scope=col>Pr(&gt;|t|)</th></tr>\n",
       "</thead>\n",
       "<tbody>\n",
       "\t<tr><th scope=row>(Intercept)</th><td> 6.8413044</td><td>5.846626e-09</td></tr>\n",
       "\t<tr><th scope=row>stationarity</th><td>-9.5210622</td><td>2.201620e-13</td></tr>\n",
       "\t<tr><th scope=row>regularity</th><td>-1.3200235</td><td>1.921039e-01</td></tr>\n",
       "\t<tr><th scope=row>diversity</th><td>-0.1799251</td><td>8.578495e-01</td></tr>\n",
       "</tbody>\n",
       "</table>\n"
      ],
      "text/latex": [
       "A matrix: 4 × 2 of type dbl\n",
       "\\begin{tabular}{r|ll}\n",
       "  & t value & Pr(>\\textbar{}t\\textbar{})\\\\\n",
       "\\hline\n",
       "\t(Intercept) &  6.8413044 & 5.846626e-09\\\\\n",
       "\tstationarity & -9.5210622 & 2.201620e-13\\\\\n",
       "\tregularity & -1.3200235 & 1.921039e-01\\\\\n",
       "\tdiversity & -0.1799251 & 8.578495e-01\\\\\n",
       "\\end{tabular}\n"
      ],
      "text/markdown": [
       "\n",
       "A matrix: 4 × 2 of type dbl\n",
       "\n",
       "| <!--/--> | t value | Pr(&gt;|t|) |\n",
       "|---|---|---|\n",
       "| (Intercept) |  6.8413044 | 5.846626e-09 |\n",
       "| stationarity | -9.5210622 | 2.201620e-13 |\n",
       "| regularity | -1.3200235 | 1.921039e-01 |\n",
       "| diversity | -0.1799251 | 8.578495e-01 |\n",
       "\n"
      ],
      "text/plain": [
       "             t value    Pr(>|t|)    \n",
       "(Intercept)   6.8413044 5.846626e-09\n",
       "stationarity -9.5210622 2.201620e-13\n",
       "regularity   -1.3200235 1.921039e-01\n",
       "diversity    -0.1799251 8.578495e-01"
      ]
     },
     "metadata": {},
     "output_type": "display_data"
    }
   ],
   "source": [
    "sigma(m5) / mean(df_regression$entropy)\n",
    "RMSE(df_regression$predictions_m5, df_regression$entropy)\n",
    "cat(\"\\n\\n=======================\\n\\n\")\n",
    "summary(m5)\n",
    "cat(\"\\n\\n=======================\\n\\n\")\n",
    "print(tidy(m5))\n",
    "cat(\"\\n\\n=======================\\n\\n\")\n",
    "print(glance(m5))\n",
    "cat(\"\\n\\n=======================\\n\\n\")\n",
    "coef(summary(m5))[, c(\"t value\",\"Pr(>|t|)\")]"
   ]
  },
  {
   "cell_type": "code",
   "execution_count": 185,
   "metadata": {},
   "outputs": [],
   "source": [
    "predslm <- predict(m3, interval = \"confidence\")\n",
    "df_plot <- cbind(df_regression, predslm)\n"
   ]
  },
  {
   "cell_type": "code",
   "execution_count": 186,
   "metadata": {},
   "outputs": [],
   "source": [
    "predslm <- predict(m5, interval = \"confidence\")\n",
    "df_plot <- cbind(df_regression, predslm)"
   ]
  },
  {
   "cell_type": "code",
   "execution_count": 187,
   "metadata": {},
   "outputs": [
    {
     "name": "stderr",
     "output_type": "stream",
     "text": [
      "Saving 6.67 x 6.67 in image\n"
     ]
    },
    {
     "data": {
      "image/png": "[encoded data removed]",
      "text/plain": [
       "plot without title"
      ]
     },
     "metadata": {},
     "output_type": "display_data"
    }
   ],
   "source": [
    "max_lim <- max(max(df_regression$entropy), max(df_regression$predictions_m3))\n",
    "\n",
    "if (df_name == \"macaco\") {\n",
    "    alpha_ratio <- 1.0\n",
    "    pt_size <- 2\n",
    "} else {\n",
    "    alpha_ratio <- 0.7\n",
    "    pt_size <- 1.0\n",
    "}\n",
    "\n",
    "\n",
    "ggplot(df_plot, aes(x = predictions_m3, y = entropy)) +\n",
    "    geom_point(shape = 1, alpha = alpha_ratio, colour = 'blue', size = pt_size, position=\"jitter\") +\n",
    "    geom_ribbon(aes(ymin = lwr, ymax = upr), alpha = .15) +\n",
    "    geom_line(aes(y = fit), col = \"#318405\", linetype = \"dashed\", size = 1.0) +\n",
    "    #geom_point(data=df_outliers, shape=8, size=2, color = 'red') +\n",
    "  coord_equal(xlim=c(0, max_lim), ylim=c(0, max_lim)) +\n",
    "  theme_classic() +\n",
    "  theme(plot.title = element_text(hjust = 0.5), \n",
    "        text = element_text(size=22),\n",
    "        legend.justification = c(1, 0.01),\n",
    "        legend.position = c(0.98, 0.01)) +\n",
    "  labs(y = \"Predicted Entropy\", x = \"Actual Entropy\")\n",
    "\n",
    "    prefix <- \"images/RegressionBest\"\n",
    "    fname <- paste(prefix, df_name, df_type, \".pdf\", sep=\"_\")\n",
    "    ggsave(plot=last_plot(), filename = fname, device = \"pdf\")\n",
    "    embedFonts(fname)\n",
    "\n"
   ]
  },
  {
   "cell_type": "code",
   "execution_count": 188,
   "metadata": {},
   "outputs": [
    {
     "name": "stderr",
     "output_type": "stream",
     "text": [
      "Saving 6.67 x 6.67 in image\n"
     ]
    },
    {
     "data": {
      "image/png": "[encoded data removed]",
      "text/plain": [
       "plot without title"
      ]
     },
     "metadata": {},
     "output_type": "display_data"
    }
   ],
   "source": [
    "max_lim <- max(max(df_regression$entropy), max(df_regression$predictions_m5))\n",
    "\n",
    "if (df_name == \"macaco\") {\n",
    "    shp <- 19\n",
    "    alpha_ratio <- 0.6\n",
    "    pt_size <- 2\n",
    "} else {\n",
    "    shp <- 1\n",
    "    alpha_ratio <- 0.7\n",
    "    pt_size <- 1.0\n",
    "}\n",
    "\n",
    "\n",
    "ggplot(df_plot, aes(x = predictions_m5, y = entropy)) +\n",
    "    geom_point(shape = shp, alpha = alpha_ratio, colour = 'blue', size = pt_size, position=\"jitter\") +\n",
    "    geom_ribbon(aes(ymin = lwr, ymax = upr), alpha = .15) +\n",
    "    geom_line(aes(y = fit), col = \"#318405\", linetype = \"dashed\", size = 1.0) +\n",
    "    #geom_point(data=df_outliers, shape=8, size=2, color = 'red') +\n",
    "  coord_equal(xlim=c(0, max_lim), ylim=c(0, max_lim)) +\n",
    "  theme_classic() +\n",
    "  theme(plot.title = element_text(hjust = 0.5), \n",
    "        text = element_text(size=22),\n",
    "        legend.justification = c(1, 0.01),\n",
    "        legend.position = c(0.98, 0.01)) +\n",
    "  labs(y = \"Predicted Entropy\", x = \"Actual Entropy\")\n",
    "\n",
    "    prefix <- \"images/RegressionBestAllMetrics\"\n",
    "    fname <- paste(prefix, df_name, df_type, \".pdf\", sep=\"_\")\n",
    "    ggsave(plot=last_plot(), filename = fname, device = \"pdf\")\n",
    "    embedFonts(fname)\n",
    "\n"
   ]
  },
  {
   "cell_type": "code",
   "execution_count": null,
   "metadata": {},
   "outputs": [],
   "source": []
  }
 ],
 "metadata": {
  "kernelspec": {
   "display_name": "R",
   "language": "R",
   "name": "ir"
  },
  "language_info": {
   "codemirror_mode": "r",
   "file_extension": ".r",
   "mimetype": "text/x-r-source",
   "name": "R",
   "pygments_lexer": "r",
   "version": "3.6.1"
  }
 },
 "nbformat": 4,
 "nbformat_minor": 4
}
